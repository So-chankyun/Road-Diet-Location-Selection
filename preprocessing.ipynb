{
 "cells": [
  {
   "cell_type": "code",
   "execution_count": 1,
   "id": "4fde7c8f-29c3-4cbe-a3e9-8baf3ed5abdc",
   "metadata": {},
   "outputs": [],
   "source": [
    "import geopandas as gpd\n",
    "import folium\n",
    "from folium import Choropleth, Circle, Marker\n",
    "from folium.plugins import HeatMap, MarkerCluster\n",
    "import math\n",
    "import missingno as msno\n",
    "import matplotlib.pyplot as plt\n",
    "import pandas as pd\n",
    "import seaborn as qsns\n",
    "from matplotlib import font_manager, rc\n",
    "\n",
    "font_path = r'C:/Users/user/NanumFontSetup_TTF_ALL/NanumGothic.ttf'\n",
    "font_name = font_manager.FontProperties(fname=font_path, size=18).get_name()\n",
    "rc('font',family=font_name)"
   ]
  },
  {
   "cell_type": "markdown",
   "id": "dc8dcfb5-a10c-4e89-ad55-ffd6a842bdf3",
   "metadata": {},
   "source": [
    "## 버스 정류소 승하차 데이터 및 집계구 데이터 결합"
   ]
  },
  {
   "cell_type": "code",
   "execution_count": 2,
   "id": "bd8019fc-7f51-47c4-be98-4432c6ed840a",
   "metadata": {},
   "outputs": [],
   "source": [
    "bus_stop_500m = pd.read_csv('./data/전처리 필요/버스정류소_500m_집계구.csv',encoding=\"EUC-KR\")\n",
    "bus_stop_ctm = pd.read_csv('./bus_stop_ctm_with_pos.csv')\n",
    "# bus_stop_ctm.head()"
   ]
  },
  {
   "cell_type": "code",
   "execution_count": 3,
   "id": "c0fc6746-c4d9-46b0-b4ec-c17ff1b6f387",
   "metadata": {},
   "outputs": [
    {
     "data": {
      "text/plain": [
       "Index(['TOT_REG_CD', 'ADM_NM', 'ADM_CD', '표준ID', '정류소명', 'X좌표', 'Y좌표'], dtype='object')"
      ]
     },
     "metadata": {},
     "output_type": "display_data"
    },
    {
     "data": {
      "text/plain": [
       "Index(['Unnamed: 0', '표준ID', '역명', 'X좌표', 'Y좌표', '승차', '하차', '월평균승차수',\n",
       "       '월평균하차수'],\n",
       "      dtype='object')"
      ]
     },
     "metadata": {},
     "output_type": "display_data"
    }
   ],
   "source": [
    "display(bus_stop_500m.columns)\n",
    "display(bus_stop_ctm.columns)"
   ]
  },
  {
   "cell_type": "code",
   "execution_count": 4,
   "id": "22570f99-69dd-4058-b87a-0ddba60b0b48",
   "metadata": {},
   "outputs": [],
   "source": [
    "bus_stop_ctm = bus_stop_ctm.drop(columns={'Unnamed: 0','X좌표','Y좌표'},axis=1)"
   ]
  },
  {
   "cell_type": "code",
   "execution_count": 5,
   "id": "6c1759a0-7247-47b2-b6da-92988edd9dfe",
   "metadata": {},
   "outputs": [
    {
     "data": {
      "text/html": [
       "<div>\n",
       "<style scoped>\n",
       "    .dataframe tbody tr th:only-of-type {\n",
       "        vertical-align: middle;\n",
       "    }\n",
       "\n",
       "    .dataframe tbody tr th {\n",
       "        vertical-align: top;\n",
       "    }\n",
       "\n",
       "    .dataframe thead th {\n",
       "        text-align: right;\n",
       "    }\n",
       "</style>\n",
       "<table border=\"1\" class=\"dataframe\">\n",
       "  <thead>\n",
       "    <tr style=\"text-align: right;\">\n",
       "      <th></th>\n",
       "      <th>표준ID</th>\n",
       "      <th>역명</th>\n",
       "      <th>승차</th>\n",
       "      <th>하차</th>\n",
       "      <th>월평균승차수</th>\n",
       "      <th>월평균하차수</th>\n",
       "    </tr>\n",
       "  </thead>\n",
       "  <tbody>\n",
       "    <tr>\n",
       "      <th>0</th>\n",
       "      <td>100000001</td>\n",
       "      <td>종로2가사거리</td>\n",
       "      <td>16268</td>\n",
       "      <td>18770</td>\n",
       "      <td>524.774194</td>\n",
       "      <td>605.483871</td>\n",
       "    </tr>\n",
       "    <tr>\n",
       "      <th>1</th>\n",
       "      <td>100000002</td>\n",
       "      <td>창경궁.서울대학교병원</td>\n",
       "      <td>71781</td>\n",
       "      <td>65493</td>\n",
       "      <td>2315.516129</td>\n",
       "      <td>2112.677419</td>\n",
       "    </tr>\n",
       "    <tr>\n",
       "      <th>2</th>\n",
       "      <td>100000003</td>\n",
       "      <td>명륜3가.성대입구</td>\n",
       "      <td>135181</td>\n",
       "      <td>98023</td>\n",
       "      <td>4360.677419</td>\n",
       "      <td>3162.032258</td>\n",
       "    </tr>\n",
       "    <tr>\n",
       "      <th>3</th>\n",
       "      <td>100000004</td>\n",
       "      <td>종로2가.삼일교</td>\n",
       "      <td>23281</td>\n",
       "      <td>25222</td>\n",
       "      <td>751.000000</td>\n",
       "      <td>813.612903</td>\n",
       "    </tr>\n",
       "    <tr>\n",
       "      <th>4</th>\n",
       "      <td>100000005</td>\n",
       "      <td>혜화동로터리.여운형활동터</td>\n",
       "      <td>52730</td>\n",
       "      <td>94273</td>\n",
       "      <td>1700.967742</td>\n",
       "      <td>3041.064516</td>\n",
       "    </tr>\n",
       "  </tbody>\n",
       "</table>\n",
       "</div>"
      ],
      "text/plain": [
       "        표준ID             역명      승차     하차       월평균승차수       월평균하차수\n",
       "0  100000001        종로2가사거리   16268  18770   524.774194   605.483871\n",
       "1  100000002    창경궁.서울대학교병원   71781  65493  2315.516129  2112.677419\n",
       "2  100000003      명륜3가.성대입구  135181  98023  4360.677419  3162.032258\n",
       "3  100000004       종로2가.삼일교   23281  25222   751.000000   813.612903\n",
       "4  100000005  혜화동로터리.여운형활동터   52730  94273  1700.967742  3041.064516"
      ]
     },
     "execution_count": 5,
     "metadata": {},
     "output_type": "execute_result"
    }
   ],
   "source": [
    "bus_stop_ctm.head()"
   ]
  },
  {
   "cell_type": "code",
   "execution_count": 6,
   "id": "55486880-7aeb-4aaa-85aa-af44e466a3ab",
   "metadata": {},
   "outputs": [
    {
     "data": {
      "text/html": [
       "<div>\n",
       "<style scoped>\n",
       "    .dataframe tbody tr th:only-of-type {\n",
       "        vertical-align: middle;\n",
       "    }\n",
       "\n",
       "    .dataframe tbody tr th {\n",
       "        vertical-align: top;\n",
       "    }\n",
       "\n",
       "    .dataframe thead th {\n",
       "        text-align: right;\n",
       "    }\n",
       "</style>\n",
       "<table border=\"1\" class=\"dataframe\">\n",
       "  <thead>\n",
       "    <tr style=\"text-align: right;\">\n",
       "      <th></th>\n",
       "      <th>TOT_REG_CD</th>\n",
       "      <th>ADM_NM</th>\n",
       "      <th>ADM_CD</th>\n",
       "      <th>표준ID</th>\n",
       "      <th>정류소명</th>\n",
       "      <th>X좌표</th>\n",
       "      <th>Y좌표</th>\n",
       "    </tr>\n",
       "  </thead>\n",
       "  <tbody>\n",
       "    <tr>\n",
       "      <th>0</th>\n",
       "      <td>1101053010006</td>\n",
       "      <td>사직동</td>\n",
       "      <td>1101053</td>\n",
       "      <td>100900005</td>\n",
       "      <td>오거리.한옥마을입구</td>\n",
       "      <td>126.969547</td>\n",
       "      <td>37.579499</td>\n",
       "    </tr>\n",
       "    <tr>\n",
       "      <th>1</th>\n",
       "      <td>1101053010006</td>\n",
       "      <td>사직동</td>\n",
       "      <td>1101053</td>\n",
       "      <td>100900104</td>\n",
       "      <td>오거리.한옥마을입구</td>\n",
       "      <td>126.969737</td>\n",
       "      <td>37.579511</td>\n",
       "    </tr>\n",
       "    <tr>\n",
       "      <th>2</th>\n",
       "      <td>1101053010001</td>\n",
       "      <td>사직동</td>\n",
       "      <td>1101053</td>\n",
       "      <td>100900118</td>\n",
       "      <td>종로문화센터</td>\n",
       "      <td>126.964572</td>\n",
       "      <td>37.574663</td>\n",
       "    </tr>\n",
       "    <tr>\n",
       "      <th>3</th>\n",
       "      <td>1101053010001</td>\n",
       "      <td>사직동</td>\n",
       "      <td>1101053</td>\n",
       "      <td>100900133</td>\n",
       "      <td>카센터.터널앞</td>\n",
       "      <td>126.965896</td>\n",
       "      <td>37.574092</td>\n",
       "    </tr>\n",
       "    <tr>\n",
       "      <th>4</th>\n",
       "      <td>1101053010001</td>\n",
       "      <td>사직동</td>\n",
       "      <td>1101053</td>\n",
       "      <td>100900073</td>\n",
       "      <td>한국사회과학자료원</td>\n",
       "      <td>126.964091</td>\n",
       "      <td>37.573652</td>\n",
       "    </tr>\n",
       "  </tbody>\n",
       "</table>\n",
       "</div>"
      ],
      "text/plain": [
       "      TOT_REG_CD ADM_NM   ADM_CD       표준ID        정류소명         X좌표        Y좌표\n",
       "0  1101053010006    사직동  1101053  100900005  오거리.한옥마을입구  126.969547  37.579499\n",
       "1  1101053010006    사직동  1101053  100900104  오거리.한옥마을입구  126.969737  37.579511\n",
       "2  1101053010001    사직동  1101053  100900118      종로문화센터  126.964572  37.574663\n",
       "3  1101053010001    사직동  1101053  100900133     카센터.터널앞  126.965896  37.574092\n",
       "4  1101053010001    사직동  1101053  100900073   한국사회과학자료원  126.964091  37.573652"
      ]
     },
     "execution_count": 6,
     "metadata": {},
     "output_type": "execute_result"
    }
   ],
   "source": [
    "bus_stop_500m.head()"
   ]
  },
  {
   "cell_type": "code",
   "execution_count": 7,
   "id": "2a6f1375-2114-4dc8-8085-a6a247db75c8",
   "metadata": {},
   "outputs": [
    {
     "data": {
      "text/plain": [
       "34912"
      ]
     },
     "metadata": {},
     "output_type": "display_data"
    },
    {
     "data": {
      "text/plain": [
       "10913"
      ]
     },
     "metadata": {},
     "output_type": "display_data"
    },
    {
     "data": {
      "text/plain": [
       "10846"
      ]
     },
     "metadata": {},
     "output_type": "display_data"
    }
   ],
   "source": [
    "display(len(bus_stop_500m))\n",
    "display(len(bus_stop_500m['표준ID'].unique()))\n",
    "display(len(bus_stop_500m['TOT_REG_CD'].unique()))"
   ]
  },
  {
   "cell_type": "code",
   "execution_count": 8,
   "id": "45088431-f658-4ad5-a24c-37c77f668ca3",
   "metadata": {},
   "outputs": [
    {
     "data": {
      "text/html": [
       "<div>\n",
       "<style scoped>\n",
       "    .dataframe tbody tr th:only-of-type {\n",
       "        vertical-align: middle;\n",
       "    }\n",
       "\n",
       "    .dataframe tbody tr th {\n",
       "        vertical-align: top;\n",
       "    }\n",
       "\n",
       "    .dataframe thead th {\n",
       "        text-align: right;\n",
       "    }\n",
       "</style>\n",
       "<table border=\"1\" class=\"dataframe\">\n",
       "  <thead>\n",
       "    <tr style=\"text-align: right;\">\n",
       "      <th></th>\n",
       "      <th>TOT_REG_CD</th>\n",
       "      <th>ADM_NM</th>\n",
       "      <th>ADM_CD</th>\n",
       "      <th>표준ID</th>\n",
       "      <th>정류소명</th>\n",
       "      <th>X좌표</th>\n",
       "      <th>Y좌표</th>\n",
       "      <th>역명</th>\n",
       "      <th>승차</th>\n",
       "      <th>하차</th>\n",
       "      <th>월평균승차수</th>\n",
       "      <th>월평균하차수</th>\n",
       "    </tr>\n",
       "  </thead>\n",
       "  <tbody>\n",
       "    <tr>\n",
       "      <th>0</th>\n",
       "      <td>1101053010006</td>\n",
       "      <td>사직동</td>\n",
       "      <td>1101053</td>\n",
       "      <td>100900005</td>\n",
       "      <td>오거리.한옥마을입구</td>\n",
       "      <td>126.969547</td>\n",
       "      <td>37.579499</td>\n",
       "      <td>오거리.한옥마을입구</td>\n",
       "      <td>2756</td>\n",
       "      <td>357</td>\n",
       "      <td>88.903226</td>\n",
       "      <td>11.516129</td>\n",
       "    </tr>\n",
       "    <tr>\n",
       "      <th>1</th>\n",
       "      <td>1101072010014</td>\n",
       "      <td>청운효자동</td>\n",
       "      <td>1101072</td>\n",
       "      <td>100900005</td>\n",
       "      <td>오거리.한옥마을입구</td>\n",
       "      <td>126.969547</td>\n",
       "      <td>37.579499</td>\n",
       "      <td>오거리.한옥마을입구</td>\n",
       "      <td>2756</td>\n",
       "      <td>357</td>\n",
       "      <td>88.903226</td>\n",
       "      <td>11.516129</td>\n",
       "    </tr>\n",
       "    <tr>\n",
       "      <th>2</th>\n",
       "      <td>1101072010009</td>\n",
       "      <td>청운효자동</td>\n",
       "      <td>1101072</td>\n",
       "      <td>100900005</td>\n",
       "      <td>오거리.한옥마을입구</td>\n",
       "      <td>126.969547</td>\n",
       "      <td>37.579499</td>\n",
       "      <td>오거리.한옥마을입구</td>\n",
       "      <td>2756</td>\n",
       "      <td>357</td>\n",
       "      <td>88.903226</td>\n",
       "      <td>11.516129</td>\n",
       "    </tr>\n",
       "    <tr>\n",
       "      <th>3</th>\n",
       "      <td>1101072010002</td>\n",
       "      <td>청운효자동</td>\n",
       "      <td>1101072</td>\n",
       "      <td>100900005</td>\n",
       "      <td>오거리.한옥마을입구</td>\n",
       "      <td>126.969547</td>\n",
       "      <td>37.579499</td>\n",
       "      <td>오거리.한옥마을입구</td>\n",
       "      <td>2756</td>\n",
       "      <td>357</td>\n",
       "      <td>88.903226</td>\n",
       "      <td>11.516129</td>\n",
       "    </tr>\n",
       "    <tr>\n",
       "      <th>4</th>\n",
       "      <td>1101053010006</td>\n",
       "      <td>사직동</td>\n",
       "      <td>1101053</td>\n",
       "      <td>100900104</td>\n",
       "      <td>오거리.한옥마을입구</td>\n",
       "      <td>126.969737</td>\n",
       "      <td>37.579511</td>\n",
       "      <td>오거리.한옥마을입구</td>\n",
       "      <td>140</td>\n",
       "      <td>3537</td>\n",
       "      <td>4.516129</td>\n",
       "      <td>114.096774</td>\n",
       "    </tr>\n",
       "  </tbody>\n",
       "</table>\n",
       "</div>"
      ],
      "text/plain": [
       "      TOT_REG_CD ADM_NM   ADM_CD       표준ID        정류소명         X좌표  \\\n",
       "0  1101053010006    사직동  1101053  100900005  오거리.한옥마을입구  126.969547   \n",
       "1  1101072010014  청운효자동  1101072  100900005  오거리.한옥마을입구  126.969547   \n",
       "2  1101072010009  청운효자동  1101072  100900005  오거리.한옥마을입구  126.969547   \n",
       "3  1101072010002  청운효자동  1101072  100900005  오거리.한옥마을입구  126.969547   \n",
       "4  1101053010006    사직동  1101053  100900104  오거리.한옥마을입구  126.969737   \n",
       "\n",
       "         Y좌표          역명    승차    하차     월평균승차수      월평균하차수  \n",
       "0  37.579499  오거리.한옥마을입구  2756   357  88.903226   11.516129  \n",
       "1  37.579499  오거리.한옥마을입구  2756   357  88.903226   11.516129  \n",
       "2  37.579499  오거리.한옥마을입구  2756   357  88.903226   11.516129  \n",
       "3  37.579499  오거리.한옥마을입구  2756   357  88.903226   11.516129  \n",
       "4  37.579511  오거리.한옥마을입구   140  3537   4.516129  114.096774  "
      ]
     },
     "execution_count": 8,
     "metadata": {},
     "output_type": "execute_result"
    }
   ],
   "source": [
    "bus_stop_data = bus_stop_500m.merge(bus_stop_ctm,left_on='표준ID',right_on='표준ID')\n",
    "bus_stop_data.head()"
   ]
  },
  {
   "cell_type": "code",
   "execution_count": 9,
   "id": "d1d48bf8-fdc3-4753-9433-2e3fe62c75d2",
   "metadata": {},
   "outputs": [
    {
     "name": "stdout",
     "output_type": "stream",
     "text": [
      "<class 'pandas.core.frame.DataFrame'>\n",
      "Int64Index: 33955 entries, 0 to 33954\n",
      "Data columns (total 12 columns):\n",
      " #   Column      Non-Null Count  Dtype  \n",
      "---  ------      --------------  -----  \n",
      " 0   TOT_REG_CD  33955 non-null  int64  \n",
      " 1   ADM_NM      33955 non-null  object \n",
      " 2   ADM_CD      33955 non-null  int64  \n",
      " 3   표준ID        33955 non-null  int64  \n",
      " 4   정류소명        33955 non-null  object \n",
      " 5   X좌표         33955 non-null  float64\n",
      " 6   Y좌표         33955 non-null  float64\n",
      " 7   역명          33955 non-null  object \n",
      " 8   승차          33955 non-null  int64  \n",
      " 9   하차          33955 non-null  int64  \n",
      " 10  월평균승차수      33955 non-null  float64\n",
      " 11  월평균하차수      33955 non-null  float64\n",
      "dtypes: float64(4), int64(5), object(3)\n",
      "memory usage: 3.4+ MB\n"
     ]
    }
   ],
   "source": [
    "bus_stop_data.info()"
   ]
  },
  {
   "cell_type": "code",
   "execution_count": 10,
   "id": "cc60a75e-e5f0-4f4d-8c89-922188c3e301",
   "metadata": {},
   "outputs": [],
   "source": [
    "bus_stop_data[['TOT_REG_CD','ADM_CD']] = bus_stop_data[['TOT_REG_CD','ADM_CD']].astype(str)"
   ]
  },
  {
   "cell_type": "code",
   "execution_count": 11,
   "id": "e7d48070-0a06-455a-a0d4-2df65c93c704",
   "metadata": {},
   "outputs": [
    {
     "name": "stdout",
     "output_type": "stream",
     "text": [
      "<class 'pandas.core.frame.DataFrame'>\n",
      "Int64Index: 33955 entries, 0 to 33954\n",
      "Data columns (total 12 columns):\n",
      " #   Column      Non-Null Count  Dtype  \n",
      "---  ------      --------------  -----  \n",
      " 0   TOT_REG_CD  33955 non-null  object \n",
      " 1   ADM_NM      33955 non-null  object \n",
      " 2   ADM_CD      33955 non-null  object \n",
      " 3   표준ID        33955 non-null  int64  \n",
      " 4   정류소명        33955 non-null  object \n",
      " 5   X좌표         33955 non-null  float64\n",
      " 6   Y좌표         33955 non-null  float64\n",
      " 7   역명          33955 non-null  object \n",
      " 8   승차          33955 non-null  int64  \n",
      " 9   하차          33955 non-null  int64  \n",
      " 10  월평균승차수      33955 non-null  float64\n",
      " 11  월평균하차수      33955 non-null  float64\n",
      "dtypes: float64(4), int64(3), object(5)\n",
      "memory usage: 3.4+ MB\n"
     ]
    }
   ],
   "source": [
    "bus_stop_data.info()"
   ]
  },
  {
   "cell_type": "code",
   "execution_count": 12,
   "id": "739b9577-fcab-47d3-8caf-eab1133fb7ca",
   "metadata": {},
   "outputs": [],
   "source": [
    "bus_stop_data_left = bus_stop_500m.merge(bus_stop_ctm,how='left',left_on='표준ID',right_on='표준ID')"
   ]
  },
  {
   "cell_type": "code",
   "execution_count": 13,
   "id": "907298f2-1933-4422-ac31-cff82c06f84d",
   "metadata": {},
   "outputs": [
    {
     "data": {
      "image/png": "[encoded data removed]",
      "text/plain": [
       "<Figure size 2500x1000 with 2 Axes>"
      ]
     },
     "metadata": {},
     "output_type": "display_data"
    }
   ],
   "source": [
    "# 집계구 데이터에는 데이터가 있는데, 승하차 데이터는 없는 경우\n",
    "msno.matrix(df=bus_stop_data_left,color=(0.6,0.1,0.7))\n",
    "plt.show()"
   ]
  },
  {
   "cell_type": "code",
   "execution_count": 14,
   "id": "00fdf840-72ad-4176-af4b-6db12f8becff",
   "metadata": {},
   "outputs": [],
   "source": [
    "bus_stop_data_right = bus_stop_500m.merge(bus_stop_ctm,how='right',left_on='표준ID',right_on='표준ID')"
   ]
  },
  {
   "cell_type": "code",
   "execution_count": 15,
   "id": "fcc3208e-c21d-4c47-8869-f238106fab3a",
   "metadata": {},
   "outputs": [
    {
     "data": {
      "image/png": "[encoded data removed]",
      "text/plain": [
       "<Figure size 2500x1000 with 2 Axes>"
      ]
     },
     "metadata": {},
     "output_type": "display_data"
    }
   ],
   "source": [
    "# 승하차 데이터는 있는데 집계구 파일에 데이터가 없는 경우는 없다.\n",
    "# 즉, 집계구에 있는 모든 데이터와 matching된다.\n",
    "\n",
    "msno.matrix(df=bus_stop_data_right,color=(0.6,0.7,0.7))\n",
    "plt.show()"
   ]
  },
  {
   "cell_type": "code",
   "execution_count": 16,
   "id": "a4004c8a-3ffb-44df-bd1a-f84ecee2eadb",
   "metadata": {},
   "outputs": [],
   "source": [
    "bus_stop_data.drop('역명',axis=1,inplace=True)"
   ]
  },
  {
   "cell_type": "code",
   "execution_count": 17,
   "id": "e287db33-3eb1-4af0-b388-58595a56534b",
   "metadata": {},
   "outputs": [
    {
     "name": "stdout",
     "output_type": "stream",
     "text": [
      "<class 'pandas.core.frame.DataFrame'>\n",
      "Int64Index: 33955 entries, 0 to 33954\n",
      "Data columns (total 11 columns):\n",
      " #   Column      Non-Null Count  Dtype  \n",
      "---  ------      --------------  -----  \n",
      " 0   TOT_REG_CD  33955 non-null  object \n",
      " 1   ADM_NM      33955 non-null  object \n",
      " 2   ADM_CD      33955 non-null  object \n",
      " 3   표준ID        33955 non-null  int64  \n",
      " 4   정류소명        33955 non-null  object \n",
      " 5   X좌표         33955 non-null  float64\n",
      " 6   Y좌표         33955 non-null  float64\n",
      " 7   승차          33955 non-null  int64  \n",
      " 8   하차          33955 non-null  int64  \n",
      " 9   월평균승차수      33955 non-null  float64\n",
      " 10  월평균하차수      33955 non-null  float64\n",
      "dtypes: float64(4), int64(3), object(4)\n",
      "memory usage: 3.1+ MB\n"
     ]
    }
   ],
   "source": [
    "bus_stop_data.info()"
   ]
  },
  {
   "cell_type": "code",
   "execution_count": 18,
   "id": "f0461574-6c5a-4f41-b0cd-350ff2370126",
   "metadata": {},
   "outputs": [
    {
     "data": {
      "text/html": [
       "<div>\n",
       "<style scoped>\n",
       "    .dataframe tbody tr th:only-of-type {\n",
       "        vertical-align: middle;\n",
       "    }\n",
       "\n",
       "    .dataframe tbody tr th {\n",
       "        vertical-align: top;\n",
       "    }\n",
       "\n",
       "    .dataframe thead th {\n",
       "        text-align: right;\n",
       "    }\n",
       "</style>\n",
       "<table border=\"1\" class=\"dataframe\">\n",
       "  <thead>\n",
       "    <tr style=\"text-align: right;\">\n",
       "      <th></th>\n",
       "      <th>TOT_REG_CD</th>\n",
       "      <th>ADM_NM</th>\n",
       "      <th>ADM_CD</th>\n",
       "      <th>표준ID</th>\n",
       "      <th>정류소명</th>\n",
       "      <th>X좌표</th>\n",
       "      <th>Y좌표</th>\n",
       "      <th>승차</th>\n",
       "      <th>하차</th>\n",
       "      <th>월평균승차수</th>\n",
       "      <th>월평균하차수</th>\n",
       "    </tr>\n",
       "  </thead>\n",
       "  <tbody>\n",
       "  </tbody>\n",
       "</table>\n",
       "</div>"
      ],
      "text/plain": [
       "Empty DataFrame\n",
       "Columns: [TOT_REG_CD, ADM_NM, ADM_CD, 표준ID, 정류소명, X좌표, Y좌표, 승차, 하차, 월평균승차수, 월평균하차수]\n",
       "Index: []"
      ]
     },
     "execution_count": 18,
     "metadata": {},
     "output_type": "execute_result"
    }
   ],
   "source": [
    "bus_stop_data[bus_stop_data['표준ID'] == 1101053010006]"
   ]
  },
  {
   "cell_type": "code",
   "execution_count": 19,
   "id": "76bf4a58-8799-492a-a904-2cff25888727",
   "metadata": {},
   "outputs": [
    {
     "data": {
      "text/html": [
       "<div>\n",
       "<style scoped>\n",
       "    .dataframe tbody tr th:only-of-type {\n",
       "        vertical-align: middle;\n",
       "    }\n",
       "\n",
       "    .dataframe tbody tr th {\n",
       "        vertical-align: top;\n",
       "    }\n",
       "\n",
       "    .dataframe thead th {\n",
       "        text-align: right;\n",
       "    }\n",
       "</style>\n",
       "<table border=\"1\" class=\"dataframe\">\n",
       "  <thead>\n",
       "    <tr style=\"text-align: right;\">\n",
       "      <th></th>\n",
       "      <th>TOT_REG_CD</th>\n",
       "      <th>ADM_NM</th>\n",
       "      <th>ADM_CD</th>\n",
       "      <th>표준ID</th>\n",
       "      <th>정류소명</th>\n",
       "      <th>X좌표</th>\n",
       "      <th>Y좌표</th>\n",
       "      <th>승차</th>\n",
       "      <th>하차</th>\n",
       "      <th>월평균승차수</th>\n",
       "      <th>월평균하차수</th>\n",
       "    </tr>\n",
       "  </thead>\n",
       "  <tbody>\n",
       "    <tr>\n",
       "      <th>0</th>\n",
       "      <td>1101053010006</td>\n",
       "      <td>사직동</td>\n",
       "      <td>1101053</td>\n",
       "      <td>100900005</td>\n",
       "      <td>오거리.한옥마을입구</td>\n",
       "      <td>126.969547</td>\n",
       "      <td>37.579499</td>\n",
       "      <td>2756</td>\n",
       "      <td>357</td>\n",
       "      <td>88.903226</td>\n",
       "      <td>11.516129</td>\n",
       "    </tr>\n",
       "    <tr>\n",
       "      <th>4</th>\n",
       "      <td>1101053010006</td>\n",
       "      <td>사직동</td>\n",
       "      <td>1101053</td>\n",
       "      <td>100900104</td>\n",
       "      <td>오거리.한옥마을입구</td>\n",
       "      <td>126.969737</td>\n",
       "      <td>37.579511</td>\n",
       "      <td>140</td>\n",
       "      <td>3537</td>\n",
       "      <td>4.516129</td>\n",
       "      <td>114.096774</td>\n",
       "    </tr>\n",
       "  </tbody>\n",
       "</table>\n",
       "</div>"
      ],
      "text/plain": [
       "      TOT_REG_CD ADM_NM   ADM_CD       표준ID        정류소명         X좌표  \\\n",
       "0  1101053010006    사직동  1101053  100900005  오거리.한옥마을입구  126.969547   \n",
       "4  1101053010006    사직동  1101053  100900104  오거리.한옥마을입구  126.969737   \n",
       "\n",
       "         Y좌표    승차    하차     월평균승차수      월평균하차수  \n",
       "0  37.579499  2756   357  88.903226   11.516129  \n",
       "4  37.579511   140  3537   4.516129  114.096774  "
      ]
     },
     "execution_count": 19,
     "metadata": {},
     "output_type": "execute_result"
    }
   ],
   "source": [
    "bus_stop_data[bus_stop_data['TOT_REG_CD']=='1101053010006']"
   ]
  },
  {
   "cell_type": "code",
   "execution_count": 20,
   "id": "51ac1bb6-5737-4373-be74-5d5310b2739b",
   "metadata": {},
   "outputs": [],
   "source": [
    "bus_stop_count = bus_stop_data.groupby('TOT_REG_CD').size()\n",
    "count = list()\n",
    "\n",
    "for i, row in bus_stop_data.iterrows():\n",
    "    tot_reg_cd = row.loc['TOT_REG_CD'] # 집계구 코드를 가져와서 저장.\n",
    "    count.append(bus_stop_count.loc[tot_reg_cd])\n",
    "\n",
    "bus_stop_data['정류장수'] = pd.Series(count)"
   ]
  },
  {
   "cell_type": "code",
   "execution_count": 21,
   "id": "2c3516d9-4910-4873-8389-c51f3b263312",
   "metadata": {},
   "outputs": [
    {
     "data": {
      "text/html": [
       "<div>\n",
       "<style scoped>\n",
       "    .dataframe tbody tr th:only-of-type {\n",
       "        vertical-align: middle;\n",
       "    }\n",
       "\n",
       "    .dataframe tbody tr th {\n",
       "        vertical-align: top;\n",
       "    }\n",
       "\n",
       "    .dataframe thead th {\n",
       "        text-align: right;\n",
       "    }\n",
       "</style>\n",
       "<table border=\"1\" class=\"dataframe\">\n",
       "  <thead>\n",
       "    <tr style=\"text-align: right;\">\n",
       "      <th></th>\n",
       "      <th>TOT_REG_CD</th>\n",
       "      <th>ADM_NM</th>\n",
       "      <th>ADM_CD</th>\n",
       "      <th>표준ID</th>\n",
       "      <th>정류소명</th>\n",
       "      <th>X좌표</th>\n",
       "      <th>Y좌표</th>\n",
       "      <th>승차</th>\n",
       "      <th>하차</th>\n",
       "      <th>월평균승차수</th>\n",
       "      <th>월평균하차수</th>\n",
       "      <th>정류장수</th>\n",
       "    </tr>\n",
       "  </thead>\n",
       "  <tbody>\n",
       "    <tr>\n",
       "      <th>0</th>\n",
       "      <td>1101053010006</td>\n",
       "      <td>사직동</td>\n",
       "      <td>1101053</td>\n",
       "      <td>100900005</td>\n",
       "      <td>오거리.한옥마을입구</td>\n",
       "      <td>126.969547</td>\n",
       "      <td>37.579499</td>\n",
       "      <td>2756</td>\n",
       "      <td>357</td>\n",
       "      <td>88.903226</td>\n",
       "      <td>11.516129</td>\n",
       "      <td>2</td>\n",
       "    </tr>\n",
       "    <tr>\n",
       "      <th>1</th>\n",
       "      <td>1101072010014</td>\n",
       "      <td>청운효자동</td>\n",
       "      <td>1101072</td>\n",
       "      <td>100900005</td>\n",
       "      <td>오거리.한옥마을입구</td>\n",
       "      <td>126.969547</td>\n",
       "      <td>37.579499</td>\n",
       "      <td>2756</td>\n",
       "      <td>357</td>\n",
       "      <td>88.903226</td>\n",
       "      <td>11.516129</td>\n",
       "      <td>5</td>\n",
       "    </tr>\n",
       "    <tr>\n",
       "      <th>2</th>\n",
       "      <td>1101072010009</td>\n",
       "      <td>청운효자동</td>\n",
       "      <td>1101072</td>\n",
       "      <td>100900005</td>\n",
       "      <td>오거리.한옥마을입구</td>\n",
       "      <td>126.969547</td>\n",
       "      <td>37.579499</td>\n",
       "      <td>2756</td>\n",
       "      <td>357</td>\n",
       "      <td>88.903226</td>\n",
       "      <td>11.516129</td>\n",
       "      <td>6</td>\n",
       "    </tr>\n",
       "    <tr>\n",
       "      <th>3</th>\n",
       "      <td>1101072010002</td>\n",
       "      <td>청운효자동</td>\n",
       "      <td>1101072</td>\n",
       "      <td>100900005</td>\n",
       "      <td>오거리.한옥마을입구</td>\n",
       "      <td>126.969547</td>\n",
       "      <td>37.579499</td>\n",
       "      <td>2756</td>\n",
       "      <td>357</td>\n",
       "      <td>88.903226</td>\n",
       "      <td>11.516129</td>\n",
       "      <td>4</td>\n",
       "    </tr>\n",
       "    <tr>\n",
       "      <th>4</th>\n",
       "      <td>1101053010006</td>\n",
       "      <td>사직동</td>\n",
       "      <td>1101053</td>\n",
       "      <td>100900104</td>\n",
       "      <td>오거리.한옥마을입구</td>\n",
       "      <td>126.969737</td>\n",
       "      <td>37.579511</td>\n",
       "      <td>140</td>\n",
       "      <td>3537</td>\n",
       "      <td>4.516129</td>\n",
       "      <td>114.096774</td>\n",
       "      <td>2</td>\n",
       "    </tr>\n",
       "  </tbody>\n",
       "</table>\n",
       "</div>"
      ],
      "text/plain": [
       "      TOT_REG_CD ADM_NM   ADM_CD       표준ID        정류소명         X좌표  \\\n",
       "0  1101053010006    사직동  1101053  100900005  오거리.한옥마을입구  126.969547   \n",
       "1  1101072010014  청운효자동  1101072  100900005  오거리.한옥마을입구  126.969547   \n",
       "2  1101072010009  청운효자동  1101072  100900005  오거리.한옥마을입구  126.969547   \n",
       "3  1101072010002  청운효자동  1101072  100900005  오거리.한옥마을입구  126.969547   \n",
       "4  1101053010006    사직동  1101053  100900104  오거리.한옥마을입구  126.969737   \n",
       "\n",
       "         Y좌표    승차    하차     월평균승차수      월평균하차수  정류장수  \n",
       "0  37.579499  2756   357  88.903226   11.516129     2  \n",
       "1  37.579499  2756   357  88.903226   11.516129     5  \n",
       "2  37.579499  2756   357  88.903226   11.516129     6  \n",
       "3  37.579499  2756   357  88.903226   11.516129     4  \n",
       "4  37.579511   140  3537   4.516129  114.096774     2  "
      ]
     },
     "execution_count": 21,
     "metadata": {},
     "output_type": "execute_result"
    }
   ],
   "source": [
    "bus_stop_data.head()"
   ]
  },
  {
   "cell_type": "code",
   "execution_count": 22,
   "id": "c3eb5135-2273-4da0-b996-d754f2c8a361",
   "metadata": {},
   "outputs": [],
   "source": [
    "bus_stop_ride = bus_stop_data.groupby('TOT_REG_CD')['승차'].sum()\n",
    "bus_stop_get_off = bus_stop_data.groupby('TOT_REG_CD')['하차'].sum()\n",
    "count_ride = list()\n",
    "count_get_off = list()\n",
    "\n",
    "for i, row in bus_stop_data.iterrows():\n",
    "    tot_reg_cd = row.loc['TOT_REG_CD'] # 집계구 코드를 가져와서 저장.\n",
    "    count_ride.append(bus_stop_ride.loc[tot_reg_cd]/row['정류장수']/31)\n",
    "    count_get_off.append(bus_stop_get_off.loc[tot_reg_cd]/row['정류장수']/31)\n",
    "\n",
    "bus_stop_data['평균승차수'] = pd.Series(count_ride)\n",
    "bus_stop_data['평균하차수'] = pd.Series(count_get_off)"
   ]
  },
  {
   "cell_type": "code",
   "execution_count": 23,
   "id": "531d3680-a979-4d94-85d3-950a9aa3e352",
   "metadata": {},
   "outputs": [
    {
     "data": {
      "text/html": [
       "<div>\n",
       "<style scoped>\n",
       "    .dataframe tbody tr th:only-of-type {\n",
       "        vertical-align: middle;\n",
       "    }\n",
       "\n",
       "    .dataframe tbody tr th {\n",
       "        vertical-align: top;\n",
       "    }\n",
       "\n",
       "    .dataframe thead th {\n",
       "        text-align: right;\n",
       "    }\n",
       "</style>\n",
       "<table border=\"1\" class=\"dataframe\">\n",
       "  <thead>\n",
       "    <tr style=\"text-align: right;\">\n",
       "      <th></th>\n",
       "      <th>TOT_REG_CD</th>\n",
       "      <th>ADM_NM</th>\n",
       "      <th>ADM_CD</th>\n",
       "      <th>표준ID</th>\n",
       "      <th>정류소명</th>\n",
       "      <th>X좌표</th>\n",
       "      <th>Y좌표</th>\n",
       "      <th>승차</th>\n",
       "      <th>하차</th>\n",
       "      <th>월평균승차수</th>\n",
       "      <th>월평균하차수</th>\n",
       "      <th>정류장수</th>\n",
       "      <th>평균승차수</th>\n",
       "      <th>평균하차수</th>\n",
       "    </tr>\n",
       "  </thead>\n",
       "  <tbody>\n",
       "    <tr>\n",
       "      <th>0</th>\n",
       "      <td>1101053010006</td>\n",
       "      <td>사직동</td>\n",
       "      <td>1101053</td>\n",
       "      <td>100900005</td>\n",
       "      <td>오거리.한옥마을입구</td>\n",
       "      <td>126.969547</td>\n",
       "      <td>37.579499</td>\n",
       "      <td>2756</td>\n",
       "      <td>357</td>\n",
       "      <td>88.903226</td>\n",
       "      <td>11.516129</td>\n",
       "      <td>2</td>\n",
       "      <td>46.709677</td>\n",
       "      <td>62.806452</td>\n",
       "    </tr>\n",
       "    <tr>\n",
       "      <th>1</th>\n",
       "      <td>1101072010014</td>\n",
       "      <td>청운효자동</td>\n",
       "      <td>1101072</td>\n",
       "      <td>100900005</td>\n",
       "      <td>오거리.한옥마을입구</td>\n",
       "      <td>126.969547</td>\n",
       "      <td>37.579499</td>\n",
       "      <td>2756</td>\n",
       "      <td>357</td>\n",
       "      <td>88.903226</td>\n",
       "      <td>11.516129</td>\n",
       "      <td>5</td>\n",
       "      <td>432.187097</td>\n",
       "      <td>361.929032</td>\n",
       "    </tr>\n",
       "    <tr>\n",
       "      <th>2</th>\n",
       "      <td>1101072010009</td>\n",
       "      <td>청운효자동</td>\n",
       "      <td>1101072</td>\n",
       "      <td>100900005</td>\n",
       "      <td>오거리.한옥마을입구</td>\n",
       "      <td>126.969547</td>\n",
       "      <td>37.579499</td>\n",
       "      <td>2756</td>\n",
       "      <td>357</td>\n",
       "      <td>88.903226</td>\n",
       "      <td>11.516129</td>\n",
       "      <td>6</td>\n",
       "      <td>284.532258</td>\n",
       "      <td>458.747312</td>\n",
       "    </tr>\n",
       "    <tr>\n",
       "      <th>3</th>\n",
       "      <td>1101072010002</td>\n",
       "      <td>청운효자동</td>\n",
       "      <td>1101072</td>\n",
       "      <td>100900005</td>\n",
       "      <td>오거리.한옥마을입구</td>\n",
       "      <td>126.969547</td>\n",
       "      <td>37.579499</td>\n",
       "      <td>2756</td>\n",
       "      <td>357</td>\n",
       "      <td>88.903226</td>\n",
       "      <td>11.516129</td>\n",
       "      <td>4</td>\n",
       "      <td>85.427419</td>\n",
       "      <td>114.798387</td>\n",
       "    </tr>\n",
       "    <tr>\n",
       "      <th>4</th>\n",
       "      <td>1101053010006</td>\n",
       "      <td>사직동</td>\n",
       "      <td>1101053</td>\n",
       "      <td>100900104</td>\n",
       "      <td>오거리.한옥마을입구</td>\n",
       "      <td>126.969737</td>\n",
       "      <td>37.579511</td>\n",
       "      <td>140</td>\n",
       "      <td>3537</td>\n",
       "      <td>4.516129</td>\n",
       "      <td>114.096774</td>\n",
       "      <td>2</td>\n",
       "      <td>46.709677</td>\n",
       "      <td>62.806452</td>\n",
       "    </tr>\n",
       "  </tbody>\n",
       "</table>\n",
       "</div>"
      ],
      "text/plain": [
       "      TOT_REG_CD ADM_NM   ADM_CD       표준ID        정류소명         X좌표  \\\n",
       "0  1101053010006    사직동  1101053  100900005  오거리.한옥마을입구  126.969547   \n",
       "1  1101072010014  청운효자동  1101072  100900005  오거리.한옥마을입구  126.969547   \n",
       "2  1101072010009  청운효자동  1101072  100900005  오거리.한옥마을입구  126.969547   \n",
       "3  1101072010002  청운효자동  1101072  100900005  오거리.한옥마을입구  126.969547   \n",
       "4  1101053010006    사직동  1101053  100900104  오거리.한옥마을입구  126.969737   \n",
       "\n",
       "         Y좌표    승차    하차     월평균승차수      월평균하차수  정류장수       평균승차수       평균하차수  \n",
       "0  37.579499  2756   357  88.903226   11.516129     2   46.709677   62.806452  \n",
       "1  37.579499  2756   357  88.903226   11.516129     5  432.187097  361.929032  \n",
       "2  37.579499  2756   357  88.903226   11.516129     6  284.532258  458.747312  \n",
       "3  37.579499  2756   357  88.903226   11.516129     4   85.427419  114.798387  \n",
       "4  37.579511   140  3537   4.516129  114.096774     2   46.709677   62.806452  "
      ]
     },
     "execution_count": 23,
     "metadata": {},
     "output_type": "execute_result"
    }
   ],
   "source": [
    "bus_stop_data.head()"
   ]
  },
  {
   "cell_type": "code",
   "execution_count": 24,
   "id": "8581061f-85cb-4d6a-82f5-59881461dda4",
   "metadata": {},
   "outputs": [
    {
     "data": {
      "text/plain": [
       "33955"
      ]
     },
     "execution_count": 24,
     "metadata": {},
     "output_type": "execute_result"
    }
   ],
   "source": [
    "len(bus_stop_data)"
   ]
  },
  {
   "cell_type": "code",
   "execution_count": 25,
   "id": "9b575d21-fb31-4a2a-8f8b-ce38323b1018",
   "metadata": {},
   "outputs": [],
   "source": [
    "bus_stop_data.to_csv('집계구별 정류장수 및 승하차 데이터.csv')"
   ]
  }
 ],
 "metadata": {
  "kernelspec": {
   "display_name": "Python 3",
   "language": "python",
   "name": "python3"
  },
  "language_info": {
   "codemirror_mode": {
    "name": "ipython",
    "version": 3
   },
   "file_extension": ".py",
   "mimetype": "text/x-python",
   "name": "python",
   "nbconvert_exporter": "python",
   "pygments_lexer": "ipython3",
   "version": "3.8.11"
  }
 },
 "nbformat": 4,
 "nbformat_minor": 5
}
