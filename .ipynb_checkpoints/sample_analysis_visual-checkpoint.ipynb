{
 "cells": [
  {
   "cell_type": "code",
   "execution_count": 55,
   "id": "96adbd57-57e8-4d7c-bd7b-02b729e14126",
   "metadata": {},
   "outputs": [],
   "source": [
    "import numpy as np\n",
    "import libpysal as ps\n",
    "from mgwr.gwr import GWR, MGWR\n",
    "from mgwr.sel_bw import Sel_BW\n",
    "import geopandas as gp\n",
    "import matplotlib.pyplot as plt\n",
    "import matplotlib as mpl\n",
    "import pandas as pd\n",
    "from sklearn.model_selection import train_test_split\n",
    "from sklearn.preprocessing import StandardScaler"
   ]
  },
  {
   "cell_type": "code",
   "execution_count": 2,
   "id": "cafb5a57-3dfc-40ee-9639-2a784381206c",
   "metadata": {},
   "outputs": [
    {
     "data": {
      "text/html": [
       "<div>\n",
       "<style scoped>\n",
       "    .dataframe tbody tr th:only-of-type {\n",
       "        vertical-align: middle;\n",
       "    }\n",
       "\n",
       "    .dataframe tbody tr th {\n",
       "        vertical-align: top;\n",
       "    }\n",
       "\n",
       "    .dataframe thead th {\n",
       "        text-align: right;\n",
       "    }\n",
       "</style>\n",
       "<table border=\"1\" class=\"dataframe\">\n",
       "  <thead>\n",
       "    <tr style=\"text-align: right;\">\n",
       "      <th></th>\n",
       "      <th>TOT_REG_CD</th>\n",
       "      <th>ADM_NM</th>\n",
       "      <th>ADM_CD</th>\n",
       "      <th>geometry</th>\n",
       "    </tr>\n",
       "  </thead>\n",
       "  <tbody>\n",
       "    <tr>\n",
       "      <th>0</th>\n",
       "      <td>1101053010006</td>\n",
       "      <td>사직동</td>\n",
       "      <td>1101053</td>\n",
       "      <td>POLYGON ((126.97033 37.57912, 126.97039 37.579...</td>\n",
       "    </tr>\n",
       "    <tr>\n",
       "      <th>1</th>\n",
       "      <td>1101053010001</td>\n",
       "      <td>사직동</td>\n",
       "      <td>1101053</td>\n",
       "      <td>POLYGON ((126.96613 37.57496, 126.96632 37.574...</td>\n",
       "    </tr>\n",
       "    <tr>\n",
       "      <th>2</th>\n",
       "      <td>1101053010003</td>\n",
       "      <td>사직동</td>\n",
       "      <td>1101053</td>\n",
       "      <td>POLYGON ((126.96645 37.57883, 126.96647 37.578...</td>\n",
       "    </tr>\n",
       "    <tr>\n",
       "      <th>3</th>\n",
       "      <td>1101053010002</td>\n",
       "      <td>사직동</td>\n",
       "      <td>1101053</td>\n",
       "      <td>POLYGON ((126.96877 37.57823, 126.96878 37.578...</td>\n",
       "    </tr>\n",
       "    <tr>\n",
       "      <th>4</th>\n",
       "      <td>1101053010005</td>\n",
       "      <td>사직동</td>\n",
       "      <td>1101053</td>\n",
       "      <td>POLYGON ((126.97399 37.57823, 126.97400 37.578...</td>\n",
       "    </tr>\n",
       "  </tbody>\n",
       "</table>\n",
       "</div>"
      ],
      "text/plain": [
       "      TOT_REG_CD ADM_NM   ADM_CD  \\\n",
       "0  1101053010006    사직동  1101053   \n",
       "1  1101053010001    사직동  1101053   \n",
       "2  1101053010003    사직동  1101053   \n",
       "3  1101053010002    사직동  1101053   \n",
       "4  1101053010005    사직동  1101053   \n",
       "\n",
       "                                            geometry  \n",
       "0  POLYGON ((126.97033 37.57912, 126.97039 37.579...  \n",
       "1  POLYGON ((126.96613 37.57496, 126.96632 37.574...  \n",
       "2  POLYGON ((126.96645 37.57883, 126.96647 37.578...  \n",
       "3  POLYGON ((126.96877 37.57823, 126.96878 37.578...  \n",
       "4  POLYGON ((126.97399 37.57823, 126.97400 37.578...  "
      ]
     },
     "execution_count": 2,
     "metadata": {},
     "output_type": "execute_result"
    }
   ],
   "source": [
    "bus_stop_data = pd.read_csv('./집계구별 정류장수 및 승하차 데이터.csv')\n",
    "seoul_shp = gp.read_file('./data/서울시 행정구역 및 집계구 정보(SHP)/서울시_집계구_4326.shp',encoding=\"EUC-KR\")\n",
    "pop_data = pd.read_csv('./data/pop/19년 12월 집계구코드별 평균생활인구수.csv')\n",
    "seoul_shp.head()"
   ]
  },
  {
   "cell_type": "code",
   "execution_count": 3,
   "id": "378c15ef-16db-4167-8911-6e93f08f8f58",
   "metadata": {},
   "outputs": [
    {
     "data": {
      "text/html": [
       "<div>\n",
       "<style scoped>\n",
       "    .dataframe tbody tr th:only-of-type {\n",
       "        vertical-align: middle;\n",
       "    }\n",
       "\n",
       "    .dataframe tbody tr th {\n",
       "        vertical-align: top;\n",
       "    }\n",
       "\n",
       "    .dataframe thead th {\n",
       "        text-align: right;\n",
       "    }\n",
       "</style>\n",
       "<table border=\"1\" class=\"dataframe\">\n",
       "  <thead>\n",
       "    <tr style=\"text-align: right;\">\n",
       "      <th></th>\n",
       "      <th>TOT_REG_CD</th>\n",
       "      <th>ADM_NM</th>\n",
       "      <th>ADM_CD</th>\n",
       "      <th>표준ID</th>\n",
       "      <th>정류소명</th>\n",
       "      <th>X좌표</th>\n",
       "      <th>Y좌표</th>\n",
       "      <th>승차</th>\n",
       "      <th>하차</th>\n",
       "      <th>월평균승차수</th>\n",
       "      <th>월평균하차수</th>\n",
       "      <th>정류장수</th>\n",
       "      <th>평균승차수</th>\n",
       "      <th>평균하차수</th>\n",
       "    </tr>\n",
       "  </thead>\n",
       "  <tbody>\n",
       "    <tr>\n",
       "      <th>0</th>\n",
       "      <td>1101053010006</td>\n",
       "      <td>사직동</td>\n",
       "      <td>1101053</td>\n",
       "      <td>100900005</td>\n",
       "      <td>오거리.한옥마을입구</td>\n",
       "      <td>126.969547</td>\n",
       "      <td>37.579499</td>\n",
       "      <td>2756</td>\n",
       "      <td>357</td>\n",
       "      <td>88.903226</td>\n",
       "      <td>11.516129</td>\n",
       "      <td>2</td>\n",
       "      <td>1448.00</td>\n",
       "      <td>1947.000000</td>\n",
       "    </tr>\n",
       "    <tr>\n",
       "      <th>1</th>\n",
       "      <td>1101072010014</td>\n",
       "      <td>청운효자동</td>\n",
       "      <td>1101072</td>\n",
       "      <td>100900005</td>\n",
       "      <td>오거리.한옥마을입구</td>\n",
       "      <td>126.969547</td>\n",
       "      <td>37.579499</td>\n",
       "      <td>2756</td>\n",
       "      <td>357</td>\n",
       "      <td>88.903226</td>\n",
       "      <td>11.516129</td>\n",
       "      <td>5</td>\n",
       "      <td>13397.80</td>\n",
       "      <td>11219.800000</td>\n",
       "    </tr>\n",
       "    <tr>\n",
       "      <th>2</th>\n",
       "      <td>1101072010009</td>\n",
       "      <td>청운효자동</td>\n",
       "      <td>1101072</td>\n",
       "      <td>100900005</td>\n",
       "      <td>오거리.한옥마을입구</td>\n",
       "      <td>126.969547</td>\n",
       "      <td>37.579499</td>\n",
       "      <td>2756</td>\n",
       "      <td>357</td>\n",
       "      <td>88.903226</td>\n",
       "      <td>11.516129</td>\n",
       "      <td>6</td>\n",
       "      <td>8820.50</td>\n",
       "      <td>14221.166667</td>\n",
       "    </tr>\n",
       "    <tr>\n",
       "      <th>3</th>\n",
       "      <td>1101072010002</td>\n",
       "      <td>청운효자동</td>\n",
       "      <td>1101072</td>\n",
       "      <td>100900005</td>\n",
       "      <td>오거리.한옥마을입구</td>\n",
       "      <td>126.969547</td>\n",
       "      <td>37.579499</td>\n",
       "      <td>2756</td>\n",
       "      <td>357</td>\n",
       "      <td>88.903226</td>\n",
       "      <td>11.516129</td>\n",
       "      <td>4</td>\n",
       "      <td>2648.25</td>\n",
       "      <td>3558.750000</td>\n",
       "    </tr>\n",
       "    <tr>\n",
       "      <th>4</th>\n",
       "      <td>1101053010006</td>\n",
       "      <td>사직동</td>\n",
       "      <td>1101053</td>\n",
       "      <td>100900104</td>\n",
       "      <td>오거리.한옥마을입구</td>\n",
       "      <td>126.969737</td>\n",
       "      <td>37.579511</td>\n",
       "      <td>140</td>\n",
       "      <td>3537</td>\n",
       "      <td>4.516129</td>\n",
       "      <td>114.096774</td>\n",
       "      <td>2</td>\n",
       "      <td>1448.00</td>\n",
       "      <td>1947.000000</td>\n",
       "    </tr>\n",
       "  </tbody>\n",
       "</table>\n",
       "</div>"
      ],
      "text/plain": [
       "      TOT_REG_CD ADM_NM   ADM_CD       표준ID        정류소명         X좌표  \\\n",
       "0  1101053010006    사직동  1101053  100900005  오거리.한옥마을입구  126.969547   \n",
       "1  1101072010014  청운효자동  1101072  100900005  오거리.한옥마을입구  126.969547   \n",
       "2  1101072010009  청운효자동  1101072  100900005  오거리.한옥마을입구  126.969547   \n",
       "3  1101072010002  청운효자동  1101072  100900005  오거리.한옥마을입구  126.969547   \n",
       "4  1101053010006    사직동  1101053  100900104  오거리.한옥마을입구  126.969737   \n",
       "\n",
       "         Y좌표    승차    하차     월평균승차수      월평균하차수  정류장수     평균승차수         평균하차수  \n",
       "0  37.579499  2756   357  88.903226   11.516129     2   1448.00   1947.000000  \n",
       "1  37.579499  2756   357  88.903226   11.516129     5  13397.80  11219.800000  \n",
       "2  37.579499  2756   357  88.903226   11.516129     6   8820.50  14221.166667  \n",
       "3  37.579499  2756   357  88.903226   11.516129     4   2648.25   3558.750000  \n",
       "4  37.579511   140  3537   4.516129  114.096774     2   1448.00   1947.000000  "
      ]
     },
     "execution_count": 3,
     "metadata": {},
     "output_type": "execute_result"
    }
   ],
   "source": [
    "bus_stop_data.drop('Unnamed: 0',axis=1,inplace=True)\n",
    "bus_stop_data.head()"
   ]
  },
  {
   "cell_type": "code",
   "execution_count": 4,
   "id": "c7e24f09-20f7-4939-b535-dcdc94b24ff3",
   "metadata": {},
   "outputs": [
    {
     "data": {
      "text/plain": [
       "10757"
      ]
     },
     "execution_count": 4,
     "metadata": {},
     "output_type": "execute_result"
    }
   ],
   "source": [
    "len(bus_stop_data['TOT_REG_CD'].unique())"
   ]
  },
  {
   "cell_type": "code",
   "execution_count": 103,
   "id": "1509ba9f-2cb0-4bfe-9c00-5be406660161",
   "metadata": {},
   "outputs": [
    {
     "name": "stderr",
     "output_type": "stream",
     "text": [
      "<ipython-input-103-9b66c2814c51>:3: UserWarning: Geometry is in a geographic CRS. Results from 'centroid' are likely incorrect. Use 'GeoSeries.to_crs()' to re-project geometries to a projected CRS before this operation.\n",
      "\n",
      "  seoul_shp.centroid.plot(ax=ax, c='black')\n"
     ]
    },
    {
     "data": {
      "image/png": "[encoded data removed]",
      "text/plain": [
       "<Figure size 1000x1000 with 1 Axes>"
      ]
     },
     "metadata": {},
     "output_type": "display_data"
    }
   ],
   "source": [
    "fig, ax = plt.subplots(figsize=(10,10))\n",
    "seoul_shp.plot(ax=ax, **{'edgecolor':'black', 'facecolor':'white'})\n",
    "seoul_shp.centroid.plot(ax=ax, c='black')\n",
    "plt.show()"
   ]
  },
  {
   "cell_type": "code",
   "execution_count": 5,
   "id": "57302cb9-5e61-483c-8637-3afa7d8b24da",
   "metadata": {},
   "outputs": [
    {
     "data": {
      "text/plain": [
       "Index(['TOT_REG_CD', 'ADM_NM', 'ADM_CD', '표준ID', '정류소명', 'X좌표', 'Y좌표', '승차',\n",
       "       '하차', '월평균승차수', '월평균하차수', '정류장수', '평균승차수', '평균하차수'],\n",
       "      dtype='object')"
      ]
     },
     "metadata": {},
     "output_type": "display_data"
    },
    {
     "data": {
      "text/plain": [
       "Index(['TOT_REG_CD', 'ADM_NM', 'ADM_CD', 'geometry'], dtype='object')"
      ]
     },
     "metadata": {},
     "output_type": "display_data"
    },
    {
     "data": {
      "text/plain": [
       "Index(['집계구코드', '구별총생활인구수', '구별총생활인구수(월평균)'], dtype='object')"
      ]
     },
     "metadata": {},
     "output_type": "display_data"
    },
    {
     "name": "stdout",
     "output_type": "stream",
     "text": [
      "<class 'pandas.core.frame.DataFrame'>\n",
      "RangeIndex: 33955 entries, 0 to 33954\n",
      "Data columns (total 14 columns):\n",
      " #   Column      Non-Null Count  Dtype  \n",
      "---  ------      --------------  -----  \n",
      " 0   TOT_REG_CD  33955 non-null  int64  \n",
      " 1   ADM_NM      33955 non-null  object \n",
      " 2   ADM_CD      33955 non-null  int64  \n",
      " 3   표준ID        33955 non-null  int64  \n",
      " 4   정류소명        33955 non-null  object \n",
      " 5   X좌표         33955 non-null  float64\n",
      " 6   Y좌표         33955 non-null  float64\n",
      " 7   승차          33955 non-null  int64  \n",
      " 8   하차          33955 non-null  int64  \n",
      " 9   월평균승차수      33955 non-null  float64\n",
      " 10  월평균하차수      33955 non-null  float64\n",
      " 11  정류장수        33955 non-null  int64  \n",
      " 12  평균승차수       33955 non-null  float64\n",
      " 13  평균하차수       33955 non-null  float64\n",
      "dtypes: float64(6), int64(6), object(2)\n",
      "memory usage: 3.6+ MB\n"
     ]
    },
    {
     "data": {
      "text/plain": [
       "None"
      ]
     },
     "metadata": {},
     "output_type": "display_data"
    },
    {
     "name": "stdout",
     "output_type": "stream",
     "text": [
      "<class 'geopandas.geodataframe.GeoDataFrame'>\n",
      "RangeIndex: 19153 entries, 0 to 19152\n",
      "Data columns (total 4 columns):\n",
      " #   Column      Non-Null Count  Dtype   \n",
      "---  ------      --------------  -----   \n",
      " 0   TOT_REG_CD  19153 non-null  object  \n",
      " 1   ADM_NM      19153 non-null  object  \n",
      " 2   ADM_CD      19153 non-null  object  \n",
      " 3   geometry    19153 non-null  geometry\n",
      "dtypes: geometry(1), object(3)\n",
      "memory usage: 598.7+ KB\n"
     ]
    },
    {
     "data": {
      "text/plain": [
       "None"
      ]
     },
     "metadata": {},
     "output_type": "display_data"
    },
    {
     "name": "stdout",
     "output_type": "stream",
     "text": [
      "<class 'pandas.core.frame.DataFrame'>\n",
      "RangeIndex: 19153 entries, 0 to 19152\n",
      "Data columns (total 3 columns):\n",
      " #   Column         Non-Null Count  Dtype  \n",
      "---  ------         --------------  -----  \n",
      " 0   집계구코드          19153 non-null  int64  \n",
      " 1   구별총생활인구수       19153 non-null  float64\n",
      " 2   구별총생활인구수(월평균)  19153 non-null  float64\n",
      "dtypes: float64(2), int64(1)\n",
      "memory usage: 449.0 KB\n"
     ]
    },
    {
     "data": {
      "text/plain": [
       "None"
      ]
     },
     "metadata": {},
     "output_type": "display_data"
    }
   ],
   "source": [
    "display(bus_stop_data.columns)\n",
    "display(seoul_shp.columns)\n",
    "display(pop_data.columns)\n",
    "# 공통키 : TOT_REG_CD\n",
    "display(bus_stop_data.info())\n",
    "display(seoul_shp.info())\n",
    "display(pop_data.info())"
   ]
  },
  {
   "cell_type": "code",
   "execution_count": 6,
   "id": "a9b3d00c-46d9-445e-a734-80b616edcf67",
   "metadata": {},
   "outputs": [],
   "source": [
    "pop_data.rename(columns={'집계구코드':'TOT_REG_CD'},inplace=True)\n",
    "pop_data['TOT_REG_CD'] = pop_data['TOT_REG_CD'].astype(str)\n",
    "bus_stop_data['TOT_REG_CD']= bus_stop_data['TOT_REG_CD'].astype(str)"
   ]
  },
  {
   "cell_type": "code",
   "execution_count": 7,
   "id": "067a0dd0-97d5-43ed-a269-f312858b8321",
   "metadata": {},
   "outputs": [
    {
     "data": {
      "text/html": [
       "<div>\n",
       "<style scoped>\n",
       "    .dataframe tbody tr th:only-of-type {\n",
       "        vertical-align: middle;\n",
       "    }\n",
       "\n",
       "    .dataframe tbody tr th {\n",
       "        vertical-align: top;\n",
       "    }\n",
       "\n",
       "    .dataframe thead th {\n",
       "        text-align: right;\n",
       "    }\n",
       "</style>\n",
       "<table border=\"1\" class=\"dataframe\">\n",
       "  <thead>\n",
       "    <tr style=\"text-align: right;\">\n",
       "      <th></th>\n",
       "      <th>TOT_REG_CD</th>\n",
       "      <th>월평균승차수</th>\n",
       "      <th>월평균하차수</th>\n",
       "    </tr>\n",
       "  </thead>\n",
       "  <tbody>\n",
       "    <tr>\n",
       "      <th>0</th>\n",
       "      <td>1101053010001</td>\n",
       "      <td>197.354839</td>\n",
       "      <td>392.322581</td>\n",
       "    </tr>\n",
       "    <tr>\n",
       "      <th>1</th>\n",
       "      <td>1101053010002</td>\n",
       "      <td>371.935484</td>\n",
       "      <td>484.419355</td>\n",
       "    </tr>\n",
       "    <tr>\n",
       "      <th>2</th>\n",
       "      <td>1101053010003</td>\n",
       "      <td>2259.548387</td>\n",
       "      <td>3706.806452</td>\n",
       "    </tr>\n",
       "    <tr>\n",
       "      <th>3</th>\n",
       "      <td>1101053010004</td>\n",
       "      <td>6617.225806</td>\n",
       "      <td>9143.193548</td>\n",
       "    </tr>\n",
       "    <tr>\n",
       "      <th>4</th>\n",
       "      <td>1101053010005</td>\n",
       "      <td>6315.225806</td>\n",
       "      <td>6500.903226</td>\n",
       "    </tr>\n",
       "  </tbody>\n",
       "</table>\n",
       "</div>"
      ],
      "text/plain": [
       "      TOT_REG_CD       월평균승차수       월평균하차수\n",
       "0  1101053010001   197.354839   392.322581\n",
       "1  1101053010002   371.935484   484.419355\n",
       "2  1101053010003  2259.548387  3706.806452\n",
       "3  1101053010004  6617.225806  9143.193548\n",
       "4  1101053010005  6315.225806  6500.903226"
      ]
     },
     "execution_count": 7,
     "metadata": {},
     "output_type": "execute_result"
    }
   ],
   "source": [
    "bus_stop_data_avg = bus_stop_data.groupby('TOT_REG_CD')[['평균승차수','평균하차수']].sum()\n",
    "bus_stop_data_avg = bus_stop_data_avg.reset_index()\n",
    "bus_stop_data_avg['평균승차수'] = bus_stop_data_avg['평균승차수'] / 31 # 19년 12월이 31일까지 있음, 월평균\n",
    "bus_stop_data_avg['평균하차수'] = bus_stop_data_avg['평균하차수'] / 31\n",
    "bus_stop_data_avg.rename(columns={'평균승차수':'월평균승차수','평균하차수':'월평균하차수'},inplace=True)\n",
    "bus_stop_data_avg.head()"
   ]
  },
  {
   "cell_type": "code",
   "execution_count": 8,
   "id": "3cc2e37b-6880-4969-b2b4-9be481940a03",
   "metadata": {},
   "outputs": [],
   "source": [
    "bus_stop_count = bus_stop_data.groupby('TOT_REG_CD').size()\n",
    "count = list()\n",
    "\n",
    "for i, row in bus_stop_data_avg.iterrows():\n",
    "    tot_reg_cd = row.loc['TOT_REG_CD'] # 집계구 코드를 가져와서 저장.\n",
    "    count.append(bus_stop_count.loc[tot_reg_cd])\n",
    "\n",
    "bus_stop_data_avg['정류장수'] = pd.Series(count)"
   ]
  },
  {
   "cell_type": "code",
   "execution_count": 9,
   "id": "ac677c13-40f2-4a4d-a3b3-2ff0cb342601",
   "metadata": {},
   "outputs": [
    {
     "data": {
      "text/html": [
       "<div>\n",
       "<style scoped>\n",
       "    .dataframe tbody tr th:only-of-type {\n",
       "        vertical-align: middle;\n",
       "    }\n",
       "\n",
       "    .dataframe tbody tr th {\n",
       "        vertical-align: top;\n",
       "    }\n",
       "\n",
       "    .dataframe thead th {\n",
       "        text-align: right;\n",
       "    }\n",
       "</style>\n",
       "<table border=\"1\" class=\"dataframe\">\n",
       "  <thead>\n",
       "    <tr style=\"text-align: right;\">\n",
       "      <th></th>\n",
       "      <th>TOT_REG_CD</th>\n",
       "      <th>월평균승차수</th>\n",
       "      <th>월평균하차수</th>\n",
       "      <th>정류장수</th>\n",
       "    </tr>\n",
       "  </thead>\n",
       "  <tbody>\n",
       "    <tr>\n",
       "      <th>0</th>\n",
       "      <td>1101053010001</td>\n",
       "      <td>197.354839</td>\n",
       "      <td>392.322581</td>\n",
       "      <td>3</td>\n",
       "    </tr>\n",
       "    <tr>\n",
       "      <th>1</th>\n",
       "      <td>1101053010002</td>\n",
       "      <td>371.935484</td>\n",
       "      <td>484.419355</td>\n",
       "      <td>2</td>\n",
       "    </tr>\n",
       "    <tr>\n",
       "      <th>2</th>\n",
       "      <td>1101053010003</td>\n",
       "      <td>2259.548387</td>\n",
       "      <td>3706.806452</td>\n",
       "      <td>12</td>\n",
       "    </tr>\n",
       "    <tr>\n",
       "      <th>3</th>\n",
       "      <td>1101053010004</td>\n",
       "      <td>6617.225806</td>\n",
       "      <td>9143.193548</td>\n",
       "      <td>5</td>\n",
       "    </tr>\n",
       "    <tr>\n",
       "      <th>4</th>\n",
       "      <td>1101053010005</td>\n",
       "      <td>6315.225806</td>\n",
       "      <td>6500.903226</td>\n",
       "      <td>6</td>\n",
       "    </tr>\n",
       "  </tbody>\n",
       "</table>\n",
       "</div>"
      ],
      "text/plain": [
       "      TOT_REG_CD       월평균승차수       월평균하차수  정류장수\n",
       "0  1101053010001   197.354839   392.322581     3\n",
       "1  1101053010002   371.935484   484.419355     2\n",
       "2  1101053010003  2259.548387  3706.806452    12\n",
       "3  1101053010004  6617.225806  9143.193548     5\n",
       "4  1101053010005  6315.225806  6500.903226     6"
      ]
     },
     "execution_count": 9,
     "metadata": {},
     "output_type": "execute_result"
    }
   ],
   "source": [
    "bus_stop_data_avg.head()"
   ]
  },
  {
   "cell_type": "code",
   "execution_count": 10,
   "id": "4099786a-e4c8-4f08-877b-2a8ac8ab7a94",
   "metadata": {},
   "outputs": [
    {
     "data": {
      "text/html": [
       "<div>\n",
       "<style scoped>\n",
       "    .dataframe tbody tr th:only-of-type {\n",
       "        vertical-align: middle;\n",
       "    }\n",
       "\n",
       "    .dataframe tbody tr th {\n",
       "        vertical-align: top;\n",
       "    }\n",
       "\n",
       "    .dataframe thead th {\n",
       "        text-align: right;\n",
       "    }\n",
       "</style>\n",
       "<table border=\"1\" class=\"dataframe\">\n",
       "  <thead>\n",
       "    <tr style=\"text-align: right;\">\n",
       "      <th></th>\n",
       "      <th>TOT_REG_CD</th>\n",
       "      <th>월평균승차수</th>\n",
       "      <th>월평균하차수</th>\n",
       "      <th>정류장수</th>\n",
       "      <th>ADM_NM</th>\n",
       "      <th>ADM_CD</th>\n",
       "      <th>geometry</th>\n",
       "    </tr>\n",
       "  </thead>\n",
       "  <tbody>\n",
       "    <tr>\n",
       "      <th>0</th>\n",
       "      <td>1101053010001</td>\n",
       "      <td>197.354839</td>\n",
       "      <td>392.322581</td>\n",
       "      <td>3</td>\n",
       "      <td>사직동</td>\n",
       "      <td>1101053</td>\n",
       "      <td>POLYGON ((126.96613 37.57496, 126.96632 37.574...</td>\n",
       "    </tr>\n",
       "    <tr>\n",
       "      <th>1</th>\n",
       "      <td>1101053010002</td>\n",
       "      <td>371.935484</td>\n",
       "      <td>484.419355</td>\n",
       "      <td>2</td>\n",
       "      <td>사직동</td>\n",
       "      <td>1101053</td>\n",
       "      <td>POLYGON ((126.96877 37.57823, 126.96878 37.578...</td>\n",
       "    </tr>\n",
       "    <tr>\n",
       "      <th>2</th>\n",
       "      <td>1101053010003</td>\n",
       "      <td>2259.548387</td>\n",
       "      <td>3706.806452</td>\n",
       "      <td>12</td>\n",
       "      <td>사직동</td>\n",
       "      <td>1101053</td>\n",
       "      <td>POLYGON ((126.96645 37.57883, 126.96647 37.578...</td>\n",
       "    </tr>\n",
       "    <tr>\n",
       "      <th>3</th>\n",
       "      <td>1101053010004</td>\n",
       "      <td>6617.225806</td>\n",
       "      <td>9143.193548</td>\n",
       "      <td>5</td>\n",
       "      <td>사직동</td>\n",
       "      <td>1101053</td>\n",
       "      <td>POLYGON ((126.97145 37.57734, 126.97147 37.577...</td>\n",
       "    </tr>\n",
       "    <tr>\n",
       "      <th>4</th>\n",
       "      <td>1101053010005</td>\n",
       "      <td>6315.225806</td>\n",
       "      <td>6500.903226</td>\n",
       "      <td>6</td>\n",
       "      <td>사직동</td>\n",
       "      <td>1101053</td>\n",
       "      <td>POLYGON ((126.97399 37.57823, 126.97400 37.578...</td>\n",
       "    </tr>\n",
       "  </tbody>\n",
       "</table>\n",
       "</div>"
      ],
      "text/plain": [
       "      TOT_REG_CD       월평균승차수       월평균하차수  정류장수 ADM_NM   ADM_CD  \\\n",
       "0  1101053010001   197.354839   392.322581     3    사직동  1101053   \n",
       "1  1101053010002   371.935484   484.419355     2    사직동  1101053   \n",
       "2  1101053010003  2259.548387  3706.806452    12    사직동  1101053   \n",
       "3  1101053010004  6617.225806  9143.193548     5    사직동  1101053   \n",
       "4  1101053010005  6315.225806  6500.903226     6    사직동  1101053   \n",
       "\n",
       "                                            geometry  \n",
       "0  POLYGON ((126.96613 37.57496, 126.96632 37.574...  \n",
       "1  POLYGON ((126.96877 37.57823, 126.96878 37.578...  \n",
       "2  POLYGON ((126.96645 37.57883, 126.96647 37.578...  \n",
       "3  POLYGON ((126.97145 37.57734, 126.97147 37.577...  \n",
       "4  POLYGON ((126.97399 37.57823, 126.97400 37.578...  "
      ]
     },
     "execution_count": 10,
     "metadata": {},
     "output_type": "execute_result"
    }
   ],
   "source": [
    "# prepare dataset\n",
    "data = bus_stop_data_avg.merge(seoul_shp,left_on='TOT_REG_CD',right_on='TOT_REG_CD')\n",
    "data.head()"
   ]
  },
  {
   "cell_type": "markdown",
   "id": "f94eeed9-eb86-4e4c-aa3a-8ae996ba1b34",
   "metadata": {},
   "source": [
    "정류소데이터가 각 정류소ID별로 unique하게 집계되었기 때문에 집계구의 중복 문제가 발생한다.\n",
    "<br>따라서 먼저 버스 데이터를 집계구별로 groupby를 하여 집계구의 데이터를 유일하게 만들어 주도록 하고 merge를 진행해야 한다."
   ]
  },
  {
   "cell_type": "code",
   "execution_count": 11,
   "id": "ee9986f9-9d4a-49e2-86ec-f722cea55dc8",
   "metadata": {},
   "outputs": [
    {
     "data": {
      "text/html": [
       "<div>\n",
       "<style scoped>\n",
       "    .dataframe tbody tr th:only-of-type {\n",
       "        vertical-align: middle;\n",
       "    }\n",
       "\n",
       "    .dataframe tbody tr th {\n",
       "        vertical-align: top;\n",
       "    }\n",
       "\n",
       "    .dataframe thead th {\n",
       "        text-align: right;\n",
       "    }\n",
       "</style>\n",
       "<table border=\"1\" class=\"dataframe\">\n",
       "  <thead>\n",
       "    <tr style=\"text-align: right;\">\n",
       "      <th></th>\n",
       "      <th>TOT_REG_CD</th>\n",
       "      <th>월평균승차수</th>\n",
       "      <th>월평균하차수</th>\n",
       "      <th>정류장수</th>\n",
       "      <th>ADM_NM</th>\n",
       "      <th>ADM_CD</th>\n",
       "      <th>geometry</th>\n",
       "      <th>구별총생활인구수</th>\n",
       "      <th>구별총생활인구수(월평균)</th>\n",
       "    </tr>\n",
       "  </thead>\n",
       "  <tbody>\n",
       "    <tr>\n",
       "      <th>0</th>\n",
       "      <td>1101053010001</td>\n",
       "      <td>197.354839</td>\n",
       "      <td>392.322581</td>\n",
       "      <td>3</td>\n",
       "      <td>사직동</td>\n",
       "      <td>1101053</td>\n",
       "      <td>POLYGON ((126.96613 37.57496, 126.96632 37.574...</td>\n",
       "      <td>277143.0</td>\n",
       "      <td>8940.096774</td>\n",
       "    </tr>\n",
       "    <tr>\n",
       "      <th>1</th>\n",
       "      <td>1101053010002</td>\n",
       "      <td>371.935484</td>\n",
       "      <td>484.419355</td>\n",
       "      <td>2</td>\n",
       "      <td>사직동</td>\n",
       "      <td>1101053</td>\n",
       "      <td>POLYGON ((126.96877 37.57823, 126.96878 37.578...</td>\n",
       "      <td>1373417.0</td>\n",
       "      <td>44303.774194</td>\n",
       "    </tr>\n",
       "    <tr>\n",
       "      <th>2</th>\n",
       "      <td>1101053010003</td>\n",
       "      <td>2259.548387</td>\n",
       "      <td>3706.806452</td>\n",
       "      <td>12</td>\n",
       "      <td>사직동</td>\n",
       "      <td>1101053</td>\n",
       "      <td>POLYGON ((126.96645 37.57883, 126.96647 37.578...</td>\n",
       "      <td>1245899.0</td>\n",
       "      <td>40190.290323</td>\n",
       "    </tr>\n",
       "    <tr>\n",
       "      <th>3</th>\n",
       "      <td>1101053010004</td>\n",
       "      <td>6617.225806</td>\n",
       "      <td>9143.193548</td>\n",
       "      <td>5</td>\n",
       "      <td>사직동</td>\n",
       "      <td>1101053</td>\n",
       "      <td>POLYGON ((126.97145 37.57734, 126.97147 37.577...</td>\n",
       "      <td>1515584.0</td>\n",
       "      <td>48889.806452</td>\n",
       "    </tr>\n",
       "    <tr>\n",
       "      <th>4</th>\n",
       "      <td>1101053010005</td>\n",
       "      <td>6315.225806</td>\n",
       "      <td>6500.903226</td>\n",
       "      <td>6</td>\n",
       "      <td>사직동</td>\n",
       "      <td>1101053</td>\n",
       "      <td>POLYGON ((126.97399 37.57823, 126.97400 37.578...</td>\n",
       "      <td>1038484.0</td>\n",
       "      <td>33499.483871</td>\n",
       "    </tr>\n",
       "  </tbody>\n",
       "</table>\n",
       "</div>"
      ],
      "text/plain": [
       "      TOT_REG_CD       월평균승차수       월평균하차수  정류장수 ADM_NM   ADM_CD  \\\n",
       "0  1101053010001   197.354839   392.322581     3    사직동  1101053   \n",
       "1  1101053010002   371.935484   484.419355     2    사직동  1101053   \n",
       "2  1101053010003  2259.548387  3706.806452    12    사직동  1101053   \n",
       "3  1101053010004  6617.225806  9143.193548     5    사직동  1101053   \n",
       "4  1101053010005  6315.225806  6500.903226     6    사직동  1101053   \n",
       "\n",
       "                                            geometry   구별총생활인구수  구별총생활인구수(월평균)  \n",
       "0  POLYGON ((126.96613 37.57496, 126.96632 37.574...   277143.0    8940.096774  \n",
       "1  POLYGON ((126.96877 37.57823, 126.96878 37.578...  1373417.0   44303.774194  \n",
       "2  POLYGON ((126.96645 37.57883, 126.96647 37.578...  1245899.0   40190.290323  \n",
       "3  POLYGON ((126.97145 37.57734, 126.97147 37.577...  1515584.0   48889.806452  \n",
       "4  POLYGON ((126.97399 37.57823, 126.97400 37.578...  1038484.0   33499.483871  "
      ]
     },
     "execution_count": 11,
     "metadata": {},
     "output_type": "execute_result"
    }
   ],
   "source": [
    "data = data.merge(pop_data,left_on='TOT_REG_CD',right_on='TOT_REG_CD')\n",
    "data.head()"
   ]
  },
  {
   "cell_type": "code",
   "execution_count": 12,
   "id": "eb1919ad-c98f-4705-9930-bfd9ae89bdab",
   "metadata": {},
   "outputs": [
    {
     "data": {
      "text/plain": [
       "10757"
      ]
     },
     "metadata": {},
     "output_type": "display_data"
    },
    {
     "data": {
      "text/plain": [
       "10757"
      ]
     },
     "metadata": {},
     "output_type": "display_data"
    }
   ],
   "source": [
    "display(len(data['TOT_REG_CD'].unique()))\n",
    "display(len(data))"
   ]
  },
  {
   "cell_type": "code",
   "execution_count": 13,
   "id": "6ff22cb3-bd83-41d2-a544-7a21dd176173",
   "metadata": {},
   "outputs": [
    {
     "data": {
      "text/html": [
       "<div>\n",
       "<style scoped>\n",
       "    .dataframe tbody tr th:only-of-type {\n",
       "        vertical-align: middle;\n",
       "    }\n",
       "\n",
       "    .dataframe tbody tr th {\n",
       "        vertical-align: top;\n",
       "    }\n",
       "\n",
       "    .dataframe thead th {\n",
       "        text-align: right;\n",
       "    }\n",
       "</style>\n",
       "<table border=\"1\" class=\"dataframe\">\n",
       "  <thead>\n",
       "    <tr style=\"text-align: right;\">\n",
       "      <th></th>\n",
       "      <th>TOT_REG_CD</th>\n",
       "      <th>ADM_NM</th>\n",
       "      <th>정류장수</th>\n",
       "      <th>월평균승차수</th>\n",
       "      <th>월평균하차수</th>\n",
       "      <th>구별총생활인구수(월평균)</th>\n",
       "      <th>geometry</th>\n",
       "    </tr>\n",
       "  </thead>\n",
       "  <tbody>\n",
       "    <tr>\n",
       "      <th>0</th>\n",
       "      <td>1101053010001</td>\n",
       "      <td>사직동</td>\n",
       "      <td>3</td>\n",
       "      <td>197.354839</td>\n",
       "      <td>392.322581</td>\n",
       "      <td>8940.096774</td>\n",
       "      <td>POLYGON ((126.96613 37.57496, 126.96632 37.574...</td>\n",
       "    </tr>\n",
       "    <tr>\n",
       "      <th>1</th>\n",
       "      <td>1101053010002</td>\n",
       "      <td>사직동</td>\n",
       "      <td>2</td>\n",
       "      <td>371.935484</td>\n",
       "      <td>484.419355</td>\n",
       "      <td>44303.774194</td>\n",
       "      <td>POLYGON ((126.96877 37.57823, 126.96878 37.578...</td>\n",
       "    </tr>\n",
       "    <tr>\n",
       "      <th>2</th>\n",
       "      <td>1101053010003</td>\n",
       "      <td>사직동</td>\n",
       "      <td>12</td>\n",
       "      <td>2259.548387</td>\n",
       "      <td>3706.806452</td>\n",
       "      <td>40190.290323</td>\n",
       "      <td>POLYGON ((126.96645 37.57883, 126.96647 37.578...</td>\n",
       "    </tr>\n",
       "    <tr>\n",
       "      <th>3</th>\n",
       "      <td>1101053010004</td>\n",
       "      <td>사직동</td>\n",
       "      <td>5</td>\n",
       "      <td>6617.225806</td>\n",
       "      <td>9143.193548</td>\n",
       "      <td>48889.806452</td>\n",
       "      <td>POLYGON ((126.97145 37.57734, 126.97147 37.577...</td>\n",
       "    </tr>\n",
       "    <tr>\n",
       "      <th>4</th>\n",
       "      <td>1101053010005</td>\n",
       "      <td>사직동</td>\n",
       "      <td>6</td>\n",
       "      <td>6315.225806</td>\n",
       "      <td>6500.903226</td>\n",
       "      <td>33499.483871</td>\n",
       "      <td>POLYGON ((126.97399 37.57823, 126.97400 37.578...</td>\n",
       "    </tr>\n",
       "  </tbody>\n",
       "</table>\n",
       "</div>"
      ],
      "text/plain": [
       "      TOT_REG_CD ADM_NM  정류장수       월평균승차수       월평균하차수  구별총생활인구수(월평균)  \\\n",
       "0  1101053010001    사직동     3   197.354839   392.322581    8940.096774   \n",
       "1  1101053010002    사직동     2   371.935484   484.419355   44303.774194   \n",
       "2  1101053010003    사직동    12  2259.548387  3706.806452   40190.290323   \n",
       "3  1101053010004    사직동     5  6617.225806  9143.193548   48889.806452   \n",
       "4  1101053010005    사직동     6  6315.225806  6500.903226   33499.483871   \n",
       "\n",
       "                                            geometry  \n",
       "0  POLYGON ((126.96613 37.57496, 126.96632 37.574...  \n",
       "1  POLYGON ((126.96877 37.57823, 126.96878 37.578...  \n",
       "2  POLYGON ((126.96645 37.57883, 126.96647 37.578...  \n",
       "3  POLYGON ((126.97145 37.57734, 126.97147 37.577...  \n",
       "4  POLYGON ((126.97399 37.57823, 126.97400 37.578...  "
      ]
     },
     "execution_count": 13,
     "metadata": {},
     "output_type": "execute_result"
    }
   ],
   "source": [
    "sample_data = data[['TOT_REG_CD','ADM_NM','정류장수','월평균승차수','월평균하차수','구별총생활인구수(월평균)','geometry']]\n",
    "sample_data.head()"
   ]
  },
  {
   "cell_type": "code",
   "execution_count": 14,
   "id": "eb318691-d23d-48d6-8cd2-76dcb636620e",
   "metadata": {},
   "outputs": [
    {
     "name": "stderr",
     "output_type": "stream",
     "text": [
      "<ipython-input-14-4d5b3ede13d0>:1: UserWarning: Geometry is in a geographic CRS. Results from 'centroid' are likely incorrect. Use 'GeoSeries.to_crs()' to re-project geometries to a projected CRS before this operation.\n",
      "\n",
      "  center = seoul_shp.centroid\n",
      "C:\\Users\\user\\anaconda3\\lib\\site-packages\\pandas\\core\\indexing.py:1667: SettingWithCopyWarning: \n",
      "A value is trying to be set on a copy of a slice from a DataFrame.\n",
      "Try using .loc[row_indexer,col_indexer] = value instead\n",
      "\n",
      "See the caveats in the documentation: https://pandas.pydata.org/pandas-docs/stable/user_guide/indexing.html#returning-a-view-versus-a-copy\n",
      "  self.obj[key] = value\n"
     ]
    },
    {
     "data": {
      "text/html": [
       "<div>\n",
       "<style scoped>\n",
       "    .dataframe tbody tr th:only-of-type {\n",
       "        vertical-align: middle;\n",
       "    }\n",
       "\n",
       "    .dataframe tbody tr th {\n",
       "        vertical-align: top;\n",
       "    }\n",
       "\n",
       "    .dataframe thead th {\n",
       "        text-align: right;\n",
       "    }\n",
       "</style>\n",
       "<table border=\"1\" class=\"dataframe\">\n",
       "  <thead>\n",
       "    <tr style=\"text-align: right;\">\n",
       "      <th></th>\n",
       "      <th>TOT_REG_CD</th>\n",
       "      <th>ADM_NM</th>\n",
       "      <th>정류장수</th>\n",
       "      <th>월평균승차수</th>\n",
       "      <th>월평균하차수</th>\n",
       "      <th>구별총생활인구수(월평균)</th>\n",
       "      <th>geometry</th>\n",
       "      <th>lon</th>\n",
       "      <th>lat</th>\n",
       "    </tr>\n",
       "  </thead>\n",
       "  <tbody>\n",
       "    <tr>\n",
       "      <th>0</th>\n",
       "      <td>1101053010001</td>\n",
       "      <td>사직동</td>\n",
       "      <td>3</td>\n",
       "      <td>197.354839</td>\n",
       "      <td>392.322581</td>\n",
       "      <td>8940.096774</td>\n",
       "      <td>POLYGON ((126.96613 37.57496, 126.96632 37.574...</td>\n",
       "      <td>126.970311</td>\n",
       "      <td>37.578304</td>\n",
       "    </tr>\n",
       "    <tr>\n",
       "      <th>1</th>\n",
       "      <td>1101053010002</td>\n",
       "      <td>사직동</td>\n",
       "      <td>2</td>\n",
       "      <td>371.935484</td>\n",
       "      <td>484.419355</td>\n",
       "      <td>44303.774194</td>\n",
       "      <td>POLYGON ((126.96877 37.57823, 126.96878 37.578...</td>\n",
       "      <td>126.965178</td>\n",
       "      <td>37.574151</td>\n",
       "    </tr>\n",
       "    <tr>\n",
       "      <th>2</th>\n",
       "      <td>1101053010003</td>\n",
       "      <td>사직동</td>\n",
       "      <td>12</td>\n",
       "      <td>2259.548387</td>\n",
       "      <td>3706.806452</td>\n",
       "      <td>40190.290323</td>\n",
       "      <td>POLYGON ((126.96645 37.57883, 126.96647 37.578...</td>\n",
       "      <td>126.965513</td>\n",
       "      <td>37.576513</td>\n",
       "    </tr>\n",
       "    <tr>\n",
       "      <th>3</th>\n",
       "      <td>1101053010004</td>\n",
       "      <td>사직동</td>\n",
       "      <td>5</td>\n",
       "      <td>6617.225806</td>\n",
       "      <td>9143.193548</td>\n",
       "      <td>48889.806452</td>\n",
       "      <td>POLYGON ((126.97145 37.57734, 126.97147 37.577...</td>\n",
       "      <td>126.969002</td>\n",
       "      <td>37.577092</td>\n",
       "    </tr>\n",
       "    <tr>\n",
       "      <th>4</th>\n",
       "      <td>1101053010005</td>\n",
       "      <td>사직동</td>\n",
       "      <td>6</td>\n",
       "      <td>6315.225806</td>\n",
       "      <td>6500.903226</td>\n",
       "      <td>33499.483871</td>\n",
       "      <td>POLYGON ((126.97399 37.57823, 126.97400 37.578...</td>\n",
       "      <td>126.972772</td>\n",
       "      <td>37.578025</td>\n",
       "    </tr>\n",
       "  </tbody>\n",
       "</table>\n",
       "</div>"
      ],
      "text/plain": [
       "      TOT_REG_CD ADM_NM  정류장수       월평균승차수       월평균하차수  구별총생활인구수(월평균)  \\\n",
       "0  1101053010001    사직동     3   197.354839   392.322581    8940.096774   \n",
       "1  1101053010002    사직동     2   371.935484   484.419355   44303.774194   \n",
       "2  1101053010003    사직동    12  2259.548387  3706.806452   40190.290323   \n",
       "3  1101053010004    사직동     5  6617.225806  9143.193548   48889.806452   \n",
       "4  1101053010005    사직동     6  6315.225806  6500.903226   33499.483871   \n",
       "\n",
       "                                            geometry         lon        lat  \n",
       "0  POLYGON ((126.96613 37.57496, 126.96632 37.574...  126.970311  37.578304  \n",
       "1  POLYGON ((126.96877 37.57823, 126.96878 37.578...  126.965178  37.574151  \n",
       "2  POLYGON ((126.96645 37.57883, 126.96647 37.578...  126.965513  37.576513  \n",
       "3  POLYGON ((126.97145 37.57734, 126.97147 37.577...  126.969002  37.577092  \n",
       "4  POLYGON ((126.97399 37.57823, 126.97400 37.578...  126.972772  37.578025  "
      ]
     },
     "execution_count": 14,
     "metadata": {},
     "output_type": "execute_result"
    }
   ],
   "source": [
    "center = seoul_shp.centroid\n",
    "X = pd.Series(center.x)\n",
    "Y = pd.Series(center.y)\n",
    "sample_data.loc[:,'lon'] = X\n",
    "sample_data.loc[:,'lat'] = Y\n",
    "sample_data.head()"
   ]
  },
  {
   "cell_type": "code",
   "execution_count": 83,
   "id": "514f2dcd-8fe0-416e-b072-015ee327f131",
   "metadata": {},
   "outputs": [
    {
     "name": "stdout",
     "output_type": "stream",
     "text": [
      "<class 'pandas.core.frame.DataFrame'>\n",
      "Int64Index: 10757 entries, 0 to 10756\n",
      "Data columns (total 7 columns):\n",
      " #   Column             Non-Null Count  Dtype   \n",
      "---  ------             --------------  -----   \n",
      " 0   TOT_REG_CD         10757 non-null  object  \n",
      " 1   ADM_NM             10757 non-null  object  \n",
      " 2   NUM_BUS_STOP       10757 non-null  int64   \n",
      " 3   AVG_MONTH_RIDE     10757 non-null  float64 \n",
      " 4   AVG_MONTH_GET_OFF  10757 non-null  float64 \n",
      " 5   AVG_TOT_POP        10757 non-null  float64 \n",
      " 6   geometry           10757 non-null  geometry\n",
      "dtypes: float64(3), geometry(1), int64(1), object(2)\n",
      "memory usage: 672.3+ KB\n"
     ]
    },
    {
     "name": "stderr",
     "output_type": "stream",
     "text": [
      "C:\\Users\\user\\anaconda3\\lib\\site-packages\\pandas\\core\\frame.py:5034: SettingWithCopyWarning: \n",
      "A value is trying to be set on a copy of a slice from a DataFrame\n",
      "\n",
      "See the caveats in the documentation: https://pandas.pydata.org/pandas-docs/stable/user_guide/indexing.html#returning-a-view-versus-a-copy\n",
      "  return super().rename(\n"
     ]
    }
   ],
   "source": [
    "# sample_data[['월평균승차수','월평균하차수','구별총생활인구수(월평균)']].astype(int)\n",
    "# sample_data.rename(columns={'정류장수':'NUM_BUS_STOP','월평균승차수':'AVG_MONTH_RIDE'\n",
    "#                    ,'월평균하차수':'AVG_MONTH_GET_OFF','구별총생활인구수(월평균)':'AVG_TOT_POP'},inplace=True)\n",
    "# sample_data.info()"
   ]
  },
  {
   "cell_type": "code",
   "execution_count": 15,
   "id": "61aea4da-b5ac-4cff-adc2-076e0486eeef",
   "metadata": {},
   "outputs": [
    {
     "data": {
      "text/plain": [
       "10757"
      ]
     },
     "execution_count": 15,
     "metadata": {},
     "output_type": "execute_result"
    }
   ],
   "source": [
    "len(sample_data)"
   ]
  },
  {
   "cell_type": "markdown",
   "id": "37378017-c1f5-4a2a-bd8f-a545021af28e",
   "metadata": {},
   "source": [
    "### Train and Test set 분리"
   ]
  },
  {
   "cell_type": "code",
   "execution_count": 58,
   "id": "c8e20c37-3320-4a3b-bc3c-fa767a61eef0",
   "metadata": {},
   "outputs": [
    {
     "name": "stderr",
     "output_type": "stream",
     "text": [
      "C:\\Users\\user\\anaconda3\\lib\\site-packages\\pandas\\core\\frame.py:4901: SettingWithCopyWarning: \n",
      "A value is trying to be set on a copy of a slice from a DataFrame\n",
      "\n",
      "See the caveats in the documentation: https://pandas.pydata.org/pandas-docs/stable/user_guide/indexing.html#returning-a-view-versus-a-copy\n",
      "  return super().drop(\n"
     ]
    }
   ],
   "source": [
    "# s_y = sample_data['구별총생활인구수(월평균)'].values.reshape((-1,1))\n",
    "# s_X = sample_data[['정류장수', '월평균승차수', '월평균하차수','lon','lat']].values\n",
    "# u = sample_data['lon']\n",
    "# v = sample_data['lat']\n",
    "# coords = list(zip(u,v))\n",
    "\n",
    "# standardScaler적용\n",
    "\n",
    "scaler = StandardScaler()\n",
    "s_y = sample_data['구별총생활인구수(월평균)']\n",
    "s_X = sample_data[['정류장수', '월평균승차수', '월평균하차수','lon','lat']]\n",
    "\n",
    "# train set과 test set으로 나누는 과정으로 보인다.\n",
    "# 해당 모델에 교차 검증이 있는 것으로 알고 있다.\n",
    "\n",
    "# test set은 20%, \n",
    "x_train, x_valid, y_train, y_valid = train_test_split(s_X, s_y, test_size=0.2, shuffle=True,random_state=34)\n",
    "\n",
    "cal_u = x_train['lon'].values\n",
    "cal_v = x_train['lat'].values\n",
    "cal_coords = list(zip(cal_u,cal_v))\n",
    "\n",
    "pred_u = x_valid['lon'].values\n",
    "pred_v = x_valid['lat'].values\n",
    "pred_coords = list(zip(pred_u,pred_v))\n",
    "\n",
    "# 위도, 경도 column 제거\n",
    "# display(x_train.columns)\n",
    "x_train.drop(['lon','lat'],axis=1,inplace=True)\n",
    "x_valid.drop(['lon','lat'],axis=1,inplace=True)\n",
    "\n",
    "# array로 변환\n",
    "X_train = scaler.fit_transform(x_train.values)\n",
    "Y_train = scaler.fit_transform(y_train.values.reshape((-1,1)))\n",
    "X_valid = scaler.fit_transform(x_valid.values)\n",
    "Y_valid = scaler.fit_transform(y_valid.values.reshape((-1,1)))\n",
    "\n",
    "# 나눈 후 array로 만들어 주자..\n",
    "\n",
    "# ------------- 원본 split ----------------\n",
    "# np.random.seed(908)\n",
    "# sample = np.random.choice(range(10757), 10)\n",
    "# mask = np.ones_like(s_y,dtype=bool).flatten() # s_y와 같은 shape과 datatype을 가진 array를 반환하고 flatten진행.\n",
    "# mask[sample] = False # masking된 데이터들에 False를 입력.\n",
    "\n",
    "# cal_coords = coords[mask]\n",
    "# cal_y = s_y[mask]\n",
    "# cal_X = s_X[mask]\n",
    "\n",
    "# pred_coords = coords[~mask]\n",
    "# pred_y = s_y[~mask]\n",
    "# pred_X = s_X[~mask]\n",
    "# ---------------------------------------------\n",
    "\n",
    "# data 정규화\n",
    "# s_X = (s_X - s_X.mean(axis=0)) / s_X.std(axis=0) \n",
    "\n",
    "# s_y = s_y.reshape((-1,1))\n",
    "\n",
    "# s_y = (s_y - s_y.mean(axis=0)) / s_y.std(axis=0)"
   ]
  },
  {
   "cell_type": "code",
   "execution_count": 59,
   "id": "4655853f-b337-457a-aa47-e2bb2283e392",
   "metadata": {},
   "outputs": [
    {
     "data": {
      "text/plain": [
       "8605"
      ]
     },
     "metadata": {},
     "output_type": "display_data"
    },
    {
     "data": {
      "text/plain": [
       "8605"
      ]
     },
     "metadata": {},
     "output_type": "display_data"
    },
    {
     "data": {
      "text/plain": [
       "2152"
      ]
     },
     "metadata": {},
     "output_type": "display_data"
    },
    {
     "data": {
      "text/plain": [
       "2152"
      ]
     },
     "metadata": {},
     "output_type": "display_data"
    }
   ],
   "source": [
    "display(len(X_train))\n",
    "display(len(Y_train))\n",
    "display(len(X_valid))\n",
    "display(len(Y_valid))"
   ]
  },
  {
   "cell_type": "code",
   "execution_count": 60,
   "id": "a3414f1d-d94d-42a7-80a1-183a020d98d3",
   "metadata": {},
   "outputs": [
    {
     "data": {
      "text/plain": [
       "array([[ 1.03017673,  2.64894848,  3.16330374],\n",
       "       [ 0.29414077, -0.17706341, -0.27949084],\n",
       "       [ 0.66215875,  0.25663837,  0.21039261],\n",
       "       ...,\n",
       "       [-0.4418952 , -0.51450285, -0.51563317],\n",
       "       [ 0.29414077, -0.39676891, -0.45871682],\n",
       "       [ 3.23828463,  0.19403558,  0.0946776 ]])"
      ]
     },
     "execution_count": 60,
     "metadata": {},
     "output_type": "execute_result"
    }
   ],
   "source": [
    "X_valid"
   ]
  },
  {
   "cell_type": "code",
   "execution_count": 61,
   "id": "01209c7a-6fbf-493a-9ccb-6e10e65d1ffe",
   "metadata": {},
   "outputs": [
    {
     "name": "stdout",
     "output_type": "stream",
     "text": [
      "47.0\n"
     ]
    }
   ],
   "source": [
    "#Calibrate GWR model\n",
    "\n",
    "gwr_selector = Sel_BW(cal_coords, Y_train, X_train)\n",
    "gwr_bw = gwr_selector.search(bw_min=2)\n",
    "print(gwr_bw)\n",
    "gwr_model = GWR(cal_coords, Y_train, X_train, gwr_bw)\n",
    "gwr_results = gwr_model.fit()"
   ]
  },
  {
   "cell_type": "code",
   "execution_count": 22,
   "id": "23124553-d9ac-4ebf-81ee-9da980c7c139",
   "metadata": {},
   "outputs": [
    {
     "data": {
      "application/vnd.jupyter.widget-view+json": {
       "model_id": "14721da372d64d039083488e021204da",
       "version_major": 2,
       "version_minor": 0
      },
      "text/plain": [
       "Backfitting:   0%|          | 0/200 [00:00<?, ?it/s]"
      ]
     },
     "metadata": {},
     "output_type": "display_data"
    },
    {
     "ename": "KeyboardInterrupt",
     "evalue": "",
     "output_type": "error",
     "traceback": [
      "\u001b[1;31m---------------------------------------------------------------------------\u001b[0m",
      "\u001b[1;31mKeyboardInterrupt\u001b[0m                         Traceback (most recent call last)",
      "\u001b[1;32m<ipython-input-22-7768df8f2fde>\u001b[0m in \u001b[0;36m<module>\u001b[1;34m\u001b[0m\n\u001b[0;32m      2\u001b[0m \u001b[1;33m\u001b[0m\u001b[0m\n\u001b[0;32m      3\u001b[0m \u001b[0mmgwr_selector\u001b[0m \u001b[1;33m=\u001b[0m \u001b[0mSel_BW\u001b[0m\u001b[1;33m(\u001b[0m\u001b[0mcal_coords\u001b[0m\u001b[1;33m,\u001b[0m \u001b[0mY_train\u001b[0m\u001b[1;33m,\u001b[0m \u001b[0mX_train\u001b[0m\u001b[1;33m,\u001b[0m \u001b[0mmulti\u001b[0m\u001b[1;33m=\u001b[0m\u001b[1;32mTrue\u001b[0m\u001b[1;33m)\u001b[0m\u001b[1;33m\u001b[0m\u001b[1;33m\u001b[0m\u001b[0m\n\u001b[1;32m----> 4\u001b[1;33m \u001b[0mmgwr_bw\u001b[0m \u001b[1;33m=\u001b[0m \u001b[0mmgwr_selector\u001b[0m\u001b[1;33m.\u001b[0m\u001b[0msearch\u001b[0m\u001b[1;33m(\u001b[0m\u001b[0mmulti_bw_min\u001b[0m\u001b[1;33m=\u001b[0m\u001b[1;33m[\u001b[0m\u001b[1;36m2\u001b[0m\u001b[1;33m]\u001b[0m\u001b[1;33m)\u001b[0m\u001b[1;33m\u001b[0m\u001b[1;33m\u001b[0m\u001b[0m\n\u001b[0m\u001b[0;32m      5\u001b[0m \u001b[0mprint\u001b[0m\u001b[1;33m(\u001b[0m\u001b[0mmgwr_bw\u001b[0m\u001b[1;33m)\u001b[0m\u001b[1;33m\u001b[0m\u001b[1;33m\u001b[0m\u001b[0m\n\u001b[0;32m      6\u001b[0m \u001b[0mmgwr_model\u001b[0m \u001b[1;33m=\u001b[0m \u001b[0mMGWR\u001b[0m\u001b[1;33m(\u001b[0m\u001b[0mcal_coords\u001b[0m\u001b[1;33m,\u001b[0m \u001b[0mY_train\u001b[0m\u001b[1;33m,\u001b[0m \u001b[0mX_train\u001b[0m\u001b[1;33m,\u001b[0m \u001b[0mmgwr_selector\u001b[0m\u001b[1;33m)\u001b[0m\u001b[1;33m\u001b[0m\u001b[1;33m\u001b[0m\u001b[0m\n",
      "\u001b[1;32m~\\anaconda3\\lib\\site-packages\\mgwr\\sel_bw.py\u001b[0m in \u001b[0;36msearch\u001b[1;34m(self, search_method, criterion, bw_min, bw_max, interval, tol, max_iter, init_multi, tol_multi, rss_score, max_iter_multi, multi_bw_min, multi_bw_max, bws_same_times, pool, verbose)\u001b[0m\n\u001b[0;32m    311\u001b[0m \u001b[1;33m\u001b[0m\u001b[0m\n\u001b[0;32m    312\u001b[0m         \u001b[1;32mif\u001b[0m \u001b[0mself\u001b[0m\u001b[1;33m.\u001b[0m\u001b[0mmulti\u001b[0m\u001b[1;33m:\u001b[0m\u001b[1;33m\u001b[0m\u001b[1;33m\u001b[0m\u001b[0m\n\u001b[1;32m--> 313\u001b[1;33m             \u001b[0mself\u001b[0m\u001b[1;33m.\u001b[0m\u001b[0m_mbw\u001b[0m\u001b[1;33m(\u001b[0m\u001b[1;33m)\u001b[0m\u001b[1;33m\u001b[0m\u001b[1;33m\u001b[0m\u001b[0m\n\u001b[0m\u001b[0;32m    314\u001b[0m             \u001b[0mself\u001b[0m\u001b[1;33m.\u001b[0m\u001b[0mparams\u001b[0m \u001b[1;33m=\u001b[0m \u001b[0mself\u001b[0m\u001b[1;33m.\u001b[0m\u001b[0mbw\u001b[0m\u001b[1;33m[\u001b[0m\u001b[1;36m3\u001b[0m\u001b[1;33m]\u001b[0m  \u001b[1;31m#params n by k\u001b[0m\u001b[1;33m\u001b[0m\u001b[1;33m\u001b[0m\u001b[0m\n\u001b[0;32m    315\u001b[0m             \u001b[0mself\u001b[0m\u001b[1;33m.\u001b[0m\u001b[0msel_hist\u001b[0m \u001b[1;33m=\u001b[0m \u001b[0mself\u001b[0m\u001b[1;33m.\u001b[0m\u001b[0mbw\u001b[0m\u001b[1;33m[\u001b[0m\u001b[1;33m-\u001b[0m\u001b[1;36m2\u001b[0m\u001b[1;33m]\u001b[0m \u001b[1;31m#bw searching history\u001b[0m\u001b[1;33m\u001b[0m\u001b[1;33m\u001b[0m\u001b[0m\n",
      "\u001b[1;32m~\\anaconda3\\lib\\site-packages\\mgwr\\sel_bw.py\u001b[0m in \u001b[0;36m_mbw\u001b[1;34m(self)\u001b[0m\n\u001b[0;32m    397\u001b[0m                 max_iter=max_iter, pool=self.pool, verbose=False)\n\u001b[0;32m    398\u001b[0m \u001b[1;33m\u001b[0m\u001b[0m\n\u001b[1;32m--> 399\u001b[1;33m         self.bw = multi_bw(self.init_multi, y, X, n, k, family, self.tol_multi,\n\u001b[0m\u001b[0;32m    400\u001b[0m                            \u001b[0mself\u001b[0m\u001b[1;33m.\u001b[0m\u001b[0mmax_iter_multi\u001b[0m\u001b[1;33m,\u001b[0m \u001b[0mself\u001b[0m\u001b[1;33m.\u001b[0m\u001b[0mrss_score\u001b[0m\u001b[1;33m,\u001b[0m \u001b[0mgwr_func\u001b[0m\u001b[1;33m,\u001b[0m\u001b[1;33m\u001b[0m\u001b[1;33m\u001b[0m\u001b[0m\n\u001b[0;32m    401\u001b[0m                            \u001b[0mbw_func\u001b[0m\u001b[1;33m,\u001b[0m \u001b[0msel_func\u001b[0m\u001b[1;33m,\u001b[0m \u001b[0mmulti_bw_min\u001b[0m\u001b[1;33m,\u001b[0m \u001b[0mmulti_bw_max\u001b[0m\u001b[1;33m,\u001b[0m\u001b[1;33m\u001b[0m\u001b[1;33m\u001b[0m\u001b[0m\n",
      "\u001b[1;32m~\\anaconda3\\lib\\site-packages\\mgwr\\search.py\u001b[0m in \u001b[0;36mmulti_bw\u001b[1;34m(init, y, X, n, k, family, tol, max_iter, rss_score, gwr_func, bw_func, sel_func, multi_bw_min, multi_bw_max, bws_same_times, verbose)\u001b[0m\n\u001b[0;32m    221\u001b[0m                 \u001b[0mbw\u001b[0m \u001b[1;33m=\u001b[0m \u001b[0mbws\u001b[0m\u001b[1;33m[\u001b[0m\u001b[0mj\u001b[0m\u001b[1;33m]\u001b[0m\u001b[1;33m\u001b[0m\u001b[1;33m\u001b[0m\u001b[0m\n\u001b[0;32m    222\u001b[0m             \u001b[1;32melse\u001b[0m\u001b[1;33m:\u001b[0m\u001b[1;33m\u001b[0m\u001b[1;33m\u001b[0m\u001b[0m\n\u001b[1;32m--> 223\u001b[1;33m                 \u001b[0mbw\u001b[0m \u001b[1;33m=\u001b[0m \u001b[0msel_func\u001b[0m\u001b[1;33m(\u001b[0m\u001b[0mbw_class\u001b[0m\u001b[1;33m,\u001b[0m \u001b[0mmulti_bw_min\u001b[0m\u001b[1;33m[\u001b[0m\u001b[0mj\u001b[0m\u001b[1;33m]\u001b[0m\u001b[1;33m,\u001b[0m \u001b[0mmulti_bw_max\u001b[0m\u001b[1;33m[\u001b[0m\u001b[0mj\u001b[0m\u001b[1;33m]\u001b[0m\u001b[1;33m)\u001b[0m\u001b[1;33m\u001b[0m\u001b[1;33m\u001b[0m\u001b[0m\n\u001b[0m\u001b[0;32m    224\u001b[0m                 \u001b[0mgwr_sel_hist\u001b[0m\u001b[1;33m.\u001b[0m\u001b[0mappend\u001b[0m\u001b[1;33m(\u001b[0m\u001b[0mdeepcopy\u001b[0m\u001b[1;33m(\u001b[0m\u001b[0mbw_class\u001b[0m\u001b[1;33m.\u001b[0m\u001b[0msel_hist\u001b[0m\u001b[1;33m)\u001b[0m\u001b[1;33m)\u001b[0m\u001b[1;33m\u001b[0m\u001b[1;33m\u001b[0m\u001b[0m\n\u001b[0;32m    225\u001b[0m \u001b[1;33m\u001b[0m\u001b[0m\n",
      "\u001b[1;32m~\\anaconda3\\lib\\site-packages\\mgwr\\sel_bw.py\u001b[0m in \u001b[0;36msel_func\u001b[1;34m(bw_func, bw_min, bw_max)\u001b[0m\n\u001b[0;32m    392\u001b[0m \u001b[1;33m\u001b[0m\u001b[0m\n\u001b[0;32m    393\u001b[0m         \u001b[1;32mdef\u001b[0m \u001b[0msel_func\u001b[0m\u001b[1;33m(\u001b[0m\u001b[0mbw_func\u001b[0m\u001b[1;33m,\u001b[0m \u001b[0mbw_min\u001b[0m\u001b[1;33m=\u001b[0m\u001b[1;32mNone\u001b[0m\u001b[1;33m,\u001b[0m \u001b[0mbw_max\u001b[0m\u001b[1;33m=\u001b[0m\u001b[1;32mNone\u001b[0m\u001b[1;33m)\u001b[0m\u001b[1;33m:\u001b[0m\u001b[1;33m\u001b[0m\u001b[1;33m\u001b[0m\u001b[0m\n\u001b[1;32m--> 394\u001b[1;33m             return bw_func.search(\n\u001b[0m\u001b[0;32m    395\u001b[0m                 \u001b[0msearch_method\u001b[0m\u001b[1;33m=\u001b[0m\u001b[0msearch_method\u001b[0m\u001b[1;33m,\u001b[0m \u001b[0mcriterion\u001b[0m\u001b[1;33m=\u001b[0m\u001b[0mcriterion\u001b[0m\u001b[1;33m,\u001b[0m\u001b[1;33m\u001b[0m\u001b[1;33m\u001b[0m\u001b[0m\n\u001b[0;32m    396\u001b[0m                 \u001b[0mbw_min\u001b[0m\u001b[1;33m=\u001b[0m\u001b[0mbw_min\u001b[0m\u001b[1;33m,\u001b[0m \u001b[0mbw_max\u001b[0m\u001b[1;33m=\u001b[0m\u001b[0mbw_max\u001b[0m\u001b[1;33m,\u001b[0m \u001b[0minterval\u001b[0m\u001b[1;33m=\u001b[0m\u001b[0minterval\u001b[0m\u001b[1;33m,\u001b[0m \u001b[0mtol\u001b[0m\u001b[1;33m=\u001b[0m\u001b[0mtol\u001b[0m\u001b[1;33m,\u001b[0m\u001b[1;33m\u001b[0m\u001b[1;33m\u001b[0m\u001b[0m\n",
      "\u001b[1;32m~\\anaconda3\\lib\\site-packages\\mgwr\\sel_bw.py\u001b[0m in \u001b[0;36msearch\u001b[1;34m(self, search_method, criterion, bw_min, bw_max, interval, tol, max_iter, init_multi, tol_multi, rss_score, max_iter_multi, multi_bw_min, multi_bw_max, bws_same_times, pool, verbose)\u001b[0m\n\u001b[0;32m    317\u001b[0m                 -1]  #scalar, optimal bw from initial gwr model\n\u001b[0;32m    318\u001b[0m         \u001b[1;32melse\u001b[0m\u001b[1;33m:\u001b[0m\u001b[1;33m\u001b[0m\u001b[1;33m\u001b[0m\u001b[0m\n\u001b[1;32m--> 319\u001b[1;33m             \u001b[0mself\u001b[0m\u001b[1;33m.\u001b[0m\u001b[0m_bw\u001b[0m\u001b[1;33m(\u001b[0m\u001b[1;33m)\u001b[0m\u001b[1;33m\u001b[0m\u001b[1;33m\u001b[0m\u001b[0m\n\u001b[0m\u001b[0;32m    320\u001b[0m             \u001b[0mself\u001b[0m\u001b[1;33m.\u001b[0m\u001b[0msel_hist\u001b[0m \u001b[1;33m=\u001b[0m \u001b[0mself\u001b[0m\u001b[1;33m.\u001b[0m\u001b[0mbw\u001b[0m\u001b[1;33m[\u001b[0m\u001b[1;33m-\u001b[0m\u001b[1;36m1\u001b[0m\u001b[1;33m]\u001b[0m\u001b[1;33m\u001b[0m\u001b[1;33m\u001b[0m\u001b[0m\n\u001b[0;32m    321\u001b[0m \u001b[1;33m\u001b[0m\u001b[0m\n",
      "\u001b[1;32m~\\anaconda3\\lib\\site-packages\\mgwr\\sel_bw.py\u001b[0m in \u001b[0;36m_bw\u001b[1;34m(self)\u001b[0m\n\u001b[0;32m    335\u001b[0m                                       self.constant)\n\u001b[0;32m    336\u001b[0m             \u001b[0mdelta\u001b[0m \u001b[1;33m=\u001b[0m \u001b[1;36m0.38197\u001b[0m  \u001b[1;31m#1 - (np.sqrt(5.0)-1.0)/2.0\u001b[0m\u001b[1;33m\u001b[0m\u001b[1;33m\u001b[0m\u001b[0m\n\u001b[1;32m--> 337\u001b[1;33m             self.bw = golden_section(a, c, delta, gwr_func, self.tol,\n\u001b[0m\u001b[0;32m    338\u001b[0m                                      \u001b[0mself\u001b[0m\u001b[1;33m.\u001b[0m\u001b[0mmax_iter\u001b[0m\u001b[1;33m,\u001b[0m \u001b[0mself\u001b[0m\u001b[1;33m.\u001b[0m\u001b[0mint_score\u001b[0m\u001b[1;33m,\u001b[0m\u001b[1;33m\u001b[0m\u001b[1;33m\u001b[0m\u001b[0m\n\u001b[0;32m    339\u001b[0m                                      self.verbose)\n",
      "\u001b[1;32m~\\anaconda3\\lib\\site-packages\\mgwr\\search.py\u001b[0m in \u001b[0;36mgolden_section\u001b[1;34m(a, c, delta, function, tol, max_iter, int_score, verbose)\u001b[0m\n\u001b[0;32m     60\u001b[0m             \u001b[0mscore_b\u001b[0m \u001b[1;33m=\u001b[0m \u001b[0mdict\u001b[0m\u001b[1;33m[\u001b[0m\u001b[0mb\u001b[0m\u001b[1;33m]\u001b[0m\u001b[1;33m\u001b[0m\u001b[1;33m\u001b[0m\u001b[0m\n\u001b[0;32m     61\u001b[0m         \u001b[1;32melse\u001b[0m\u001b[1;33m:\u001b[0m\u001b[1;33m\u001b[0m\u001b[1;33m\u001b[0m\u001b[0m\n\u001b[1;32m---> 62\u001b[1;33m             \u001b[0mscore_b\u001b[0m \u001b[1;33m=\u001b[0m \u001b[0mfunction\u001b[0m\u001b[1;33m(\u001b[0m\u001b[0mb\u001b[0m\u001b[1;33m)\u001b[0m\u001b[1;33m\u001b[0m\u001b[1;33m\u001b[0m\u001b[0m\n\u001b[0m\u001b[0;32m     63\u001b[0m             \u001b[0mdict\u001b[0m\u001b[1;33m[\u001b[0m\u001b[0mb\u001b[0m\u001b[1;33m]\u001b[0m \u001b[1;33m=\u001b[0m \u001b[0mscore_b\u001b[0m\u001b[1;33m\u001b[0m\u001b[1;33m\u001b[0m\u001b[0m\n\u001b[0;32m     64\u001b[0m             \u001b[1;32mif\u001b[0m \u001b[0mverbose\u001b[0m\u001b[1;33m:\u001b[0m\u001b[1;33m\u001b[0m\u001b[1;33m\u001b[0m\u001b[0m\n",
      "\u001b[1;32m~\\anaconda3\\lib\\site-packages\\mgwr\\sel_bw.py\u001b[0m in \u001b[0;36m<lambda>\u001b[1;34m(bw)\u001b[0m\n\u001b[0;32m    324\u001b[0m \u001b[1;33m\u001b[0m\u001b[0m\n\u001b[0;32m    325\u001b[0m     \u001b[1;32mdef\u001b[0m \u001b[0m_bw\u001b[0m\u001b[1;33m(\u001b[0m\u001b[0mself\u001b[0m\u001b[1;33m)\u001b[0m\u001b[1;33m:\u001b[0m\u001b[1;33m\u001b[0m\u001b[1;33m\u001b[0m\u001b[0m\n\u001b[1;32m--> 326\u001b[1;33m         gwr_func = lambda bw: getDiag[self.criterion](GWR(\n\u001b[0m\u001b[0;32m    327\u001b[0m             \u001b[0mself\u001b[0m\u001b[1;33m.\u001b[0m\u001b[0mcoords\u001b[0m\u001b[1;33m,\u001b[0m \u001b[0mself\u001b[0m\u001b[1;33m.\u001b[0m\u001b[0my\u001b[0m\u001b[1;33m,\u001b[0m \u001b[0mself\u001b[0m\u001b[1;33m.\u001b[0m\u001b[0mX_loc\u001b[0m\u001b[1;33m,\u001b[0m \u001b[0mbw\u001b[0m\u001b[1;33m,\u001b[0m \u001b[0mfamily\u001b[0m\u001b[1;33m=\u001b[0m\u001b[0mself\u001b[0m\u001b[1;33m.\u001b[0m\u001b[0mfamily\u001b[0m\u001b[1;33m,\u001b[0m \u001b[0mkernel\u001b[0m\u001b[1;33m=\u001b[0m\u001b[1;33m\u001b[0m\u001b[1;33m\u001b[0m\u001b[0m\n\u001b[0;32m    328\u001b[0m             \u001b[0mself\u001b[0m\u001b[1;33m.\u001b[0m\u001b[0mkernel\u001b[0m\u001b[1;33m,\u001b[0m \u001b[0mfixed\u001b[0m\u001b[1;33m=\u001b[0m\u001b[0mself\u001b[0m\u001b[1;33m.\u001b[0m\u001b[0mfixed\u001b[0m\u001b[1;33m,\u001b[0m \u001b[0mconstant\u001b[0m\u001b[1;33m=\u001b[0m\u001b[0mself\u001b[0m\u001b[1;33m.\u001b[0m\u001b[0mconstant\u001b[0m\u001b[1;33m,\u001b[0m \u001b[0moffset\u001b[0m\u001b[1;33m=\u001b[0m\u001b[0mself\u001b[0m\u001b[1;33m.\u001b[0m\u001b[1;33m\u001b[0m\u001b[1;33m\u001b[0m\u001b[0m\n",
      "\u001b[1;32m~\\anaconda3\\lib\\site-packages\\mgwr\\gwr.py\u001b[0m in \u001b[0;36mfit\u001b[1;34m(self, ini_params, tol, max_iter, solve, lite, pool)\u001b[0m\n\u001b[0;32m    333\u001b[0m                 \u001b[0mrslt\u001b[0m \u001b[1;33m=\u001b[0m \u001b[0mmap\u001b[0m\u001b[1;33m(\u001b[0m\u001b[0mself\u001b[0m\u001b[1;33m.\u001b[0m\u001b[0m_local_fit\u001b[0m\u001b[1;33m,\u001b[0m \u001b[0mrange\u001b[0m\u001b[1;33m(\u001b[0m\u001b[0mm\u001b[0m\u001b[1;33m)\u001b[0m\u001b[1;33m)\u001b[0m  \u001b[1;31m#sequential\u001b[0m\u001b[1;33m\u001b[0m\u001b[1;33m\u001b[0m\u001b[0m\n\u001b[0;32m    334\u001b[0m \u001b[1;33m\u001b[0m\u001b[0m\n\u001b[1;32m--> 335\u001b[1;33m             \u001b[0mrslt_list\u001b[0m \u001b[1;33m=\u001b[0m \u001b[0mlist\u001b[0m\u001b[1;33m(\u001b[0m\u001b[0mzip\u001b[0m\u001b[1;33m(\u001b[0m\u001b[1;33m*\u001b[0m\u001b[0mrslt\u001b[0m\u001b[1;33m)\u001b[0m\u001b[1;33m)\u001b[0m\u001b[1;33m\u001b[0m\u001b[1;33m\u001b[0m\u001b[0m\n\u001b[0m\u001b[0;32m    336\u001b[0m             \u001b[0minflu\u001b[0m \u001b[1;33m=\u001b[0m \u001b[0mnp\u001b[0m\u001b[1;33m.\u001b[0m\u001b[0marray\u001b[0m\u001b[1;33m(\u001b[0m\u001b[0mrslt_list\u001b[0m\u001b[1;33m[\u001b[0m\u001b[1;36m0\u001b[0m\u001b[1;33m]\u001b[0m\u001b[1;33m)\u001b[0m\u001b[1;33m.\u001b[0m\u001b[0mreshape\u001b[0m\u001b[1;33m(\u001b[0m\u001b[1;33m-\u001b[0m\u001b[1;36m1\u001b[0m\u001b[1;33m,\u001b[0m \u001b[1;36m1\u001b[0m\u001b[1;33m)\u001b[0m\u001b[1;33m\u001b[0m\u001b[1;33m\u001b[0m\u001b[0m\n\u001b[0;32m    337\u001b[0m             \u001b[0mresid\u001b[0m \u001b[1;33m=\u001b[0m \u001b[0mnp\u001b[0m\u001b[1;33m.\u001b[0m\u001b[0marray\u001b[0m\u001b[1;33m(\u001b[0m\u001b[0mrslt_list\u001b[0m\u001b[1;33m[\u001b[0m\u001b[1;36m1\u001b[0m\u001b[1;33m]\u001b[0m\u001b[1;33m)\u001b[0m\u001b[1;33m.\u001b[0m\u001b[0mreshape\u001b[0m\u001b[1;33m(\u001b[0m\u001b[1;33m-\u001b[0m\u001b[1;36m1\u001b[0m\u001b[1;33m,\u001b[0m \u001b[1;36m1\u001b[0m\u001b[1;33m)\u001b[0m\u001b[1;33m\u001b[0m\u001b[1;33m\u001b[0m\u001b[0m\n",
      "\u001b[1;32m~\\anaconda3\\lib\\site-packages\\mgwr\\gwr.py\u001b[0m in \u001b[0;36m_local_fit\u001b[1;34m(self, i)\u001b[0m\n\u001b[0;32m    249\u001b[0m \u001b[1;33m\u001b[0m\u001b[0m\n\u001b[0;32m    250\u001b[0m         \u001b[1;32mif\u001b[0m \u001b[0misinstance\u001b[0m\u001b[1;33m(\u001b[0m\u001b[0mself\u001b[0m\u001b[1;33m.\u001b[0m\u001b[0mfamily\u001b[0m\u001b[1;33m,\u001b[0m \u001b[0mGaussian\u001b[0m\u001b[1;33m)\u001b[0m\u001b[1;33m:\u001b[0m\u001b[1;33m\u001b[0m\u001b[1;33m\u001b[0m\u001b[0m\n\u001b[1;32m--> 251\u001b[1;33m             \u001b[0mbetas\u001b[0m\u001b[1;33m,\u001b[0m \u001b[0minv_xtx_xt\u001b[0m \u001b[1;33m=\u001b[0m \u001b[0m_compute_betas_gwr\u001b[0m\u001b[1;33m(\u001b[0m\u001b[0mself\u001b[0m\u001b[1;33m.\u001b[0m\u001b[0my\u001b[0m\u001b[1;33m,\u001b[0m \u001b[0mself\u001b[0m\u001b[1;33m.\u001b[0m\u001b[0mX\u001b[0m\u001b[1;33m,\u001b[0m \u001b[0mwi\u001b[0m\u001b[1;33m)\u001b[0m\u001b[1;33m\u001b[0m\u001b[1;33m\u001b[0m\u001b[0m\n\u001b[0m\u001b[0;32m    252\u001b[0m             \u001b[0mpredy\u001b[0m \u001b[1;33m=\u001b[0m \u001b[0mnp\u001b[0m\u001b[1;33m.\u001b[0m\u001b[0mdot\u001b[0m\u001b[1;33m(\u001b[0m\u001b[0mself\u001b[0m\u001b[1;33m.\u001b[0m\u001b[0mX\u001b[0m\u001b[1;33m[\u001b[0m\u001b[0mi\u001b[0m\u001b[1;33m]\u001b[0m\u001b[1;33m,\u001b[0m \u001b[0mbetas\u001b[0m\u001b[1;33m)\u001b[0m\u001b[1;33m[\u001b[0m\u001b[1;36m0\u001b[0m\u001b[1;33m]\u001b[0m\u001b[1;33m\u001b[0m\u001b[1;33m\u001b[0m\u001b[0m\n\u001b[0;32m    253\u001b[0m             \u001b[0mresid\u001b[0m \u001b[1;33m=\u001b[0m \u001b[0mself\u001b[0m\u001b[1;33m.\u001b[0m\u001b[0my\u001b[0m\u001b[1;33m[\u001b[0m\u001b[0mi\u001b[0m\u001b[1;33m]\u001b[0m \u001b[1;33m-\u001b[0m \u001b[0mpredy\u001b[0m\u001b[1;33m\u001b[0m\u001b[1;33m\u001b[0m\u001b[0m\n",
      "\u001b[1;32m~\\anaconda3\\lib\\site-packages\\spglm\\iwls.py\u001b[0m in \u001b[0;36m_compute_betas_gwr\u001b[1;34m(y, x, wi)\u001b[0m\n\u001b[0;32m     35\u001b[0m     \u001b[0mxT\u001b[0m \u001b[1;33m=\u001b[0m \u001b[1;33m(\u001b[0m\u001b[0mx\u001b[0m \u001b[1;33m*\u001b[0m \u001b[0mwi\u001b[0m\u001b[1;33m)\u001b[0m\u001b[1;33m.\u001b[0m\u001b[0mT\u001b[0m\u001b[1;33m\u001b[0m\u001b[1;33m\u001b[0m\u001b[0m\n\u001b[0;32m     36\u001b[0m     \u001b[0mxtx\u001b[0m \u001b[1;33m=\u001b[0m \u001b[0mnp\u001b[0m\u001b[1;33m.\u001b[0m\u001b[0mdot\u001b[0m\u001b[1;33m(\u001b[0m\u001b[0mxT\u001b[0m\u001b[1;33m,\u001b[0m \u001b[0mx\u001b[0m\u001b[1;33m)\u001b[0m\u001b[1;33m\u001b[0m\u001b[1;33m\u001b[0m\u001b[0m\n\u001b[1;32m---> 37\u001b[1;33m     \u001b[0mxtx_inv_xt\u001b[0m \u001b[1;33m=\u001b[0m \u001b[0mlinalg\u001b[0m\u001b[1;33m.\u001b[0m\u001b[0msolve\u001b[0m\u001b[1;33m(\u001b[0m\u001b[0mxtx\u001b[0m\u001b[1;33m,\u001b[0m \u001b[0mxT\u001b[0m\u001b[1;33m)\u001b[0m\u001b[1;33m\u001b[0m\u001b[1;33m\u001b[0m\u001b[0m\n\u001b[0m\u001b[0;32m     38\u001b[0m     \u001b[0mbetas\u001b[0m \u001b[1;33m=\u001b[0m \u001b[0mnp\u001b[0m\u001b[1;33m.\u001b[0m\u001b[0mdot\u001b[0m\u001b[1;33m(\u001b[0m\u001b[0mxtx_inv_xt\u001b[0m\u001b[1;33m,\u001b[0m \u001b[0my\u001b[0m\u001b[1;33m)\u001b[0m\u001b[1;33m\u001b[0m\u001b[1;33m\u001b[0m\u001b[0m\n\u001b[0;32m     39\u001b[0m     \u001b[1;32mreturn\u001b[0m \u001b[0mbetas\u001b[0m\u001b[1;33m,\u001b[0m \u001b[0mxtx_inv_xt\u001b[0m\u001b[1;33m\u001b[0m\u001b[1;33m\u001b[0m\u001b[0m\n",
      "\u001b[1;32m~\\anaconda3\\lib\\site-packages\\scipy\\linalg\\basic.py\u001b[0m in \u001b[0;36msolve\u001b[1;34m(a, b, sym_pos, lower, overwrite_a, overwrite_b, debug, check_finite, assume_a, transposed)\u001b[0m\n\u001b[0;32m    216\u001b[0m                         trans=trans, overwrite_b=overwrite_b)\n\u001b[0;32m    217\u001b[0m         \u001b[0m_solve_check\u001b[0m\u001b[1;33m(\u001b[0m\u001b[0mn\u001b[0m\u001b[1;33m,\u001b[0m \u001b[0minfo\u001b[0m\u001b[1;33m)\u001b[0m\u001b[1;33m\u001b[0m\u001b[1;33m\u001b[0m\u001b[0m\n\u001b[1;32m--> 218\u001b[1;33m         \u001b[0mrcond\u001b[0m\u001b[1;33m,\u001b[0m \u001b[0minfo\u001b[0m \u001b[1;33m=\u001b[0m \u001b[0mgecon\u001b[0m\u001b[1;33m(\u001b[0m\u001b[0mlu\u001b[0m\u001b[1;33m,\u001b[0m \u001b[0manorm\u001b[0m\u001b[1;33m,\u001b[0m \u001b[0mnorm\u001b[0m\u001b[1;33m=\u001b[0m\u001b[0mnorm\u001b[0m\u001b[1;33m)\u001b[0m\u001b[1;33m\u001b[0m\u001b[1;33m\u001b[0m\u001b[0m\n\u001b[0m\u001b[0;32m    219\u001b[0m     \u001b[1;31m# Hermitian case 'hesv'\u001b[0m\u001b[1;33m\u001b[0m\u001b[1;33m\u001b[0m\u001b[1;33m\u001b[0m\u001b[0m\n\u001b[0;32m    220\u001b[0m     \u001b[1;32melif\u001b[0m \u001b[0massume_a\u001b[0m \u001b[1;33m==\u001b[0m \u001b[1;34m'her'\u001b[0m\u001b[1;33m:\u001b[0m\u001b[1;33m\u001b[0m\u001b[1;33m\u001b[0m\u001b[0m\n",
      "\u001b[1;31mKeyboardInterrupt\u001b[0m: "
     ]
    }
   ],
   "source": [
    "#Calibrate MGWR model\n",
    "\n",
    "mgwr_selector = Sel_BW(cal_coords, Y_train, X_train, multi=True)\n",
    "mgwr_bw = mgwr_selector.search(multi_bw_min=[2])\n",
    "print(mgwr_bw)\n",
    "mgwr_model = MGWR(cal_coords, Y_train, X_train, mgwr_selector)\n",
    "mgwr_results = mgwr_model.fit()"
   ]
  },
  {
   "cell_type": "code",
   "execution_count": 62,
   "id": "76604275-d633-4b11-a274-7268ba863a33",
   "metadata": {},
   "outputs": [
    {
     "data": {
      "text/plain": [
       "array([[ 0.26191313,  0.4145199 , -0.16973078,  1.21731465],\n",
       "       [-0.19298987,  0.24946532,  0.50604047, -0.4676173 ],\n",
       "       [-0.20329643,  0.0906506 , -0.00923347,  0.18088807],\n",
       "       [ 0.07468479,  0.18591474,  0.32353254,  0.2397272 ],\n",
       "       [-0.19485385,  0.157933  ,  0.29107569, -0.20439323]])"
      ]
     },
     "execution_count": 62,
     "metadata": {},
     "output_type": "execute_result"
    }
   ],
   "source": [
    "gwr_results.params[0:5]"
   ]
  },
  {
   "cell_type": "code",
   "execution_count": 63,
   "id": "f1232732-b505-4983-ac8c-7837a9e795dc",
   "metadata": {},
   "outputs": [
    {
     "data": {
      "text/plain": [
       "array([[ 0.75743841],\n",
       "       [ 0.51547676],\n",
       "       [ 0.44227122],\n",
       "       [ 0.85518221],\n",
       "       [ 0.64214719],\n",
       "       [ 0.93667309],\n",
       "       [ 0.7164021 ],\n",
       "       [ 0.5466609 ],\n",
       "       [ 0.77241461],\n",
       "       [-0.25952788]])"
      ]
     },
     "execution_count": 63,
     "metadata": {},
     "output_type": "execute_result"
    }
   ],
   "source": [
    "gwr_results.localR2[0:10]"
   ]
  },
  {
   "cell_type": "markdown",
   "id": "8e21992b-a467-4c4a-9d28-419d5305abd3",
   "metadata": {},
   "source": [
    "### 모델링 결과 확인"
   ]
  },
  {
   "cell_type": "code",
   "execution_count": 64,
   "id": "9d76a163-ce5a-47e1-94c3-b161bceb4c55",
   "metadata": {},
   "outputs": [
    {
     "data": {
      "text/plain": [
       "list"
      ]
     },
     "metadata": {},
     "output_type": "display_data"
    }
   ],
   "source": [
    "scale = gwr_results.scale\n",
    "residuals = gwr_results.resid_response\n",
    "\n",
    "display(type(pred_coords))\n",
    "# test data로 예측을 해보고 결과 저장\n",
    "pred_results = gwr_model.predict(np.array(pred_coords), X_valid, scale, residuals)"
   ]
  },
  {
   "cell_type": "code",
   "execution_count": 65,
   "id": "8eb65074-b850-4026-b128-ea89b20b260a",
   "metadata": {},
   "outputs": [
    {
     "ename": "NameError",
     "evalue": "name 'mgwr_results' is not defined",
     "output_type": "error",
     "traceback": [
      "\u001b[1;31m---------------------------------------------------------------------------\u001b[0m",
      "\u001b[1;31mNameError\u001b[0m                                 Traceback (most recent call last)",
      "\u001b[1;32m<ipython-input-65-85513eceeb36>\u001b[0m in \u001b[0;36m<module>\u001b[1;34m\u001b[0m\n\u001b[1;32m----> 1\u001b[1;33m \u001b[0mscale\u001b[0m \u001b[1;33m=\u001b[0m \u001b[0mmgwr_results\u001b[0m\u001b[1;33m.\u001b[0m\u001b[0mscale\u001b[0m\u001b[1;33m\u001b[0m\u001b[1;33m\u001b[0m\u001b[0m\n\u001b[0m\u001b[0;32m      2\u001b[0m \u001b[0mresiduals\u001b[0m \u001b[1;33m=\u001b[0m \u001b[0mmgwr_results\u001b[0m\u001b[1;33m.\u001b[0m\u001b[0mresid_response\u001b[0m\u001b[1;33m\u001b[0m\u001b[1;33m\u001b[0m\u001b[0m\n\u001b[0;32m      3\u001b[0m \u001b[1;33m\u001b[0m\u001b[0m\n\u001b[0;32m      4\u001b[0m \u001b[1;31m# test data로 예측을 해보고 결과 저장\u001b[0m\u001b[1;33m\u001b[0m\u001b[1;33m\u001b[0m\u001b[1;33m\u001b[0m\u001b[0m\n\u001b[0;32m      5\u001b[0m \u001b[0mmgwr_pred_results\u001b[0m \u001b[1;33m=\u001b[0m \u001b[0mmgwr_model\u001b[0m\u001b[1;33m.\u001b[0m\u001b[0mpredict\u001b[0m\u001b[1;33m(\u001b[0m\u001b[0mpred_coords\u001b[0m\u001b[1;33m,\u001b[0m \u001b[0mX_valid\u001b[0m\u001b[1;33m,\u001b[0m \u001b[0mscale\u001b[0m\u001b[1;33m,\u001b[0m \u001b[0mresiduals\u001b[0m\u001b[1;33m)\u001b[0m\u001b[1;33m\u001b[0m\u001b[1;33m\u001b[0m\u001b[0m\n",
      "\u001b[1;31mNameError\u001b[0m: name 'mgwr_results' is not defined"
     ]
    }
   ],
   "source": [
    "scale = mgwr_results.scale\n",
    "residuals = mgwr_results.resid_response\n",
    "\n",
    "# test data로 예측을 해보고 결과 저장\n",
    "mgwr_pred_results = mgwr_model.predict(pred_coords, X_valid, scale, residuals)"
   ]
  },
  {
   "cell_type": "code",
   "execution_count": 66,
   "id": "0e5b3f19-106f-4999-929e-64f2ecf5dde1",
   "metadata": {},
   "outputs": [
    {
     "data": {
      "text/plain": [
       "array([[ 1.63408348],\n",
       "       [-0.07804847],\n",
       "       [ 0.11454054],\n",
       "       ...,\n",
       "       [-0.3401191 ],\n",
       "       [ 0.19991156],\n",
       "       [ 1.22980467]])"
      ]
     },
     "execution_count": 66,
     "metadata": {},
     "output_type": "execute_result"
    }
   ],
   "source": [
    "pred_results.predictions"
   ]
  },
  {
   "cell_type": "code",
   "execution_count": 68,
   "id": "f2bd7ccc-edaf-409d-8a61-e2f1f520f068",
   "metadata": {},
   "outputs": [
    {
     "data": {
      "text/plain": [
       "array([[-0.13327912],\n",
       "       [-0.26651543],\n",
       "       [-0.07447013],\n",
       "       ...,\n",
       "       [-0.12083563],\n",
       "       [-0.3534261 ],\n",
       "       [ 1.91700498]])"
      ]
     },
     "execution_count": 68,
     "metadata": {},
     "output_type": "execute_result"
    }
   ],
   "source": [
    "# test data 답지 확인\n",
    "Y_valid"
   ]
  },
  {
   "cell_type": "code",
   "execution_count": 69,
   "id": "f7e23649-420f-46fa-bfcf-e336e7a4a46b",
   "metadata": {},
   "outputs": [
    {
     "data": {
      "text/plain": [
       "0.6640586176532858"
      ]
     },
     "execution_count": 69,
     "metadata": {},
     "output_type": "execute_result"
    }
   ],
   "source": [
    "np.corrcoef(pred_results.predictions.flatten(), Y_valid.flatten())[0][1]"
   ]
  },
  {
   "cell_type": "code",
   "execution_count": null,
   "id": "1f80fabf-ee8d-4ca4-b1d2-d84f175ad89b",
   "metadata": {},
   "outputs": [],
   "source": [
    "np.corrcoef(mgwr_pred_results.predictions.flatten(), y_valid.flatten())[0][1]"
   ]
  },
  {
   "cell_type": "code",
   "execution_count": 70,
   "id": "587e4283-ba0f-4867-bf53-21da83574312",
   "metadata": {},
   "outputs": [
    {
     "name": "stdout",
     "output_type": "stream",
     "text": [
      "===========================================================================\n",
      "Model type                                                         Gaussian\n",
      "Number of observations:                                                8605\n",
      "Number of covariates:                                                     4\n",
      "\n",
      "Global Regression Results\n",
      "---------------------------------------------------------------------------\n",
      "Residual sum of squares:                                           5176.907\n",
      "Log-likelihood:                                                  -10023.712\n",
      "AIC:                                                              20055.425\n",
      "AICc:                                                             20057.432\n",
      "BIC:                                                             -72749.002\n",
      "R2:                                                                   0.398\n",
      "Adj. R2:                                                              0.398\n",
      "\n",
      "Variable                              Est.         SE  t(Est/SE)    p-value\n",
      "------------------------------- ---------- ---------- ---------- ----------\n",
      "X0                                   0.000      0.008      0.000      1.000\n",
      "X1                                   0.275      0.010     27.855      0.000\n",
      "X2                                   0.072      0.034      2.111      0.035\n",
      "X3                                   0.370      0.034     10.749      0.000\n",
      "\n",
      "Geographically Weighted Regression (GWR) Results\n",
      "---------------------------------------------------------------------------\n",
      "Spatial kernel:                                           Adaptive bisquare\n",
      "Bandwidth used:                                                      47.000\n",
      "\n",
      "Diagnostic information\n",
      "---------------------------------------------------------------------------\n",
      "Residual sum of squares:                                           1700.266\n",
      "Effective number of parameters (trace(S)):                         1682.725\n",
      "Degree of freedom (n - trace(S)):                                  6922.275\n",
      "Sigma estimate:                                                       0.496\n",
      "Log-likelihood:                                                   -5233.211\n",
      "AIC:                                                              13833.872\n",
      "AICc:                                                             14653.670\n",
      "BIC:                                                              25721.138\n",
      "R2:                                                                   0.802\n",
      "Adjusted R2:                                                          0.754\n",
      "Adj. alpha (95%):                                                     0.000\n",
      "Adj. critical t value (95%):                                          3.850\n",
      "\n",
      "Summary Statistics For GWR Parameter Estimates\n",
      "---------------------------------------------------------------------------\n",
      "Variable                   Mean        STD        Min     Median        Max\n",
      "-------------------- ---------- ---------- ---------- ---------- ----------\n",
      "X0                        0.007      0.254     -1.010     -0.056      2.329\n",
      "X1                        0.229      0.313     -1.194      0.155      3.414\n",
      "X2                        0.070      0.836     -5.416      0.077      9.174\n",
      "X3                        0.315      0.884     -5.239      0.210      7.254\n",
      "===========================================================================\n",
      "\n"
     ]
    }
   ],
   "source": [
    "gwr_results.summary()"
   ]
  }
 ],
 "metadata": {
  "kernelspec": {
   "display_name": "Python 3",
   "language": "python",
   "name": "python3"
  },
  "language_info": {
   "codemirror_mode": {
    "name": "ipython",
    "version": 3
   },
   "file_extension": ".py",
   "mimetype": "text/x-python",
   "name": "python",
   "nbconvert_exporter": "python",
   "pygments_lexer": "ipython3",
   "version": "3.8.11"
  }
 },
 "nbformat": 4,
 "nbformat_minor": 5
}
