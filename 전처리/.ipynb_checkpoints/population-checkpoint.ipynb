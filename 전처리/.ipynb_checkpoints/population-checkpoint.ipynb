{
 "cells": [
  {
   "cell_type": "code",
   "execution_count": 1,
   "id": "f35b15bd-5707-401d-8f51-82ba27adf885",
   "metadata": {},
   "outputs": [],
   "source": [
    "import pandas as pd\n",
    "import os\n",
    "import seaborn as sns\n",
    "import matplotlib.pyplot as plt"
   ]
  },
  {
   "cell_type": "code",
   "execution_count": 3,
   "id": "ccf22183-cf2f-44ac-b738-c34f7627c333",
   "metadata": {},
   "outputs": [
    {
     "data": {
      "text/plain": [
       "['LOCAL_PEOPLE_20191201.csv',\n",
       " 'LOCAL_PEOPLE_20191202.csv',\n",
       " 'LOCAL_PEOPLE_20191203.csv',\n",
       " 'LOCAL_PEOPLE_20191204.csv',\n",
       " 'LOCAL_PEOPLE_20191205.csv',\n",
       " 'LOCAL_PEOPLE_20191206.csv',\n",
       " 'LOCAL_PEOPLE_20191207.csv',\n",
       " 'LOCAL_PEOPLE_20191208.csv',\n",
       " 'LOCAL_PEOPLE_20191209.csv',\n",
       " 'LOCAL_PEOPLE_20191210.csv',\n",
       " 'LOCAL_PEOPLE_20191211.csv',\n",
       " 'LOCAL_PEOPLE_20191212.csv',\n",
       " 'LOCAL_PEOPLE_20191213.csv',\n",
       " 'LOCAL_PEOPLE_20191214.csv',\n",
       " 'LOCAL_PEOPLE_20191215.csv',\n",
       " 'LOCAL_PEOPLE_20191216.csv',\n",
       " 'LOCAL_PEOPLE_20191217.csv',\n",
       " 'LOCAL_PEOPLE_20191218.csv',\n",
       " 'LOCAL_PEOPLE_20191219.csv',\n",
       " 'LOCAL_PEOPLE_20191220.csv',\n",
       " 'LOCAL_PEOPLE_20191221.csv',\n",
       " 'LOCAL_PEOPLE_20191222.csv',\n",
       " 'LOCAL_PEOPLE_20191223.csv',\n",
       " 'LOCAL_PEOPLE_20191224.csv',\n",
       " 'LOCAL_PEOPLE_20191225.csv',\n",
       " 'LOCAL_PEOPLE_20191226.csv',\n",
       " 'LOCAL_PEOPLE_20191227.csv',\n",
       " 'LOCAL_PEOPLE_20191228.csv',\n",
       " 'LOCAL_PEOPLE_20191229.csv',\n",
       " 'LOCAL_PEOPLE_20191230.csv',\n",
       " 'LOCAL_PEOPLE_20191231.csv']"
      ]
     },
     "execution_count": 3,
     "metadata": {},
     "output_type": "execute_result"
    }
   ],
   "source": [
    "pop_data_list = os.listdir('./data/pop/LOCAL_PEOPLE_201912')\n",
    "pop_data_list"
   ]
  },
  {
   "cell_type": "code",
   "execution_count": 10,
   "id": "60c7623d-d910-402e-b0ae-a236c53a05f8",
   "metadata": {},
   "outputs": [
    {
     "data": {
      "text/html": [
       "<div>\n",
       "<style scoped>\n",
       "    .dataframe tbody tr th:only-of-type {\n",
       "        vertical-align: middle;\n",
       "    }\n",
       "\n",
       "    .dataframe tbody tr th {\n",
       "        vertical-align: top;\n",
       "    }\n",
       "\n",
       "    .dataframe thead th {\n",
       "        text-align: right;\n",
       "    }\n",
       "</style>\n",
       "<table border=\"1\" class=\"dataframe\">\n",
       "  <thead>\n",
       "    <tr style=\"text-align: right;\">\n",
       "      <th></th>\n",
       "      <th>집계구코드</th>\n",
       "      <th>구별총생활인구수</th>\n",
       "      <th>구별총생활인구수(월평균)</th>\n",
       "    </tr>\n",
       "  </thead>\n",
       "  <tbody>\n",
       "    <tr>\n",
       "      <th>0</th>\n",
       "      <td>1101053010001</td>\n",
       "      <td>277143.0</td>\n",
       "      <td>8940.096774</td>\n",
       "    </tr>\n",
       "    <tr>\n",
       "      <th>1</th>\n",
       "      <td>1101053010002</td>\n",
       "      <td>1373417.0</td>\n",
       "      <td>44303.774194</td>\n",
       "    </tr>\n",
       "    <tr>\n",
       "      <th>2</th>\n",
       "      <td>1101053010003</td>\n",
       "      <td>1245899.0</td>\n",
       "      <td>40190.290323</td>\n",
       "    </tr>\n",
       "    <tr>\n",
       "      <th>3</th>\n",
       "      <td>1101053010004</td>\n",
       "      <td>1515584.0</td>\n",
       "      <td>48889.806452</td>\n",
       "    </tr>\n",
       "    <tr>\n",
       "      <th>4</th>\n",
       "      <td>1101053010005</td>\n",
       "      <td>1038484.0</td>\n",
       "      <td>33499.483871</td>\n",
       "    </tr>\n",
       "  </tbody>\n",
       "</table>\n",
       "</div>"
      ],
      "text/plain": [
       "           집계구코드   구별총생활인구수  구별총생활인구수(월평균)\n",
       "0  1101053010001   277143.0    8940.096774\n",
       "1  1101053010002  1373417.0   44303.774194\n",
       "2  1101053010003  1245899.0   40190.290323\n",
       "3  1101053010004  1515584.0   48889.806452\n",
       "4  1101053010005  1038484.0   33499.483871"
      ]
     },
     "execution_count": 10,
     "metadata": {},
     "output_type": "execute_result"
    }
   ],
   "source": [
    "df = pd.read_csv('./data/pop/19년 12월 집계구코드별 평균생활인구수.csv')\n",
    "df.head()"
   ]
  },
  {
   "cell_type": "code",
   "execution_count": 11,
   "id": "01b38603-e331-4656-b67e-a3759bb10b4b",
   "metadata": {},
   "outputs": [
    {
     "data": {
      "text/plain": [
       "19153"
      ]
     },
     "execution_count": 11,
     "metadata": {},
     "output_type": "execute_result"
    }
   ],
   "source": [
    "len(df['집계구코드'].unique())"
   ]
  }
 ],
 "metadata": {
  "kernelspec": {
   "display_name": "Python 3",
   "language": "python",
   "name": "python3"
  },
  "language_info": {
   "codemirror_mode": {
    "name": "ipython",
    "version": 3
   },
   "file_extension": ".py",
   "mimetype": "text/x-python",
   "name": "python",
   "nbconvert_exporter": "python",
   "pygments_lexer": "ipython3",
   "version": "3.8.11"
  }
 },
 "nbformat": 4,
 "nbformat_minor": 5
}
