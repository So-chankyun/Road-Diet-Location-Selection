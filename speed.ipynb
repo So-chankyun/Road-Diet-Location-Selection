{
 "cells": [
  {
   "cell_type": "code",
   "execution_count": 2,
   "id": "c280838f-6f2e-4e08-803d-71870948642e",
   "metadata": {},
   "outputs": [],
   "source": [
    "import pandas as pd\n",
    "import os\n",
    "import seaborn as sns\n",
    "import matplotlib.pyplot as plt"
   ]
  },
  {
   "cell_type": "code",
   "execution_count": 25,
   "id": "37a761e3-fc81-441a-8dc6-b5e7bc0670b0",
   "metadata": {},
   "outputs": [],
   "source": [
    "df = pd.read_csv('./LOCAL_PEOPLE_20210730.csv',encoding='cp949')"
   ]
  },
  {
   "cell_type": "code",
   "execution_count": 26,
   "id": "c2ff7c72-28c9-4209-90f9-88a4a9a93b28",
   "metadata": {},
   "outputs": [
    {
     "data": {
      "text/html": [
       "<div>\n",
       "<style scoped>\n",
       "    .dataframe tbody tr th:only-of-type {\n",
       "        vertical-align: middle;\n",
       "    }\n",
       "\n",
       "    .dataframe tbody tr th {\n",
       "        vertical-align: top;\n",
       "    }\n",
       "\n",
       "    .dataframe thead th {\n",
       "        text-align: right;\n",
       "    }\n",
       "</style>\n",
       "<table border=\"1\" class=\"dataframe\">\n",
       "  <thead>\n",
       "    <tr style=\"text-align: right;\">\n",
       "      <th></th>\n",
       "      <th>?\"기준일ID\"</th>\n",
       "      <th>시간대구분</th>\n",
       "      <th>행정동코드</th>\n",
       "      <th>집계구코드</th>\n",
       "      <th>총생활인구수</th>\n",
       "      <th>남자0세부터9세생활인구수</th>\n",
       "      <th>남자10세부터14세생활인구수</th>\n",
       "      <th>남자15세부터19세생활인구수</th>\n",
       "      <th>남자20세부터24세생활인구수</th>\n",
       "      <th>남자25세부터29세생활인구수</th>\n",
       "      <th>...</th>\n",
       "      <th>여자25세부터29세생활인구수</th>\n",
       "      <th>여자30세부터34세생활인구수</th>\n",
       "      <th>여자35세부터39세생활인구수</th>\n",
       "      <th>여자40세부터44세생활인구수</th>\n",
       "      <th>여자45세부터49세생활인구수</th>\n",
       "      <th>여자50세부터54세생활인구수</th>\n",
       "      <th>여자55세부터59세생활인구수</th>\n",
       "      <th>여자60세부터64세생활인구수</th>\n",
       "      <th>여자65세부터69세생활인구수</th>\n",
       "      <th>여자70세이상생활인구수</th>\n",
       "    </tr>\n",
       "  </thead>\n",
       "  <tbody>\n",
       "    <tr>\n",
       "      <th>0</th>\n",
       "      <td>20210730</td>\n",
       "      <td>2</td>\n",
       "      <td>11590530</td>\n",
       "      <td>1120053010020</td>\n",
       "      <td>245.9892</td>\n",
       "      <td>7.5421</td>\n",
       "      <td>*</td>\n",
       "      <td>4.1292</td>\n",
       "      <td>11.4156</td>\n",
       "      <td>14.6309</td>\n",
       "      <td>...</td>\n",
       "      <td>11.0309</td>\n",
       "      <td>8.3006</td>\n",
       "      <td>8.6141</td>\n",
       "      <td>9.0181</td>\n",
       "      <td>7.5365</td>\n",
       "      <td>7.2155</td>\n",
       "      <td>10.8331</td>\n",
       "      <td>9.5992</td>\n",
       "      <td>9.3047</td>\n",
       "      <td>25.1321</td>\n",
       "    </tr>\n",
       "    <tr>\n",
       "      <th>1</th>\n",
       "      <td>20210730</td>\n",
       "      <td>8</td>\n",
       "      <td>11590530</td>\n",
       "      <td>1120053010020</td>\n",
       "      <td>200.2294</td>\n",
       "      <td>8.5157</td>\n",
       "      <td>*</td>\n",
       "      <td>*</td>\n",
       "      <td>9.9617</td>\n",
       "      <td>11.9649</td>\n",
       "      <td>...</td>\n",
       "      <td>8.1574</td>\n",
       "      <td>5.7917</td>\n",
       "      <td>5.9529</td>\n",
       "      <td>7.3993</td>\n",
       "      <td>6.4598</td>\n",
       "      <td>6.7592</td>\n",
       "      <td>7.6119</td>\n",
       "      <td>7.8579</td>\n",
       "      <td>8.2627</td>\n",
       "      <td>24.8844</td>\n",
       "    </tr>\n",
       "    <tr>\n",
       "      <th>2</th>\n",
       "      <td>20210730</td>\n",
       "      <td>11</td>\n",
       "      <td>11590530</td>\n",
       "      <td>1120053010020</td>\n",
       "      <td>182.3297</td>\n",
       "      <td>9.5308</td>\n",
       "      <td>4.1883</td>\n",
       "      <td>*</td>\n",
       "      <td>8.522</td>\n",
       "      <td>9.0273</td>\n",
       "      <td>...</td>\n",
       "      <td>7.1891</td>\n",
       "      <td>4.4981</td>\n",
       "      <td>4.8938</td>\n",
       "      <td>7.6132</td>\n",
       "      <td>*</td>\n",
       "      <td>4.6724</td>\n",
       "      <td>7.1946</td>\n",
       "      <td>6.5454</td>\n",
       "      <td>8.7897</td>\n",
       "      <td>24.3029</td>\n",
       "    </tr>\n",
       "    <tr>\n",
       "      <th>3</th>\n",
       "      <td>20210730</td>\n",
       "      <td>17</td>\n",
       "      <td>11590530</td>\n",
       "      <td>1120053010020</td>\n",
       "      <td>167.0686</td>\n",
       "      <td>10.0602</td>\n",
       "      <td>4.4209</td>\n",
       "      <td>*</td>\n",
       "      <td>7.1786</td>\n",
       "      <td>8.2513</td>\n",
       "      <td>...</td>\n",
       "      <td>5.6099</td>\n",
       "      <td>*</td>\n",
       "      <td>4.2729</td>\n",
       "      <td>6.7332</td>\n",
       "      <td>*</td>\n",
       "      <td>4.1742</td>\n",
       "      <td>7.3622</td>\n",
       "      <td>6.6468</td>\n",
       "      <td>7.4611</td>\n",
       "      <td>22.5709</td>\n",
       "    </tr>\n",
       "    <tr>\n",
       "      <th>4</th>\n",
       "      <td>20210730</td>\n",
       "      <td>20</td>\n",
       "      <td>11590530</td>\n",
       "      <td>1120053010020</td>\n",
       "      <td>165.7658</td>\n",
       "      <td>8.3998</td>\n",
       "      <td>*</td>\n",
       "      <td>*</td>\n",
       "      <td>8.6664</td>\n",
       "      <td>8.4495</td>\n",
       "      <td>...</td>\n",
       "      <td>7.7085</td>\n",
       "      <td>5.4652</td>\n",
       "      <td>4.9701</td>\n",
       "      <td>4.8056</td>\n",
       "      <td>*</td>\n",
       "      <td>5.0018</td>\n",
       "      <td>7.9615</td>\n",
       "      <td>6.4236</td>\n",
       "      <td>7.2279</td>\n",
       "      <td>17.1372</td>\n",
       "    </tr>\n",
       "  </tbody>\n",
       "</table>\n",
       "<p>5 rows × 33 columns</p>\n",
       "</div>"
      ],
      "text/plain": [
       "   ?\"기준일ID\"  시간대구분     행정동코드          집계구코드    총생활인구수 남자0세부터9세생활인구수  \\\n",
       "0  20210730      2  11590530  1120053010020  245.9892        7.5421   \n",
       "1  20210730      8  11590530  1120053010020  200.2294        8.5157   \n",
       "2  20210730     11  11590530  1120053010020  182.3297        9.5308   \n",
       "3  20210730     17  11590530  1120053010020  167.0686       10.0602   \n",
       "4  20210730     20  11590530  1120053010020  165.7658        8.3998   \n",
       "\n",
       "  남자10세부터14세생활인구수 남자15세부터19세생활인구수 남자20세부터24세생활인구수 남자25세부터29세생활인구수  ...  \\\n",
       "0               *          4.1292         11.4156         14.6309  ...   \n",
       "1               *               *          9.9617         11.9649  ...   \n",
       "2          4.1883               *           8.522          9.0273  ...   \n",
       "3          4.4209               *          7.1786          8.2513  ...   \n",
       "4               *               *          8.6664          8.4495  ...   \n",
       "\n",
       "  여자25세부터29세생활인구수 여자30세부터34세생활인구수 여자35세부터39세생활인구수 여자40세부터44세생활인구수  \\\n",
       "0         11.0309          8.3006          8.6141          9.0181   \n",
       "1          8.1574          5.7917          5.9529          7.3993   \n",
       "2          7.1891          4.4981          4.8938          7.6132   \n",
       "3          5.6099               *          4.2729          6.7332   \n",
       "4          7.7085          5.4652          4.9701          4.8056   \n",
       "\n",
       "  여자45세부터49세생활인구수 여자50세부터54세생활인구수 여자55세부터59세생활인구수 여자60세부터64세생활인구수  \\\n",
       "0          7.5365          7.2155         10.8331          9.5992   \n",
       "1          6.4598          6.7592          7.6119          7.8579   \n",
       "2               *          4.6724          7.1946          6.5454   \n",
       "3               *          4.1742          7.3622          6.6468   \n",
       "4               *          5.0018          7.9615          6.4236   \n",
       "\n",
       "  여자65세부터69세생활인구수 여자70세이상생활인구수  \n",
       "0          9.3047      25.1321  \n",
       "1          8.2627      24.8844  \n",
       "2          8.7897      24.3029  \n",
       "3          7.4611      22.5709  \n",
       "4          7.2279      17.1372  \n",
       "\n",
       "[5 rows x 33 columns]"
      ]
     },
     "execution_count": 26,
     "metadata": {},
     "output_type": "execute_result"
    }
   ],
   "source": [
    "df.head()"
   ]
  },
  {
   "cell_type": "code",
   "execution_count": 35,
   "id": "6ebc305d-bf41-413f-99f4-f979ff0b2c39",
   "metadata": {},
   "outputs": [
    {
     "data": {
      "text/plain": [
       "Index(['?\"기준일ID\"', '시간대구분', '행정동코드', '집계구코드', '총생활인구수', '남자0세부터9세생활인구수',\n",
       "       '남자10세부터14세생활인구수', '남자15세부터19세생활인구수', '남자20세부터24세생활인구수',\n",
       "       '남자25세부터29세생활인구수', '남자30세부터34세생활인구수', '남자35세부터39세생활인구수',\n",
       "       '남자40세부터44세생활인구수', '남자45세부터49세생활인구수', '남자50세부터54세생활인구수',\n",
       "       '남자55세부터59세생활인구수', '남자60세부터64세생활인구수', '남자65세부터69세생활인구수', '남자70세이상생활인구수',\n",
       "       '여자0세부터9세생활인구수', '여자10세부터14세생활인구수', '여자15세부터19세생활인구수',\n",
       "       '여자20세부터24세생활인구수', '여자25세부터29세생활인구수', '여자30세부터34세생활인구수',\n",
       "       '여자35세부터39세생활인구수', '여자40세부터44세생활인구수', '여자45세부터49세생활인구수',\n",
       "       '여자50세부터54세생활인구수', '여자55세부터59세생활인구수', '여자60세부터64세생활인구수',\n",
       "       '여자65세부터69세생활인구수', '여자70세이상생활인구수'],\n",
       "      dtype='object')"
      ]
     },
     "execution_count": 35,
     "metadata": {},
     "output_type": "execute_result"
    }
   ],
   "source": [
    "df.columns"
   ]
  },
  {
   "cell_type": "code",
   "execution_count": 56,
   "id": "6a589854-2a4b-4d79-b99b-9b7e7f6ac3b7",
   "metadata": {},
   "outputs": [],
   "source": [
    "group_data = df.groupby('집계구코드')['총생활인구수'].sum().sort_values(ascending=False)\n",
    "sum_data = group_data.to_frame('구별총생활인구수')\n",
    "sum_data.to_csv('total_pop_by_gu.csv')"
   ]
  },
  {
   "cell_type": "code",
   "execution_count": 66,
   "id": "0503a4f9-17c4-4c7a-b311-7534922ddc0e",
   "metadata": {},
   "outputs": [
    {
     "data": {
      "text/plain": [
       "['.ipynb_checkpoints',\n",
       " '.virtual_documents',\n",
       " '.vscode',\n",
       " '20210706_5Min.csv',\n",
       " '2021년 01월 서울시 차량통행속도.xlsx',\n",
       " 'analysis',\n",
       " 'LOCAL_PEOPLE_20210730.csv',\n",
       " 'total_pop_by_gu.csv',\n",
       " 'Untitled1.ipynb',\n",
       " 'week1',\n",
       " 'week2',\n",
       " 'week3',\n",
       " 'week4',\n",
       " '교통량']"
      ]
     },
     "execution_count": 66,
     "metadata": {},
     "output_type": "execute_result"
    }
   ],
   "source": [
    "os.listdir('.')"
   ]
  },
  {
   "cell_type": "code",
   "execution_count": 5,
   "id": "225b5913-156d-43f0-b2fb-4d03a7217678",
   "metadata": {},
   "outputs": [
    {
     "data": {
      "text/html": [
       "<div>\n",
       "<style scoped>\n",
       "    .dataframe tbody tr th:only-of-type {\n",
       "        vertical-align: middle;\n",
       "    }\n",
       "\n",
       "    .dataframe tbody tr th {\n",
       "        vertical-align: top;\n",
       "    }\n",
       "\n",
       "    .dataframe thead th {\n",
       "        text-align: right;\n",
       "    }\n",
       "</style>\n",
       "<table border=\"1\" class=\"dataframe\">\n",
       "  <thead>\n",
       "    <tr style=\"text-align: right;\">\n",
       "      <th></th>\n",
       "      <th>일자</th>\n",
       "      <th>요일</th>\n",
       "      <th>도로명</th>\n",
       "      <th>링크아이디</th>\n",
       "      <th>시점명</th>\n",
       "      <th>종점명</th>\n",
       "      <th>방향</th>\n",
       "      <th>거리</th>\n",
       "      <th>차선수</th>\n",
       "      <th>기능유형구분</th>\n",
       "      <th>...</th>\n",
       "      <th>15시</th>\n",
       "      <th>16시</th>\n",
       "      <th>17시</th>\n",
       "      <th>18시</th>\n",
       "      <th>19시</th>\n",
       "      <th>20시</th>\n",
       "      <th>21시</th>\n",
       "      <th>22시</th>\n",
       "      <th>23시</th>\n",
       "      <th>24시</th>\n",
       "    </tr>\n",
       "  </thead>\n",
       "  <tbody>\n",
       "    <tr>\n",
       "      <th>0</th>\n",
       "      <td>20191201</td>\n",
       "      <td>일</td>\n",
       "      <td>4.19로</td>\n",
       "      <td>1080012200</td>\n",
       "      <td>아카데미하우스</td>\n",
       "      <td>국립4.19묘지</td>\n",
       "      <td>상행</td>\n",
       "      <td>1179</td>\n",
       "      <td>1.0</td>\n",
       "      <td>보조간선도로</td>\n",
       "      <td>...</td>\n",
       "      <td>40.69</td>\n",
       "      <td>36.12</td>\n",
       "      <td>55.22</td>\n",
       "      <td>48.54</td>\n",
       "      <td>34.89</td>\n",
       "      <td>39.51</td>\n",
       "      <td>32.17</td>\n",
       "      <td>49.64</td>\n",
       "      <td>49.19</td>\n",
       "      <td>51.74</td>\n",
       "    </tr>\n",
       "    <tr>\n",
       "      <th>1</th>\n",
       "      <td>20191201</td>\n",
       "      <td>일</td>\n",
       "      <td>4.19로</td>\n",
       "      <td>1080012800</td>\n",
       "      <td>국립4.19묘지</td>\n",
       "      <td>국립4.19묘지입구</td>\n",
       "      <td>상행</td>\n",
       "      <td>352</td>\n",
       "      <td>2.0</td>\n",
       "      <td>보조간선도로</td>\n",
       "      <td>...</td>\n",
       "      <td>11.25</td>\n",
       "      <td>11.77</td>\n",
       "      <td>11.96</td>\n",
       "      <td>11.24</td>\n",
       "      <td>12.03</td>\n",
       "      <td>12.44</td>\n",
       "      <td>13.36</td>\n",
       "      <td>14.21</td>\n",
       "      <td>12.89</td>\n",
       "      <td>15.74</td>\n",
       "    </tr>\n",
       "    <tr>\n",
       "      <th>2</th>\n",
       "      <td>20191201</td>\n",
       "      <td>일</td>\n",
       "      <td>4.19로</td>\n",
       "      <td>1080012700</td>\n",
       "      <td>국립4.19묘지입구</td>\n",
       "      <td>국립4.19묘지</td>\n",
       "      <td>하행</td>\n",
       "      <td>354</td>\n",
       "      <td>2.0</td>\n",
       "      <td>보조간선도로</td>\n",
       "      <td>...</td>\n",
       "      <td>21.95</td>\n",
       "      <td>21.87</td>\n",
       "      <td>21.19</td>\n",
       "      <td>19.03</td>\n",
       "      <td>19.48</td>\n",
       "      <td>21.72</td>\n",
       "      <td>19.11</td>\n",
       "      <td>19.25</td>\n",
       "      <td>23.18</td>\n",
       "      <td>25.52</td>\n",
       "    </tr>\n",
       "    <tr>\n",
       "      <th>3</th>\n",
       "      <td>20191201</td>\n",
       "      <td>일</td>\n",
       "      <td>4.19로</td>\n",
       "      <td>1080012100</td>\n",
       "      <td>국립4.19묘지</td>\n",
       "      <td>아카데미하우스</td>\n",
       "      <td>하행</td>\n",
       "      <td>1190</td>\n",
       "      <td>1.0</td>\n",
       "      <td>보조간선도로</td>\n",
       "      <td>...</td>\n",
       "      <td>44.42</td>\n",
       "      <td>44.91</td>\n",
       "      <td>63.47</td>\n",
       "      <td>62.30</td>\n",
       "      <td>48.73</td>\n",
       "      <td>51.30</td>\n",
       "      <td>46.97</td>\n",
       "      <td>50.32</td>\n",
       "      <td>52.08</td>\n",
       "      <td>40.54</td>\n",
       "    </tr>\n",
       "    <tr>\n",
       "      <th>4</th>\n",
       "      <td>20191201</td>\n",
       "      <td>일</td>\n",
       "      <td>가락로</td>\n",
       "      <td>1230024700</td>\n",
       "      <td>방이초교</td>\n",
       "      <td>방이동고분군</td>\n",
       "      <td>상행</td>\n",
       "      <td>844</td>\n",
       "      <td>1.0</td>\n",
       "      <td>기타도로</td>\n",
       "      <td>...</td>\n",
       "      <td>17.09</td>\n",
       "      <td>18.12</td>\n",
       "      <td>16.04</td>\n",
       "      <td>15.23</td>\n",
       "      <td>15.12</td>\n",
       "      <td>16.90</td>\n",
       "      <td>16.04</td>\n",
       "      <td>15.07</td>\n",
       "      <td>19.44</td>\n",
       "      <td>20.30</td>\n",
       "    </tr>\n",
       "  </tbody>\n",
       "</table>\n",
       "<p>5 rows × 36 columns</p>\n",
       "</div>"
      ],
      "text/plain": [
       "         일자 요일    도로명       링크아이디         시점명         종점명  방향    거리  차선수  \\\n",
       "0  20191201  일  4.19로  1080012200     아카데미하우스    국립4.19묘지  상행  1179  1.0   \n",
       "1  20191201  일  4.19로  1080012800    국립4.19묘지  국립4.19묘지입구  상행   352  2.0   \n",
       "2  20191201  일  4.19로  1080012700  국립4.19묘지입구    국립4.19묘지  하행   354  2.0   \n",
       "3  20191201  일  4.19로  1080012100    국립4.19묘지     아카데미하우스  하행  1190  1.0   \n",
       "4  20191201  일    가락로  1230024700        방이초교      방이동고분군  상행   844  1.0   \n",
       "\n",
       "   기능유형구분  ...    15시    16시    17시    18시    19시    20시    21시    22시    23시  \\\n",
       "0  보조간선도로  ...  40.69  36.12  55.22  48.54  34.89  39.51  32.17  49.64  49.19   \n",
       "1  보조간선도로  ...  11.25  11.77  11.96  11.24  12.03  12.44  13.36  14.21  12.89   \n",
       "2  보조간선도로  ...  21.95  21.87  21.19  19.03  19.48  21.72  19.11  19.25  23.18   \n",
       "3  보조간선도로  ...  44.42  44.91  63.47  62.30  48.73  51.30  46.97  50.32  52.08   \n",
       "4    기타도로  ...  17.09  18.12  16.04  15.23  15.12  16.90  16.04  15.07  19.44   \n",
       "\n",
       "     24시  \n",
       "0  51.74  \n",
       "1  15.74  \n",
       "2  25.52  \n",
       "3  40.54  \n",
       "4  20.30  \n",
       "\n",
       "[5 rows x 36 columns]"
      ]
     },
     "execution_count": 5,
     "metadata": {},
     "output_type": "execute_result"
    }
   ],
   "source": [
    "traffic_data = pd.read_excel(\"./data/traffic/2019년 12월 서울시 차량통행속도.xlsx\")\n",
    "traffic_data.head()"
   ]
  },
  {
   "cell_type": "markdown",
   "id": "eb0129d2-1dd9-4347-ad12-c22effe2716b",
   "metadata": {},
   "source": [
    "링크아이디가 유일하게 결정된다.<br>\n",
    "따라서 도로명 별로 말고 링크아이디 별로 산정된 내역도 보내주자."
   ]
  },
  {
   "cell_type": "code",
   "execution_count": 6,
   "id": "7d296075-6a48-400b-b0c1-67be8a92e255",
   "metadata": {},
   "outputs": [
    {
     "data": {
      "text/plain": [
       "148025"
      ]
     },
     "metadata": {},
     "output_type": "display_data"
    },
    {
     "data": {
      "text/plain": [
       "4775"
      ]
     },
     "metadata": {},
     "output_type": "display_data"
    }
   ],
   "source": [
    "display(len(traffic_data))\n",
    "display(len(traffic_data['링크아이디'].unique()))"
   ]
  },
  {
   "cell_type": "code",
   "execution_count": 7,
   "id": "62e356bd-1f04-487f-a825-e039f619fe60",
   "metadata": {},
   "outputs": [
    {
     "data": {
      "text/plain": [
       "Index(['일자', '요일', '도로명', '링크아이디', '시점명', '종점명', '방향', '거리', '차선수', '기능유형구분',\n",
       "       '도심/외곽구분', '권역구분', '01시', '02시', '03시', '04시', '05시', '06시', '07시',\n",
       "       '08시', '09시', '10시', '11시', '12시', '13시', '14시', '15시', '16시', '17시',\n",
       "       '18시', '19시', '20시', '21시', '22시', '23시', '24시'],\n",
       "      dtype='object')"
      ]
     },
     "execution_count": 7,
     "metadata": {},
     "output_type": "execute_result"
    }
   ],
   "source": [
    "traffic_data.columns"
   ]
  },
  {
   "cell_type": "code",
   "execution_count": 8,
   "id": "0e89787e-2248-4989-bd85-5750689b69ee",
   "metadata": {},
   "outputs": [],
   "source": [
    "mean = list()\n",
    "var = list()\n",
    "std = list()\n",
    "for i in range(0,len(traffic_data)):\n",
    "    mean_data = traffic_data.loc[i,'01시':'24시'].mean()\n",
    "    var_data = traffic_data.loc[i,'01시':'24시'].var()\n",
    "    std_data = traffic_data.loc[i,'01시':'24시'].std()\n",
    "    mean.append(mean_data)\n",
    "    var.append(var_data)\n",
    "    std.append(std_data)"
   ]
  },
  {
   "cell_type": "code",
   "execution_count": 9,
   "id": "2079813c-cc19-4d48-aa09-0fb33abe03fe",
   "metadata": {},
   "outputs": [],
   "source": [
    "traffic_data['MEAN'] = mean\n",
    "traffic_data['VAR'] = var\n",
    "traffic_data['STD'] = std"
   ]
  },
  {
   "cell_type": "markdown",
   "id": "689ca6cf-8db4-4160-835b-64779ce8154c",
   "metadata": {},
   "source": [
    "주말과 평일의 데이터의 차이가 있겠는가? 검증해볼 필요가 있다."
   ]
  },
  {
   "cell_type": "code",
   "execution_count": 10,
   "id": "470c86d4-3d6e-49e2-8e15-0c911185af44",
   "metadata": {},
   "outputs": [
    {
     "name": "stdout",
     "output_type": "stream",
     "text": [
      "<class 'pandas.core.frame.DataFrame'>\n",
      "Int64Index: 4775 entries, 1000000100 to 3201510700\n",
      "Data columns (total 3 columns):\n",
      " #   Column  Non-Null Count  Dtype  \n",
      "---  ------  --------------  -----  \n",
      " 0   MEAN    4775 non-null   float64\n",
      " 1   VAR     4775 non-null   float64\n",
      " 2   STD     4775 non-null   float64\n",
      "dtypes: float64(3)\n",
      "memory usage: 149.2 KB\n"
     ]
    }
   ],
   "source": [
    "aggregate_data_by_linkId = traffic_data.groupby('링크아이디')[['MEAN','VAR','STD']].mean()\n",
    "aggregate_data_by_linkId.info()"
   ]
  },
  {
   "cell_type": "code",
   "execution_count": 11,
   "id": "bfbb54b9-0900-4f33-bfc0-6891a1c373ca",
   "metadata": {},
   "outputs": [],
   "source": [
    "aggregate_data_by_linkId.to_excel('링크아이디별 집계 데이터(주말,주중 구분X).xlsx')"
   ]
  },
  {
   "cell_type": "code",
   "execution_count": 12,
   "id": "921a1725-0a68-4e18-aa38-81d60ab3c6f5",
   "metadata": {},
   "outputs": [
    {
     "data": {
      "text/plain": [
       "array(['일', '월', '화', '수', '목', '금', '토'], dtype=object)"
      ]
     },
     "execution_count": 12,
     "metadata": {},
     "output_type": "execute_result"
    }
   ],
   "source": [
    "traffic_data['요일'].unique()"
   ]
  },
  {
   "cell_type": "code",
   "execution_count": 13,
   "id": "4ebf4a18-a80f-469e-b31c-d2cee30ffa1d",
   "metadata": {},
   "outputs": [
    {
     "data": {
      "text/plain": [
       "pandas.core.series.Series"
      ]
     },
     "execution_count": 13,
     "metadata": {},
     "output_type": "execute_result"
    }
   ],
   "source": [
    "type(traffic_data['요일'])"
   ]
  },
  {
   "cell_type": "code",
   "execution_count": 14,
   "id": "dc41644a-d65c-4910-808c-5009b8407fbb",
   "metadata": {},
   "outputs": [
    {
     "data": {
      "text/html": [
       "<div>\n",
       "<style scoped>\n",
       "    .dataframe tbody tr th:only-of-type {\n",
       "        vertical-align: middle;\n",
       "    }\n",
       "\n",
       "    .dataframe tbody tr th {\n",
       "        vertical-align: top;\n",
       "    }\n",
       "\n",
       "    .dataframe thead th {\n",
       "        text-align: right;\n",
       "    }\n",
       "</style>\n",
       "<table border=\"1\" class=\"dataframe\">\n",
       "  <thead>\n",
       "    <tr style=\"text-align: right;\">\n",
       "      <th></th>\n",
       "      <th></th>\n",
       "      <th></th>\n",
       "      <th>MEAN</th>\n",
       "      <th>VAR</th>\n",
       "      <th>STD</th>\n",
       "    </tr>\n",
       "    <tr>\n",
       "      <th>링크아이디</th>\n",
       "      <th>시점명</th>\n",
       "      <th>종점명</th>\n",
       "      <th></th>\n",
       "      <th></th>\n",
       "      <th></th>\n",
       "    </tr>\n",
       "  </thead>\n",
       "  <tbody>\n",
       "    <tr>\n",
       "      <th>1179910010</th>\n",
       "      <th>본선시점부(금천)</th>\n",
       "      <th>금천영업소</th>\n",
       "      <td>65.735189</td>\n",
       "      <td>1.090957</td>\n",
       "      <td>0.222686</td>\n",
       "    </tr>\n",
       "    <tr>\n",
       "      <th>1179920110</th>\n",
       "      <th>금천영업소</th>\n",
       "      <th>본선시점부(금천)</th>\n",
       "      <td>65.735189</td>\n",
       "      <td>1.090957</td>\n",
       "      <td>0.222686</td>\n",
       "    </tr>\n",
       "    <tr>\n",
       "      <th>2210000500</th>\n",
       "      <th>토평삼거리</th>\n",
       "      <th>강변북로구리시계</th>\n",
       "      <td>32.219697</td>\n",
       "      <td>8.789196</td>\n",
       "      <td>0.632067</td>\n",
       "    </tr>\n",
       "    <tr>\n",
       "      <th>1170001700</th>\n",
       "      <th>시흥벽산아파트</th>\n",
       "      <th>시계(호암로)</th>\n",
       "      <td>44.869735</td>\n",
       "      <td>1.842131</td>\n",
       "      <td>1.131901</td>\n",
       "    </tr>\n",
       "    <tr>\n",
       "      <th>1190007400</th>\n",
       "      <th>강변유원아파트</th>\n",
       "      <th>여의상류IC</th>\n",
       "      <td>54.887140</td>\n",
       "      <td>1.933572</td>\n",
       "      <td>1.326268</td>\n",
       "    </tr>\n",
       "    <tr>\n",
       "      <th>...</th>\n",
       "      <th>...</th>\n",
       "      <th>...</th>\n",
       "      <td>...</td>\n",
       "      <td>...</td>\n",
       "      <td>...</td>\n",
       "    </tr>\n",
       "    <tr>\n",
       "      <th>1220001800</th>\n",
       "      <th>수서IC(동부간선도로)</th>\n",
       "      <th>탄천IC진입(동부간선도로)</th>\n",
       "      <td>57.146933</td>\n",
       "      <td>1046.884391</td>\n",
       "      <td>32.166640</td>\n",
       "    </tr>\n",
       "    <tr>\n",
       "      <th>1210002900</th>\n",
       "      <th>양재IC북측</th>\n",
       "      <th>서초IC남측</th>\n",
       "      <td>56.766093</td>\n",
       "      <td>1147.046741</td>\n",
       "      <td>33.825561</td>\n",
       "    </tr>\n",
       "    <tr>\n",
       "      <th>1210002000</th>\n",
       "      <th>양재IC2</th>\n",
       "      <th>양재IC북측</th>\n",
       "      <td>56.871667</td>\n",
       "      <td>1150.582059</td>\n",
       "      <td>33.876636</td>\n",
       "    </tr>\n",
       "    <tr>\n",
       "      <th>1210000701</th>\n",
       "      <th>달래네고개</th>\n",
       "      <th>양재IC2</th>\n",
       "      <td>60.747805</td>\n",
       "      <td>1365.172208</td>\n",
       "      <td>36.520124</td>\n",
       "    </tr>\n",
       "    <tr>\n",
       "      <th>1210004700</th>\n",
       "      <th>잠원IC북측</th>\n",
       "      <th>반포IC북측경부고속진입</th>\n",
       "      <td>47.208390</td>\n",
       "      <td>1492.081857</td>\n",
       "      <td>38.609681</td>\n",
       "    </tr>\n",
       "  </tbody>\n",
       "</table>\n",
       "<p>4775 rows × 3 columns</p>\n",
       "</div>"
      ],
      "text/plain": [
       "                                             MEAN          VAR        STD\n",
       "링크아이디      시점명          종점명                                              \n",
       "1179910010 본선시점부(금천)    금천영업소           65.735189     1.090957   0.222686\n",
       "1179920110 금천영업소        본선시점부(금천)       65.735189     1.090957   0.222686\n",
       "2210000500 토평삼거리        강변북로구리시계        32.219697     8.789196   0.632067\n",
       "1170001700 시흥벽산아파트      시계(호암로)         44.869735     1.842131   1.131901\n",
       "1190007400 강변유원아파트      여의상류IC          54.887140     1.933572   1.326268\n",
       "...                                           ...          ...        ...\n",
       "1220001800 수서IC(동부간선도로) 탄천IC진입(동부간선도로)  57.146933  1046.884391  32.166640\n",
       "1210002900 양재IC북측       서초IC남측          56.766093  1147.046741  33.825561\n",
       "1210002000 양재IC2        양재IC북측          56.871667  1150.582059  33.876636\n",
       "1210000701 달래네고개        양재IC2           60.747805  1365.172208  36.520124\n",
       "1210004700 잠원IC북측       반포IC북측경부고속진입    47.208390  1492.081857  38.609681\n",
       "\n",
       "[4775 rows x 3 columns]"
      ]
     },
     "metadata": {},
     "output_type": "display_data"
    },
    {
     "data": {
      "text/html": [
       "<div>\n",
       "<style scoped>\n",
       "    .dataframe tbody tr th:only-of-type {\n",
       "        vertical-align: middle;\n",
       "    }\n",
       "\n",
       "    .dataframe tbody tr th {\n",
       "        vertical-align: top;\n",
       "    }\n",
       "\n",
       "    .dataframe thead th {\n",
       "        text-align: right;\n",
       "    }\n",
       "</style>\n",
       "<table border=\"1\" class=\"dataframe\">\n",
       "  <thead>\n",
       "    <tr style=\"text-align: right;\">\n",
       "      <th></th>\n",
       "      <th></th>\n",
       "      <th></th>\n",
       "      <th>MEAN</th>\n",
       "      <th>VAR</th>\n",
       "      <th>STD</th>\n",
       "    </tr>\n",
       "    <tr>\n",
       "      <th>링크아이디</th>\n",
       "      <th>시점명</th>\n",
       "      <th>종점명</th>\n",
       "      <th></th>\n",
       "      <th></th>\n",
       "      <th></th>\n",
       "    </tr>\n",
       "  </thead>\n",
       "  <tbody>\n",
       "    <tr>\n",
       "      <th>2210000500</th>\n",
       "      <th>토평삼거리</th>\n",
       "      <th>강변북로구리시계</th>\n",
       "      <td>32.000000</td>\n",
       "      <td>0.000000</td>\n",
       "      <td>0.000000</td>\n",
       "    </tr>\n",
       "    <tr>\n",
       "      <th>1179910010</th>\n",
       "      <th>본선시점부(금천)</th>\n",
       "      <th>금천영업소</th>\n",
       "      <td>67.777778</td>\n",
       "      <td>0.000000</td>\n",
       "      <td>0.000000</td>\n",
       "    </tr>\n",
       "    <tr>\n",
       "      <th>1179920110</th>\n",
       "      <th>금천영업소</th>\n",
       "      <th>본선시점부(금천)</th>\n",
       "      <td>67.777778</td>\n",
       "      <td>0.000000</td>\n",
       "      <td>0.000000</td>\n",
       "    </tr>\n",
       "    <tr>\n",
       "      <th>1170001700</th>\n",
       "      <th>시흥벽산아파트</th>\n",
       "      <th>시계(호암로)</th>\n",
       "      <td>45.175324</td>\n",
       "      <td>0.228402</td>\n",
       "      <td>0.460132</td>\n",
       "    </tr>\n",
       "    <tr>\n",
       "      <th>1000016700</th>\n",
       "      <th>보문사입구</th>\n",
       "      <th>창신역</th>\n",
       "      <td>39.577963</td>\n",
       "      <td>1.479433</td>\n",
       "      <td>1.202528</td>\n",
       "    </tr>\n",
       "    <tr>\n",
       "      <th>...</th>\n",
       "      <th>...</th>\n",
       "      <th>...</th>\n",
       "      <td>...</td>\n",
       "      <td>...</td>\n",
       "      <td>...</td>\n",
       "    </tr>\n",
       "    <tr>\n",
       "      <th>1220001800</th>\n",
       "      <th>수서IC(동부간선도로)</th>\n",
       "      <th>탄천IC진입(동부간선도로)</th>\n",
       "      <td>68.153889</td>\n",
       "      <td>944.549597</td>\n",
       "      <td>30.475912</td>\n",
       "    </tr>\n",
       "    <tr>\n",
       "      <th>1210002900</th>\n",
       "      <th>양재IC북측</th>\n",
       "      <th>서초IC남측</th>\n",
       "      <td>64.739306</td>\n",
       "      <td>1158.622751</td>\n",
       "      <td>34.027016</td>\n",
       "    </tr>\n",
       "    <tr>\n",
       "      <th>1210002000</th>\n",
       "      <th>양재IC2</th>\n",
       "      <th>양재IC북측</th>\n",
       "      <td>64.743981</td>\n",
       "      <td>1159.913521</td>\n",
       "      <td>34.045843</td>\n",
       "    </tr>\n",
       "    <tr>\n",
       "      <th>1210000701</th>\n",
       "      <th>달래네고개</th>\n",
       "      <th>양재IC2</th>\n",
       "      <td>73.352352</td>\n",
       "      <td>1244.238483</td>\n",
       "      <td>34.762718</td>\n",
       "    </tr>\n",
       "    <tr>\n",
       "      <th>1210004700</th>\n",
       "      <th>잠원IC북측</th>\n",
       "      <th>반포IC북측경부고속진입</th>\n",
       "      <td>52.801620</td>\n",
       "      <td>1540.322575</td>\n",
       "      <td>39.228966</td>\n",
       "    </tr>\n",
       "  </tbody>\n",
       "</table>\n",
       "<p>4775 rows × 3 columns</p>\n",
       "</div>"
      ],
      "text/plain": [
       "                                             MEAN          VAR        STD\n",
       "링크아이디      시점명          종점명                                              \n",
       "2210000500 토평삼거리        강변북로구리시계        32.000000     0.000000   0.000000\n",
       "1179910010 본선시점부(금천)    금천영업소           67.777778     0.000000   0.000000\n",
       "1179920110 금천영업소        본선시점부(금천)       67.777778     0.000000   0.000000\n",
       "1170001700 시흥벽산아파트      시계(호암로)         45.175324     0.228402   0.460132\n",
       "1000016700 보문사입구        창신역             39.577963     1.479433   1.202528\n",
       "...                                           ...          ...        ...\n",
       "1220001800 수서IC(동부간선도로) 탄천IC진입(동부간선도로)  68.153889   944.549597  30.475912\n",
       "1210002900 양재IC북측       서초IC남측          64.739306  1158.622751  34.027016\n",
       "1210002000 양재IC2        양재IC북측          64.743981  1159.913521  34.045843\n",
       "1210000701 달래네고개        양재IC2           73.352352  1244.238483  34.762718\n",
       "1210004700 잠원IC북측       반포IC북측경부고속진입    52.801620  1540.322575  39.228966\n",
       "\n",
       "[4775 rows x 3 columns]"
      ]
     },
     "metadata": {},
     "output_type": "display_data"
    }
   ],
   "source": [
    "weekDay = ['월','화','수','목','금']\n",
    "weekEnd = ['토','일']\n",
    "\n",
    "aggregate_weekDay_by_linkId = traffic_data[traffic_data['요일'].isin(weekDay)]\n",
    "aggregate_weekEnd_by_linkId = traffic_data[traffic_data['요일'].isin(weekEnd)]\n",
    "\n",
    "weekDay_agg_data = aggregate_weekDay_by_linkId.groupby(['링크아이디','시점명','종점명'])[['MEAN','VAR','STD']].mean()\n",
    "weekEnd_agg_data = aggregate_weekEnd_by_linkId.groupby(['링크아이디','시점명','종점명'])[['MEAN','VAR','STD']].mean()\n",
    "\n",
    "display(weekDay_agg_data.sort_values(by=['STD','VAR','MEAN']))\n",
    "display(weekEnd_agg_data.sort_values(by=['STD','VAR','MEAN']))"
   ]
  },
  {
   "cell_type": "code",
   "execution_count": 15,
   "id": "ed6a8360-fd12-4fbe-8fb4-a25ca0e2e609",
   "metadata": {},
   "outputs": [
    {
     "name": "stdout",
     "output_type": "stream",
     "text": [
      "<class 'pandas.core.frame.DataFrame'>\n",
      "MultiIndex: 4775 entries, (1000000100, '서울역사박물관', '정동사거리') to (3201510700, '당인리발전소', '상수동사거리')\n",
      "Data columns (total 3 columns):\n",
      " #   Column  Non-Null Count  Dtype  \n",
      "---  ------  --------------  -----  \n",
      " 0   MEAN    4775 non-null   float64\n",
      " 1   VAR     4775 non-null   float64\n",
      " 2   STD     4775 non-null   float64\n",
      "dtypes: float64(3)\n",
      "memory usage: 203.8+ KB\n"
     ]
    }
   ],
   "source": [
    "weekDay_agg_data.info()"
   ]
  },
  {
   "cell_type": "code",
   "execution_count": 16,
   "id": "e4e2f8fc-5894-45c3-9198-4594dc562595",
   "metadata": {},
   "outputs": [],
   "source": [
    "weekDay_agg_data.to_excel('링크아이디별 주중 집계 데이터.xlsx')\n",
    "weekEnd_agg_data.to_excel('링크아이디별 주말 집계 데이터.xlsx')"
   ]
  },
  {
   "cell_type": "code",
   "execution_count": 27,
   "id": "85702c66-6aba-4194-bd33-94972f855500",
   "metadata": {},
   "outputs": [
    {
     "data": {
      "image/png": "[encoded data removed]",
      "text/plain": [
       "<Figure size 640x480 with 1 Axes>"
      ]
     },
     "metadata": {},
     "output_type": "display_data"
    }
   ],
   "source": [
    "sns.histplot(data=weekDay_agg_data,x='MEAN')\n",
    "plt.show()"
   ]
  },
  {
   "cell_type": "code",
   "execution_count": 19,
   "id": "b12e2a05-da66-4f87-82dc-d744c7d80fb4",
   "metadata": {},
   "outputs": [
    {
     "data": {
      "image/png": "[encoded data removed]",
      "text/plain": [
       "<Figure size 640x480 with 1 Axes>"
      ]
     },
     "metadata": {},
     "output_type": "display_data"
    }
   ],
   "source": [
    "sns.histplot(data=weekEnd_agg_data,x='STD')\n",
    "plt.show()"
   ]
  },
  {
   "cell_type": "code",
   "execution_count": 21,
   "id": "caf489f2-6117-4e5c-a4b8-1b5a644e8a38",
   "metadata": {},
   "outputs": [
    {
     "name": "stdout",
     "output_type": "stream",
     "text": [
      "--------------- 주중 속도 표준편차 사분위수 ---------------\n",
      "Q1 : 3.6467411425575413\n",
      "Q2 : 4.648239159585083\n",
      "Q3 : 6.072908340809974\n",
      "\n",
      "--------------- 주말 속도 표준편차 사분위수 ---------------\n",
      "Q1 : 3.1538115296071334\n",
      "Q2 : 4.021197198992547\n",
      "Q3 : 5.143416581605772\n"
     ]
    }
   ],
   "source": [
    "import numpy as np\n",
    "\n",
    "print('-'*15+' 주중 속도 표준편차 사분위수 '+'-'*15)\n",
    "print('Q1 : {}'.format(np.quantile(weekDay_agg_data['STD'],0.25)))\n",
    "print('Q2 : {}'.format(np.quantile(weekDay_agg_data['STD'],0.5)))\n",
    "print('Q3 : {}\\n'.format(np.quantile(weekDay_agg_data['STD'],0.75)))\n",
    "\n",
    "print('-'*15+' 주말 속도 표준편차 사분위수 '+'-'*15)\n",
    "print('Q1 : {}'.format(np.quantile(weekEnd_agg_data['STD'],0.25)))\n",
    "print('Q2 : {}'.format(np.quantile(weekEnd_agg_data['STD'],0.5)))\n",
    "print('Q3 : {}'.format(np.quantile(weekEnd_agg_data['STD'],0.75)))"
   ]
  },
  {
   "cell_type": "code",
   "execution_count": 24,
   "id": "ea29c16c-27a5-43df-88a3-354a118b1959",
   "metadata": {},
   "outputs": [
    {
     "data": {
      "image/png": "[encoded data removed]",
      "text/plain": [
       "<Figure size 2000x500 with 1 Axes>"
      ]
     },
     "metadata": {},
     "output_type": "display_data"
    }
   ],
   "source": [
    "import matplotlib.pyplot as plt\n",
    "\n",
    "fig, ax = plt.subplots(figsize=(20,5))\n",
    "ax1 = sns.boxplot(ax=ax,x='STD',data=weekDay_agg_data, width=0.5)\n",
    "plt.show()"
   ]
  },
  {
   "cell_type": "code",
   "execution_count": 25,
   "id": "f6b7958c-e513-42f5-b823-0f162cc41794",
   "metadata": {},
   "outputs": [],
   "source": [
    "fig, ax = plt.subplots(figsize=(20,5))\n",
    "ax2 = sns.boxplot(ax=ax,x='STD',data=weekEnd_agg_data, width=0.5)"
   ]
  },
  {
   "cell_type": "code",
   "execution_count": null,
   "id": "415cddcf-dca5-46dd-a0fa-3508c95d0aaa",
   "metadata": {},
   "outputs": [],
   "source": []
  },
  {
   "cell_type": "code",
   "execution_count": 6,
   "id": "26f4e2e0-6d79-40b7-ac88-2b7da99fb3aa",
   "metadata": {},
   "outputs": [
    {
     "data": {
      "text/html": [
       "<div>\n",
       "<style scoped>\n",
       "    .dataframe tbody tr th:only-of-type {\n",
       "        vertical-align: middle;\n",
       "    }\n",
       "\n",
       "    .dataframe tbody tr th {\n",
       "        vertical-align: top;\n",
       "    }\n",
       "\n",
       "    .dataframe thead th {\n",
       "        text-align: right;\n",
       "    }\n",
       "</style>\n",
       "<table border=\"1\" class=\"dataframe\">\n",
       "  <thead>\n",
       "    <tr style=\"text-align: right;\">\n",
       "      <th></th>\n",
       "      <th>일자</th>\n",
       "      <th>요일</th>\n",
       "      <th>도로명</th>\n",
       "      <th>링크아이디</th>\n",
       "      <th>시점명</th>\n",
       "      <th>종점명</th>\n",
       "      <th>방향</th>\n",
       "      <th>거리</th>\n",
       "      <th>차선수</th>\n",
       "      <th>기능유형구분</th>\n",
       "      <th>...</th>\n",
       "      <th>18시</th>\n",
       "      <th>19시</th>\n",
       "      <th>20시</th>\n",
       "      <th>21시</th>\n",
       "      <th>22시</th>\n",
       "      <th>23시</th>\n",
       "      <th>24시</th>\n",
       "      <th>MEAN</th>\n",
       "      <th>VAR</th>\n",
       "      <th>STD</th>\n",
       "    </tr>\n",
       "  </thead>\n",
       "  <tbody>\n",
       "    <tr>\n",
       "      <th>0</th>\n",
       "      <td>20210101</td>\n",
       "      <td>금</td>\n",
       "      <td>4.19로</td>\n",
       "      <td>1080012200</td>\n",
       "      <td>아카데미하우스</td>\n",
       "      <td>국립4.19묘지</td>\n",
       "      <td>상행</td>\n",
       "      <td>1179</td>\n",
       "      <td>1.0</td>\n",
       "      <td>보조간선도로</td>\n",
       "      <td>...</td>\n",
       "      <td>46.99</td>\n",
       "      <td>33.40</td>\n",
       "      <td>37.49</td>\n",
       "      <td>35.18</td>\n",
       "      <td>56.38</td>\n",
       "      <td>47.99</td>\n",
       "      <td>55.49</td>\n",
       "      <td>43.951250</td>\n",
       "      <td>73.913724</td>\n",
       "      <td>8.597309</td>\n",
       "    </tr>\n",
       "    <tr>\n",
       "      <th>1</th>\n",
       "      <td>20210101</td>\n",
       "      <td>금</td>\n",
       "      <td>4.19로</td>\n",
       "      <td>1080012800</td>\n",
       "      <td>국립4.19묘지</td>\n",
       "      <td>국립4.19묘지입구</td>\n",
       "      <td>상행</td>\n",
       "      <td>352</td>\n",
       "      <td>2.0</td>\n",
       "      <td>보조간선도로</td>\n",
       "      <td>...</td>\n",
       "      <td>10.35</td>\n",
       "      <td>12.85</td>\n",
       "      <td>14.42</td>\n",
       "      <td>13.58</td>\n",
       "      <td>15.61</td>\n",
       "      <td>23.95</td>\n",
       "      <td>17.00</td>\n",
       "      <td>16.467500</td>\n",
       "      <td>11.576072</td>\n",
       "      <td>3.402363</td>\n",
       "    </tr>\n",
       "    <tr>\n",
       "      <th>2</th>\n",
       "      <td>20210101</td>\n",
       "      <td>금</td>\n",
       "      <td>4.19로</td>\n",
       "      <td>1080012700</td>\n",
       "      <td>국립4.19묘지입구</td>\n",
       "      <td>국립4.19묘지</td>\n",
       "      <td>하행</td>\n",
       "      <td>354</td>\n",
       "      <td>2.0</td>\n",
       "      <td>보조간선도로</td>\n",
       "      <td>...</td>\n",
       "      <td>23.37</td>\n",
       "      <td>22.24</td>\n",
       "      <td>23.35</td>\n",
       "      <td>24.17</td>\n",
       "      <td>21.41</td>\n",
       "      <td>27.69</td>\n",
       "      <td>27.29</td>\n",
       "      <td>25.281667</td>\n",
       "      <td>15.398058</td>\n",
       "      <td>3.924036</td>\n",
       "    </tr>\n",
       "    <tr>\n",
       "      <th>3</th>\n",
       "      <td>20210101</td>\n",
       "      <td>금</td>\n",
       "      <td>4.19로</td>\n",
       "      <td>1080012100</td>\n",
       "      <td>국립4.19묘지</td>\n",
       "      <td>아카데미하우스</td>\n",
       "      <td>하행</td>\n",
       "      <td>1190</td>\n",
       "      <td>1.0</td>\n",
       "      <td>보조간선도로</td>\n",
       "      <td>...</td>\n",
       "      <td>60.27</td>\n",
       "      <td>47.14</td>\n",
       "      <td>49.63</td>\n",
       "      <td>45.44</td>\n",
       "      <td>48.69</td>\n",
       "      <td>50.38</td>\n",
       "      <td>39.22</td>\n",
       "      <td>49.548333</td>\n",
       "      <td>111.661441</td>\n",
       "      <td>10.566998</td>\n",
       "    </tr>\n",
       "    <tr>\n",
       "      <th>4</th>\n",
       "      <td>20210101</td>\n",
       "      <td>금</td>\n",
       "      <td>가락로</td>\n",
       "      <td>1230024700</td>\n",
       "      <td>방이초교</td>\n",
       "      <td>방이동고분군</td>\n",
       "      <td>상행</td>\n",
       "      <td>844</td>\n",
       "      <td>1.0</td>\n",
       "      <td>기타도로</td>\n",
       "      <td>...</td>\n",
       "      <td>17.03</td>\n",
       "      <td>14.75</td>\n",
       "      <td>16.98</td>\n",
       "      <td>15.89</td>\n",
       "      <td>19.73</td>\n",
       "      <td>22.61</td>\n",
       "      <td>21.04</td>\n",
       "      <td>19.111250</td>\n",
       "      <td>21.290472</td>\n",
       "      <td>4.614160</td>\n",
       "    </tr>\n",
       "  </tbody>\n",
       "</table>\n",
       "<p>5 rows × 39 columns</p>\n",
       "</div>"
      ],
      "text/plain": [
       "         일자 요일    도로명       링크아이디         시점명         종점명  방향    거리  차선수  \\\n",
       "0  20210101  금  4.19로  1080012200     아카데미하우스    국립4.19묘지  상행  1179  1.0   \n",
       "1  20210101  금  4.19로  1080012800    국립4.19묘지  국립4.19묘지입구  상행   352  2.0   \n",
       "2  20210101  금  4.19로  1080012700  국립4.19묘지입구    국립4.19묘지  하행   354  2.0   \n",
       "3  20210101  금  4.19로  1080012100    국립4.19묘지     아카데미하우스  하행  1190  1.0   \n",
       "4  20210101  금    가락로  1230024700        방이초교      방이동고분군  상행   844  1.0   \n",
       "\n",
       "   기능유형구분  ...    18시    19시    20시    21시    22시    23시    24시       MEAN  \\\n",
       "0  보조간선도로  ...  46.99  33.40  37.49  35.18  56.38  47.99  55.49  43.951250   \n",
       "1  보조간선도로  ...  10.35  12.85  14.42  13.58  15.61  23.95  17.00  16.467500   \n",
       "2  보조간선도로  ...  23.37  22.24  23.35  24.17  21.41  27.69  27.29  25.281667   \n",
       "3  보조간선도로  ...  60.27  47.14  49.63  45.44  48.69  50.38  39.22  49.548333   \n",
       "4    기타도로  ...  17.03  14.75  16.98  15.89  19.73  22.61  21.04  19.111250   \n",
       "\n",
       "          VAR        STD  \n",
       "0   73.913724   8.597309  \n",
       "1   11.576072   3.402363  \n",
       "2   15.398058   3.924036  \n",
       "3  111.661441  10.566998  \n",
       "4   21.290472   4.614160  \n",
       "\n",
       "[5 rows x 39 columns]"
      ]
     },
     "execution_count": 6,
     "metadata": {},
     "output_type": "execute_result"
    }
   ],
   "source": [
    "traffic_data.head()"
   ]
  },
  {
   "cell_type": "code",
   "execution_count": 15,
   "id": "6e49116b-0ecf-46e7-87f2-b65592649ae5",
   "metadata": {},
   "outputs": [],
   "source": [
    "traffic_data.to_csv('traffic_aggregate_data.csv')\n",
    "aggregate_result = traffic_data.groupby('도로명')[['MEAN','VAR','STD']].mean()\n",
    "aggregate_result.to_csv('traffic_aggregate_data_by_road_name.csv')"
   ]
  },
  {
   "cell_type": "code",
   "execution_count": 16,
   "id": "744cb638-deda-40ac-ae7c-fc868a138cdd",
   "metadata": {},
   "outputs": [],
   "source": [
    "traffic_data.to_excel('traffic_aggregate_data.xlsx')\n",
    "aggregate_result = traffic_data.groupby('도로명')[['MEAN','VAR','STD']].mean()\n",
    "aggregate_result.to_excel('traffic_aggregate_data_by_road_name.xlsx')"
   ]
  },
  {
   "cell_type": "code",
   "execution_count": 107,
   "id": "9af5b1aa-c349-4426-a254-6eb6d51ca834",
   "metadata": {},
   "outputs": [
    {
     "data": {
      "text/plain": [
       "0.0"
      ]
     },
     "metadata": {},
     "output_type": "display_data"
    },
    {
     "data": {
      "text/plain": [
       "40.51602820248238"
      ]
     },
     "metadata": {},
     "output_type": "display_data"
    },
    {
     "data": {
      "text/plain": [
       "5.2106567355331785"
      ]
     },
     "metadata": {},
     "output_type": "display_data"
    },
    {
     "data": {
      "text/plain": [
       "12.387193263283672"
      ]
     },
     "metadata": {},
     "output_type": "display_data"
    }
   ],
   "source": [
    "display(traffic_data['STD'].min())\n",
    "display(traffic_data['STD'].max())\n",
    "display(traffic_data['STD'].mean())\n",
    "display(traffic_data['STD'].var())"
   ]
  },
  {
   "cell_type": "code",
   "execution_count": 114,
   "id": "a1d0c960-10bb-4bae-9762-82bb714add53",
   "metadata": {},
   "outputs": [
    {
     "name": "stdout",
     "output_type": "stream",
     "text": [
      "8.728259417800912\n"
     ]
    }
   ],
   "source": [
    "Q3 = traffic_data['STD'].quantile(.75)\n",
    "print(Q3*1.5)"
   ]
  },
  {
   "cell_type": "code",
   "execution_count": 115,
   "id": "be92d4c4-36b1-418b-90f8-539033c7ba4c",
   "metadata": {},
   "outputs": [],
   "source": [
    "std_data = traffic_data['STD']"
   ]
  },
  {
   "cell_type": "code",
   "execution_count": 139,
   "id": "13179351-0f84-4e2b-9862-ae3a943d0fe9",
   "metadata": {},
   "outputs": [
    {
     "data": {
      "text/plain": [
       "153686"
      ]
     },
     "execution_count": 139,
     "metadata": {},
     "output_type": "execute_result"
    }
   ],
   "source": [
    "len(traffic_data)"
   ]
  },
  {
   "cell_type": "code",
   "execution_count": 138,
   "id": "65657736-7791-4df8-833f-e09a3e2ed970",
   "metadata": {},
   "outputs": [
    {
     "data": {
      "text/plain": [
       "37192      0.016330\n",
       "116119     0.016330\n",
       "37191      0.016330\n",
       "45858      0.016330\n",
       "70842      0.026536\n",
       "            ...    \n",
       "98690     39.428832\n",
       "68498     39.488174\n",
       "53413     39.528125\n",
       "118816    39.832588\n",
       "123838    40.516028\n",
       "Name: STD, Length: 153531, dtype: float64"
      ]
     },
     "execution_count": 138,
     "metadata": {},
     "output_type": "execute_result"
    }
   ],
   "source": [
    "std_data[std_data > 0].sort_values()"
   ]
  },
  {
   "cell_type": "code",
   "execution_count": 140,
   "id": "48bdb88a-6413-4921-8da5-03402ead9e19",
   "metadata": {},
   "outputs": [
    {
     "data": {
      "text/plain": [
       "일자              20210108\n",
       "요일                     금\n",
       "도로명                올림픽대로\n",
       "링크아이디         1150006600\n",
       "시점명        개화동로진입(올림픽대로)\n",
       "종점명         행주대교남단(개화IC)\n",
       "방향                    상행\n",
       "거리                   622\n",
       "차선수                  3.0\n",
       "기능유형구분            도시고속도로\n",
       "도심/외곽구분               외곽\n",
       "권역구분                 강서구\n",
       "01시                83.92\n",
       "02시                 84.0\n",
       "03시                 84.0\n",
       "04시                 84.0\n",
       "05시                 84.0\n",
       "06시                 84.0\n",
       "07시                 84.0\n",
       "08시                 84.0\n",
       "09시                 84.0\n",
       "10시                 84.0\n",
       "11시                 84.0\n",
       "12시                 84.0\n",
       "13시                 84.0\n",
       "14시                 84.0\n",
       "15시                 84.0\n",
       "16시                 84.0\n",
       "17시                 84.0\n",
       "18시                 84.0\n",
       "19시                 84.0\n",
       "20시                 84.0\n",
       "21시                 84.0\n",
       "22시                 84.0\n",
       "23시                 84.0\n",
       "24시                 84.0\n",
       "STD              0.01633\n",
       "Name: 37192, dtype: object"
      ]
     },
     "execution_count": 140,
     "metadata": {},
     "output_type": "execute_result"
    }
   ],
   "source": [
    "traffic_data.iloc[37192]"
   ]
  },
  {
   "cell_type": "code",
   "execution_count": 142,
   "id": "f4b9d237-e9b5-4461-9e70-5de20f66ea11",
   "metadata": {},
   "outputs": [
    {
     "data": {
      "text/plain": [
       "45858      0.016330\n",
       "116119     0.016330\n",
       "70842      0.026536\n",
       "80905      0.086573\n",
       "9505       0.153340\n",
       "            ...    \n",
       "126846    24.786764\n",
       "71506     24.862520\n",
       "101687    25.067615\n",
       "100535    27.327040\n",
       "110599    27.550922\n",
       "Name: STD, Length: 145333, dtype: float64"
      ]
     },
     "execution_count": 142,
     "metadata": {},
     "output_type": "execute_result"
    }
   ],
   "source": [
    "edit_std_data = traffic_data[traffic_data['기능유형구분'] != '도시고속도로']['STD']\n",
    "a = edit_std_data[edit_std_data > 0].sort_values()\n",
    "a"
   ]
  },
  {
   "cell_type": "code",
   "execution_count": 145,
   "id": "c1f61fc6-45c5-452f-a992-72850cfbced3",
   "metadata": {},
   "outputs": [
    {
     "data": {
      "text/plain": [
       "일자           20210117\n",
       "요일                  일\n",
       "도로명               섬밭로\n",
       "링크아이디      1005002400\n",
       "시점명              중현초교\n",
       "종점명        공릉지하차도(남측)\n",
       "방향                 상행\n",
       "거리                397\n",
       "차선수               1.0\n",
       "기능유형구분           기타도로\n",
       "도심/외곽구분            외곽\n",
       "권역구분              노원구\n",
       "01시              33.0\n",
       "02시             32.92\n",
       "03시              33.0\n",
       "04시              33.0\n",
       "05시              33.0\n",
       "06시              33.0\n",
       "07시              33.0\n",
       "08시              33.0\n",
       "09시              33.0\n",
       "10시              33.0\n",
       "11시              33.0\n",
       "12시              33.0\n",
       "13시              33.0\n",
       "14시              33.0\n",
       "15시              33.0\n",
       "16시              33.0\n",
       "17시              33.0\n",
       "18시              33.0\n",
       "19시             32.58\n",
       "20시              33.0\n",
       "21시              33.0\n",
       "22시              33.0\n",
       "23시              33.0\n",
       "24시              33.0\n",
       "STD          0.086573\n",
       "Name: 80905, dtype: object"
      ]
     },
     "execution_count": 145,
     "metadata": {},
     "output_type": "execute_result"
    }
   ],
   "source": [
    "traffic_data.iloc[80905]"
   ]
  },
  {
   "cell_type": "code",
   "execution_count": 172,
   "id": "a0267e2c-9f17-446b-9643-49bb7c1e1e84",
   "metadata": {},
   "outputs": [
    {
     "data": {
      "text/plain": [
       "array(['보조간선도로', '기타도로', '주간선도로', '도시고속도로'], dtype=object)"
      ]
     },
     "execution_count": 172,
     "metadata": {},
     "output_type": "execute_result"
    }
   ],
   "source": [
    "traffic_data['기능유형구분'].unique()"
   ]
  },
  {
   "cell_type": "code",
   "execution_count": 132,
   "id": "695ada2f-c5de-441a-879e-05075bb7e7b0",
   "metadata": {},
   "outputs": [
    {
     "name": "stdout",
     "output_type": "stream",
     "text": [
      "None\n"
     ]
    }
   ],
   "source": [
    "rank = std_data.sort_values()\n",
    "std_not_nan = [row for row in std_data.iloc[:] if row != 0]\n",
    "a= std_not_nan.sort()\n",
    "print(a)"
   ]
  },
  {
   "cell_type": "code",
   "execution_count": 126,
   "id": "e5861cb6-9412-4ddc-aa60-06d70eb6f6a0",
   "metadata": {},
   "outputs": [
    {
     "data": {
      "text/html": [
       "<div>\n",
       "<style scoped>\n",
       "    .dataframe tbody tr th:only-of-type {\n",
       "        vertical-align: middle;\n",
       "    }\n",
       "\n",
       "    .dataframe tbody tr th {\n",
       "        vertical-align: top;\n",
       "    }\n",
       "\n",
       "    .dataframe thead th {\n",
       "        text-align: right;\n",
       "    }\n",
       "</style>\n",
       "<table border=\"1\" class=\"dataframe\">\n",
       "  <thead>\n",
       "    <tr style=\"text-align: right;\">\n",
       "      <th></th>\n",
       "      <th>148797</th>\n",
       "    </tr>\n",
       "  </thead>\n",
       "  <tbody>\n",
       "    <tr>\n",
       "      <th>일자</th>\n",
       "      <td>20210131</td>\n",
       "    </tr>\n",
       "    <tr>\n",
       "      <th>요일</th>\n",
       "      <td>일</td>\n",
       "    </tr>\n",
       "    <tr>\n",
       "      <th>도로명</th>\n",
       "      <td>강남순환로</td>\n",
       "    </tr>\n",
       "    <tr>\n",
       "      <th>링크아이디</th>\n",
       "      <td>1179910010</td>\n",
       "    </tr>\n",
       "    <tr>\n",
       "      <th>시점명</th>\n",
       "      <td>본선시점부(금천)</td>\n",
       "    </tr>\n",
       "    <tr>\n",
       "      <th>종점명</th>\n",
       "      <td>금천영업소</td>\n",
       "    </tr>\n",
       "    <tr>\n",
       "      <th>방향</th>\n",
       "      <td>상행</td>\n",
       "    </tr>\n",
       "    <tr>\n",
       "      <th>거리</th>\n",
       "      <td>273</td>\n",
       "    </tr>\n",
       "    <tr>\n",
       "      <th>차선수</th>\n",
       "      <td>4.0</td>\n",
       "    </tr>\n",
       "    <tr>\n",
       "      <th>기능유형구분</th>\n",
       "      <td>도시고속도로</td>\n",
       "    </tr>\n",
       "    <tr>\n",
       "      <th>도심/외곽구분</th>\n",
       "      <td>외곽</td>\n",
       "    </tr>\n",
       "    <tr>\n",
       "      <th>권역구분</th>\n",
       "      <td>금천구</td>\n",
       "    </tr>\n",
       "    <tr>\n",
       "      <th>01시</th>\n",
       "      <td>70.0</td>\n",
       "    </tr>\n",
       "    <tr>\n",
       "      <th>02시</th>\n",
       "      <td>70.0</td>\n",
       "    </tr>\n",
       "    <tr>\n",
       "      <th>03시</th>\n",
       "      <td>70.0</td>\n",
       "    </tr>\n",
       "    <tr>\n",
       "      <th>04시</th>\n",
       "      <td>70.0</td>\n",
       "    </tr>\n",
       "    <tr>\n",
       "      <th>05시</th>\n",
       "      <td>70.0</td>\n",
       "    </tr>\n",
       "    <tr>\n",
       "      <th>06시</th>\n",
       "      <td>70.0</td>\n",
       "    </tr>\n",
       "    <tr>\n",
       "      <th>07시</th>\n",
       "      <td>70.0</td>\n",
       "    </tr>\n",
       "    <tr>\n",
       "      <th>08시</th>\n",
       "      <td>70.0</td>\n",
       "    </tr>\n",
       "    <tr>\n",
       "      <th>09시</th>\n",
       "      <td>70.0</td>\n",
       "    </tr>\n",
       "    <tr>\n",
       "      <th>10시</th>\n",
       "      <td>70.0</td>\n",
       "    </tr>\n",
       "    <tr>\n",
       "      <th>11시</th>\n",
       "      <td>70.0</td>\n",
       "    </tr>\n",
       "    <tr>\n",
       "      <th>12시</th>\n",
       "      <td>70.0</td>\n",
       "    </tr>\n",
       "    <tr>\n",
       "      <th>13시</th>\n",
       "      <td>70.0</td>\n",
       "    </tr>\n",
       "    <tr>\n",
       "      <th>14시</th>\n",
       "      <td>70.0</td>\n",
       "    </tr>\n",
       "    <tr>\n",
       "      <th>15시</th>\n",
       "      <td>70.0</td>\n",
       "    </tr>\n",
       "    <tr>\n",
       "      <th>16시</th>\n",
       "      <td>70.0</td>\n",
       "    </tr>\n",
       "    <tr>\n",
       "      <th>17시</th>\n",
       "      <td>70.0</td>\n",
       "    </tr>\n",
       "    <tr>\n",
       "      <th>18시</th>\n",
       "      <td>70.0</td>\n",
       "    </tr>\n",
       "    <tr>\n",
       "      <th>19시</th>\n",
       "      <td>70.0</td>\n",
       "    </tr>\n",
       "    <tr>\n",
       "      <th>20시</th>\n",
       "      <td>70.0</td>\n",
       "    </tr>\n",
       "    <tr>\n",
       "      <th>21시</th>\n",
       "      <td>70.0</td>\n",
       "    </tr>\n",
       "    <tr>\n",
       "      <th>22시</th>\n",
       "      <td>70.0</td>\n",
       "    </tr>\n",
       "    <tr>\n",
       "      <th>23시</th>\n",
       "      <td>70.0</td>\n",
       "    </tr>\n",
       "    <tr>\n",
       "      <th>24시</th>\n",
       "      <td>70.0</td>\n",
       "    </tr>\n",
       "    <tr>\n",
       "      <th>STD</th>\n",
       "      <td>0.0</td>\n",
       "    </tr>\n",
       "  </tbody>\n",
       "</table>\n",
       "</div>"
      ],
      "text/plain": [
       "             148797\n",
       "일자         20210131\n",
       "요일                일\n",
       "도로명           강남순환로\n",
       "링크아이디    1179910010\n",
       "시점명       본선시점부(금천)\n",
       "종점명           금천영업소\n",
       "방향               상행\n",
       "거리              273\n",
       "차선수             4.0\n",
       "기능유형구분       도시고속도로\n",
       "도심/외곽구분          외곽\n",
       "권역구분            금천구\n",
       "01시            70.0\n",
       "02시            70.0\n",
       "03시            70.0\n",
       "04시            70.0\n",
       "05시            70.0\n",
       "06시            70.0\n",
       "07시            70.0\n",
       "08시            70.0\n",
       "09시            70.0\n",
       "10시            70.0\n",
       "11시            70.0\n",
       "12시            70.0\n",
       "13시            70.0\n",
       "14시            70.0\n",
       "15시            70.0\n",
       "16시            70.0\n",
       "17시            70.0\n",
       "18시            70.0\n",
       "19시            70.0\n",
       "20시            70.0\n",
       "21시            70.0\n",
       "22시            70.0\n",
       "23시            70.0\n",
       "24시            70.0\n",
       "STD             0.0"
      ]
     },
     "execution_count": 126,
     "metadata": {},
     "output_type": "execute_result"
    }
   ],
   "source": [
    "traffic_data.iloc[148797].to_frame()"
   ]
  },
  {
   "cell_type": "code",
   "execution_count": 117,
   "id": "c0a0ab70-64a9-44a8-8eea-6de90d57756b",
   "metadata": {},
   "outputs": [
    {
     "name": "stdout",
     "output_type": "stream",
     "text": [
      "11462\n"
     ]
    },
    {
     "data": {
      "text/plain": [
       "7.458063844462084"
      ]
     },
     "execution_count": 117,
     "metadata": {},
     "output_type": "execute_result"
    }
   ],
   "source": [
    "print(len(std_data[std_data > Q3*1.5]))\n",
    "len(std_data[std_data > Q3*1.5]) / len(traffic_data)*100"
   ]
  },
  {
   "cell_type": "code",
   "execution_count": 111,
   "id": "3709646d-7b2d-40f0-bd86-1b7b5aa0a653",
   "metadata": {},
   "outputs": [
    {
     "data": {
      "text/plain": [
       "153686"
      ]
     },
     "execution_count": 111,
     "metadata": {},
     "output_type": "execute_result"
    }
   ],
   "source": [
    "len(traffic_data)"
   ]
  },
  {
   "cell_type": "code",
   "execution_count": 110,
   "id": "7046e93a-5b12-4a89-a3ce-602658426447",
   "metadata": {},
   "outputs": [
    {
     "data": {
      "image/png": "[encoded data removed]",
      "text/plain": [
       "<Figure size 432x288 with 1 Axes>"
      ]
     },
     "metadata": {
      "needs_background": "light"
     },
     "output_type": "display_data"
    }
   ],
   "source": [
    "import seaborn as sns\n",
    "ax = sns.boxplot(x='STD',data=traffic_data)"
   ]
  },
  {
   "cell_type": "code",
   "execution_count": 119,
   "id": "da7291a1-c8af-48ba-a617-cb1416c701a1",
   "metadata": {},
   "outputs": [
    {
     "data": {
      "image/png": "[encoded data removed]",
      "text/plain": [
       "<Figure size 432x288 with 1 Axes>"
      ]
     },
     "metadata": {
      "needs_background": "light"
     },
     "output_type": "display_data"
    }
   ],
   "source": [
    "ax = sns.histplot(data=traffic_data,x='STD')"
   ]
  },
  {
   "cell_type": "markdown",
   "id": "5fec7110-4fc2-4715-980a-addd904f117e",
   "metadata": {},
   "source": [
    "일별 총 row수가 1억2천 정도된다...<br>\n",
    "각 column이 어떠한 의미를 가지는지 확인해보고 정제할 필요가 있다.<br>\n",
    "일단 21.01-21.06월까지의 데이터를 정제하는 것을 해보도록 하자."
   ]
  },
  {
   "cell_type": "code",
   "execution_count": 61,
   "id": "6ccf8dbf-afa5-48ae-bed5-2c089b66d95b",
   "metadata": {},
   "outputs": [
    {
     "data": {
      "text/html": [
       "<div>\n",
       "<style scoped>\n",
       "    .dataframe tbody tr th:only-of-type {\n",
       "        vertical-align: middle;\n",
       "    }\n",
       "\n",
       "    .dataframe tbody tr th {\n",
       "        vertical-align: top;\n",
       "    }\n",
       "\n",
       "    .dataframe thead th {\n",
       "        text-align: right;\n",
       "    }\n",
       "</style>\n",
       "<table border=\"1\" class=\"dataframe\">\n",
       "  <thead>\n",
       "    <tr style=\"text-align: right;\">\n",
       "      <th></th>\n",
       "      <th>2021-07-06 10:02:37.000</th>\n",
       "      <th>1000000100</th>\n",
       "      <th>34</th>\n",
       "      <th>0</th>\n",
       "      <th>0.1</th>\n",
       "      <th>0.2</th>\n",
       "      <th>0.3</th>\n",
       "      <th>0.4</th>\n",
       "      <th>0.5</th>\n",
       "    </tr>\n",
       "  </thead>\n",
       "  <tbody>\n",
       "    <tr>\n",
       "      <th>123292618</th>\n",
       "      <td>2021-07-06 21:21:00.000</td>\n",
       "      <td>4.180380e+09</td>\n",
       "      <td>62</td>\n",
       "      <td>0</td>\n",
       "      <td>0</td>\n",
       "      <td>0</td>\n",
       "      <td>0</td>\n",
       "      <td>0</td>\n",
       "      <td>0</td>\n",
       "    </tr>\n",
       "    <tr>\n",
       "      <th>123292619</th>\n",
       "      <td>2021-07-06 21:51:00.000</td>\n",
       "      <td>4.180380e+09</td>\n",
       "      <td>82</td>\n",
       "      <td>0</td>\n",
       "      <td>0</td>\n",
       "      <td>0</td>\n",
       "      <td>0</td>\n",
       "      <td>0</td>\n",
       "      <td>0</td>\n",
       "    </tr>\n",
       "    <tr>\n",
       "      <th>123292620</th>\n",
       "      <td>2021-07-06 21:56:00.000</td>\n",
       "      <td>4.180380e+09</td>\n",
       "      <td>82</td>\n",
       "      <td>0</td>\n",
       "      <td>0</td>\n",
       "      <td>0</td>\n",
       "      <td>0</td>\n",
       "      <td>0</td>\n",
       "      <td>0</td>\n",
       "    </tr>\n",
       "    <tr>\n",
       "      <th>123292621</th>\n",
       "      <td>2021-07-06 22:26:00.000</td>\n",
       "      <td>4.180380e+09</td>\n",
       "      <td>66</td>\n",
       "      <td>0</td>\n",
       "      <td>0</td>\n",
       "      <td>0</td>\n",
       "      <td>0</td>\n",
       "      <td>0</td>\n",
       "      <td>0</td>\n",
       "    </tr>\n",
       "    <tr>\n",
       "      <th>123292622</th>\n",
       "      <td>2021-07-06 22:31:00.000</td>\n",
       "      <td>4.180380e+09</td>\n",
       "      <td>66</td>\n",
       "      <td>0</td>\n",
       "      <td>0</td>\n",
       "      <td>0</td>\n",
       "      <td>0</td>\n",
       "      <td>0</td>\n",
       "      <td>0</td>\n",
       "    </tr>\n",
       "  </tbody>\n",
       "</table>\n",
       "</div>"
      ],
      "text/plain": [
       "           2021-07-06 10:02:37.000    1000000100  34  0  0.1  0.2  0.3  0.4  \\\n",
       "123292618  2021-07-06 21:21:00.000  4.180380e+09  62  0    0    0    0    0   \n",
       "123292619  2021-07-06 21:51:00.000  4.180380e+09  82  0    0    0    0    0   \n",
       "123292620  2021-07-06 21:56:00.000  4.180380e+09  82  0    0    0    0    0   \n",
       "123292621  2021-07-06 22:26:00.000  4.180380e+09  66  0    0    0    0    0   \n",
       "123292622  2021-07-06 22:31:00.000  4.180380e+09  66  0    0    0    0    0   \n",
       "\n",
       "           0.5  \n",
       "123292618    0  \n",
       "123292619    0  \n",
       "123292620    0  \n",
       "123292621    0  \n",
       "123292622    0  "
      ]
     },
     "metadata": {},
     "output_type": "display_data"
    },
    {
     "data": {
      "text/plain": [
       "123292623"
      ]
     },
     "metadata": {},
     "output_type": "display_data"
    }
   ],
   "source": [
    "display(traffic_data.tail())\n",
    "display(len(traffic_data))"
   ]
  },
  {
   "cell_type": "markdown",
   "id": "573a4090-5f8e-46bd-9c5d-203e79a322aa",
   "metadata": {},
   "source": [
    "1. data 다운로드\n",
    "2. 압축해제\n",
    "3. 다운로드 받은 데이터들을 open하여 data 수정(코드 작성하여 프로그램 돌려야 할듯)\n",
    "4. 수정 후 각 데이터들을 저장.\n",
    "---\n",
    "- 다운로드 받는 코드\n",
    "- 압축해제 후 다시 저장하는 코드\n",
    "- 데이터를 수정 후 다시 저장하는 코드\n",
    "마지막 두개 항목은 같이 작성해도 좋을 것 같다."
   ]
  },
  {
   "cell_type": "code",
   "execution_count": 136,
   "id": "6f73b1a7-54ce-4d22-9021-d931d5ec7a1e",
   "metadata": {},
   "outputs": [
    {
     "name": "stderr",
     "output_type": "stream",
     "text": [
      "C:\\Users\\user\\anaconda3\\lib\\site-packages\\matplotlib\\backends\\backend_agg.py:238: RuntimeWarning: Glyph 51068 missing from current font.\n",
      "  font.set_text(s, 0.0, flags=flags)\n",
      "C:\\Users\\user\\anaconda3\\lib\\site-packages\\matplotlib\\backends\\backend_agg.py:238: RuntimeWarning: Glyph 51088 missing from current font.\n",
      "  font.set_text(s, 0.0, flags=flags)\n",
      "C:\\Users\\user\\anaconda3\\lib\\site-packages\\matplotlib\\backends\\backend_agg.py:238: RuntimeWarning: Glyph 46020 missing from current font.\n",
      "  font.set_text(s, 0.0, flags=flags)\n",
      "C:\\Users\\user\\anaconda3\\lib\\site-packages\\matplotlib\\backends\\backend_agg.py:238: RuntimeWarning: Glyph 47196 missing from current font.\n",
      "  font.set_text(s, 0.0, flags=flags)\n",
      "C:\\Users\\user\\anaconda3\\lib\\site-packages\\matplotlib\\backends\\backend_agg.py:238: RuntimeWarning: Glyph 47749 missing from current font.\n",
      "  font.set_text(s, 0.0, flags=flags)\n",
      "C:\\Users\\user\\anaconda3\\lib\\site-packages\\matplotlib\\backends\\backend_agg.py:238: RuntimeWarning: Glyph 49884 missing from current font.\n",
      "  font.set_text(s, 0.0, flags=flags)\n",
      "C:\\Users\\user\\anaconda3\\lib\\site-packages\\matplotlib\\backends\\backend_agg.py:238: RuntimeWarning: Glyph 51216 missing from current font.\n",
      "  font.set_text(s, 0.0, flags=flags)\n",
      "C:\\Users\\user\\anaconda3\\lib\\site-packages\\matplotlib\\backends\\backend_agg.py:238: RuntimeWarning: Glyph 48169 missing from current font.\n",
      "  font.set_text(s, 0.0, flags=flags)\n",
      "C:\\Users\\user\\anaconda3\\lib\\site-packages\\matplotlib\\backends\\backend_agg.py:238: RuntimeWarning: Glyph 54693 missing from current font.\n",
      "  font.set_text(s, 0.0, flags=flags)\n",
      "C:\\Users\\user\\anaconda3\\lib\\site-packages\\matplotlib\\backends\\backend_agg.py:238: RuntimeWarning: Glyph 52264 missing from current font.\n",
      "  font.set_text(s, 0.0, flags=flags)\n",
      "C:\\Users\\user\\anaconda3\\lib\\site-packages\\matplotlib\\backends\\backend_agg.py:238: RuntimeWarning: Glyph 49440 missing from current font.\n",
      "  font.set_text(s, 0.0, flags=flags)\n",
      "C:\\Users\\user\\anaconda3\\lib\\site-packages\\matplotlib\\backends\\backend_agg.py:238: RuntimeWarning: Glyph 49688 missing from current font.\n",
      "  font.set_text(s, 0.0, flags=flags)\n",
      "C:\\Users\\user\\anaconda3\\lib\\site-packages\\matplotlib\\backends\\backend_agg.py:238: RuntimeWarning: Glyph 49900 missing from current font.\n",
      "  font.set_text(s, 0.0, flags=flags)\n",
      "C:\\Users\\user\\anaconda3\\lib\\site-packages\\matplotlib\\backends\\backend_agg.py:238: RuntimeWarning: Glyph 50808 missing from current font.\n",
      "  font.set_text(s, 0.0, flags=flags)\n",
      "C:\\Users\\user\\anaconda3\\lib\\site-packages\\matplotlib\\backends\\backend_agg.py:238: RuntimeWarning: Glyph 44285 missing from current font.\n",
      "  font.set_text(s, 0.0, flags=flags)\n",
      "C:\\Users\\user\\anaconda3\\lib\\site-packages\\matplotlib\\backends\\backend_agg.py:238: RuntimeWarning: Glyph 44396 missing from current font.\n",
      "  font.set_text(s, 0.0, flags=flags)\n",
      "C:\\Users\\user\\anaconda3\\lib\\site-packages\\matplotlib\\backends\\backend_agg.py:238: RuntimeWarning: Glyph 48516 missing from current font.\n",
      "  font.set_text(s, 0.0, flags=flags)\n",
      "C:\\Users\\user\\anaconda3\\lib\\site-packages\\matplotlib\\backends\\backend_agg.py:201: RuntimeWarning: Glyph 51068 missing from current font.\n",
      "  font.set_text(s, 0, flags=flags)\n",
      "C:\\Users\\user\\anaconda3\\lib\\site-packages\\matplotlib\\backends\\backend_agg.py:201: RuntimeWarning: Glyph 51088 missing from current font.\n",
      "  font.set_text(s, 0, flags=flags)\n",
      "C:\\Users\\user\\anaconda3\\lib\\site-packages\\matplotlib\\backends\\backend_agg.py:201: RuntimeWarning: Glyph 46020 missing from current font.\n",
      "  font.set_text(s, 0, flags=flags)\n",
      "C:\\Users\\user\\anaconda3\\lib\\site-packages\\matplotlib\\backends\\backend_agg.py:201: RuntimeWarning: Glyph 47196 missing from current font.\n",
      "  font.set_text(s, 0, flags=flags)\n",
      "C:\\Users\\user\\anaconda3\\lib\\site-packages\\matplotlib\\backends\\backend_agg.py:201: RuntimeWarning: Glyph 47749 missing from current font.\n",
      "  font.set_text(s, 0, flags=flags)\n",
      "C:\\Users\\user\\anaconda3\\lib\\site-packages\\matplotlib\\backends\\backend_agg.py:201: RuntimeWarning: Glyph 49884 missing from current font.\n",
      "  font.set_text(s, 0, flags=flags)\n",
      "C:\\Users\\user\\anaconda3\\lib\\site-packages\\matplotlib\\backends\\backend_agg.py:201: RuntimeWarning: Glyph 51216 missing from current font.\n",
      "  font.set_text(s, 0, flags=flags)\n",
      "C:\\Users\\user\\anaconda3\\lib\\site-packages\\matplotlib\\backends\\backend_agg.py:201: RuntimeWarning: Glyph 48169 missing from current font.\n",
      "  font.set_text(s, 0, flags=flags)\n",
      "C:\\Users\\user\\anaconda3\\lib\\site-packages\\matplotlib\\backends\\backend_agg.py:201: RuntimeWarning: Glyph 54693 missing from current font.\n",
      "  font.set_text(s, 0, flags=flags)\n",
      "C:\\Users\\user\\anaconda3\\lib\\site-packages\\matplotlib\\backends\\backend_agg.py:201: RuntimeWarning: Glyph 52264 missing from current font.\n",
      "  font.set_text(s, 0, flags=flags)\n",
      "C:\\Users\\user\\anaconda3\\lib\\site-packages\\matplotlib\\backends\\backend_agg.py:201: RuntimeWarning: Glyph 49440 missing from current font.\n",
      "  font.set_text(s, 0, flags=flags)\n",
      "C:\\Users\\user\\anaconda3\\lib\\site-packages\\matplotlib\\backends\\backend_agg.py:201: RuntimeWarning: Glyph 49688 missing from current font.\n",
      "  font.set_text(s, 0, flags=flags)\n",
      "C:\\Users\\user\\anaconda3\\lib\\site-packages\\matplotlib\\backends\\backend_agg.py:201: RuntimeWarning: Glyph 49900 missing from current font.\n",
      "  font.set_text(s, 0, flags=flags)\n",
      "C:\\Users\\user\\anaconda3\\lib\\site-packages\\matplotlib\\backends\\backend_agg.py:201: RuntimeWarning: Glyph 50808 missing from current font.\n",
      "  font.set_text(s, 0, flags=flags)\n",
      "C:\\Users\\user\\anaconda3\\lib\\site-packages\\matplotlib\\backends\\backend_agg.py:201: RuntimeWarning: Glyph 44285 missing from current font.\n",
      "  font.set_text(s, 0, flags=flags)\n",
      "C:\\Users\\user\\anaconda3\\lib\\site-packages\\matplotlib\\backends\\backend_agg.py:201: RuntimeWarning: Glyph 44396 missing from current font.\n",
      "  font.set_text(s, 0, flags=flags)\n",
      "C:\\Users\\user\\anaconda3\\lib\\site-packages\\matplotlib\\backends\\backend_agg.py:201: RuntimeWarning: Glyph 48516 missing from current font.\n",
      "  font.set_text(s, 0, flags=flags)\n"
     ]
    },
    {
     "data": {
      "text/plain": [
       "<AxesSubplot:>"
      ]
     },
     "execution_count": 136,
     "metadata": {},
     "output_type": "execute_result"
    },
    {
     "data": {
      "image/png": "[encoded data removed]",
      "text/plain": [
       "<Figure size 432x288 with 2 Axes>"
      ]
     },
     "metadata": {
      "needs_background": "light"
     },
     "output_type": "display_data"
    }
   ],
   "source": [
    "sns.heatmap(traffic_data.isnull())"
   ]
  }
 ],
 "metadata": {
  "kernelspec": {
   "display_name": "Python 3",
   "language": "python",
   "name": "python3"
  },
  "language_info": {
   "codemirror_mode": {
    "name": "ipython",
    "version": 3
   },
   "file_extension": ".py",
   "mimetype": "text/x-python",
   "name": "python",
   "nbconvert_exporter": "python",
   "pygments_lexer": "ipython3",
   "version": "3.8.11"
  }
 },
 "nbformat": 4,
 "nbformat_minor": 5
}
